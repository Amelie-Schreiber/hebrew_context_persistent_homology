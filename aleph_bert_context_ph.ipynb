{
 "cells": [
  {
   "cell_type": "code",
   "execution_count": 4,
   "metadata": {},
   "outputs": [
    {
     "name": "stdout",
     "output_type": "stream",
     "text": [
      "Note: you may need to restart the kernel to use updated packages.\n"
     ]
    }
   ],
   "source": [
    "pip install transformers torch numpy gudhi -q"
   ]
  },
  {
   "cell_type": "code",
   "execution_count": 5,
   "metadata": {},
   "outputs": [],
   "source": [
    "text = [\"בחופשה האחרונה שלנו, נסענו להכיר את היופיים של מדבר הנגב. בין אם מדובר בצוקים המרשימים, בחי הבר המיוחד, או בשקט המוחלט, יש משהו מאוד מיוחד במדבר. אחת החוויות המרגשות ביותר שלנו הייתה לצפות בזרחת השמש מעל המדבר. האור המתפשט מאחורי ההרים, השמים המשתנים מאוד מהיר מאופל לתכלת, והשלווה המוחלטת שאפשר רק במדבר, הכל הפך את החוויה לבלתי נשכחת\"]"
   ]
  },
  {
   "cell_type": "code",
   "execution_count": 6,
   "metadata": {},
   "outputs": [
    {
     "name": "stderr",
     "output_type": "stream",
     "text": [
      "Some weights of the model checkpoint at onlplab/alephbert-base were not used when initializing BertModel: ['cls.predictions.transform.LayerNorm.bias', 'cls.predictions.transform.dense.bias', 'cls.predictions.bias', 'cls.predictions.transform.LayerNorm.weight', 'cls.predictions.decoder.weight', 'cls.predictions.transform.dense.weight', 'cls.predictions.decoder.bias']\n",
      "- This IS expected if you are initializing BertModel from the checkpoint of a model trained on another task or with another architecture (e.g. initializing a BertForSequenceClassification model from a BertForPreTraining model).\n",
      "- This IS NOT expected if you are initializing BertModel from the checkpoint of a model that you expect to be exactly identical (initializing a BertForSequenceClassification model from a BertForSequenceClassification model).\n",
      "Some weights of BertModel were not initialized from the model checkpoint at onlplab/alephbert-base and are newly initialized: ['bert.pooler.dense.bias', 'bert.pooler.dense.weight']\n",
      "You should probably TRAIN this model on a down-stream task to be able to use it for predictions and inference.\n"
     ]
    },
    {
     "name": "stdout",
     "output_type": "stream",
     "text": [
      "torch.Size([1, 78, 64])\n",
      "tensor([[[ 0.3035,  0.2402, -0.0321,  ...,  0.1742, -0.1263,  0.4776],\n",
      "         [ 0.0258, -0.0080,  0.0079,  ...,  0.0030, -0.0345,  0.0095],\n",
      "         [ 0.0191, -0.0160,  0.0200,  ...,  0.0072, -0.0364,  0.0298],\n",
      "         ...,\n",
      "         [ 0.4255,  0.2766, -0.0907,  ..., -0.1337, -0.1989,  0.2239],\n",
      "         [ 0.0150,  0.0034,  0.0049,  ...,  0.0347, -0.0556,  0.0173],\n",
      "         [ 0.0465,  0.0294,  0.0098,  ...,  0.0577, -0.0460,  0.0722]]],\n",
      "       grad_fn=<CloneBackward0>)\n"
     ]
    }
   ],
   "source": [
    "import torch\n",
    "from transformers import BertTokenizer, BertModel\n",
    "from transformers import BertModel, BertTokenizerFast\n",
    "from transformers import AutoTokenizer, AutoModel\n",
    "\n",
    "\n",
    "def compute_output(sentence, layer, head):\n",
    "    # Load pre-trained model\n",
    "    \n",
    "    model = BertModel.from_pretrained('onlplab/alephbert-base', output_attentions=True)\n",
    "    tokenizer = BertTokenizer.from_pretrained('onlplab/alephbert-base')\n",
    "\n",
    "\n",
    "    # Tokenize input and convert to tensor\n",
    "    inputs = tokenizer(sentence, return_tensors=\"pt\")\n",
    "\n",
    "    # Forward pass\n",
    "    # Specify `output_hidden_states=True` when calling the model\n",
    "    outputs = model(**inputs, output_attentions=True, output_hidden_states=True)\n",
    "\n",
    "    # Obtain the attention weights\n",
    "    attentions = outputs.attentions\n",
    "\n",
    "    # Obtain the attention weights for the specific layer and head\n",
    "    S = attentions[layer][0, head]\n",
    "\n",
    "    # Obtain the value vectors\n",
    "    model.eval()\n",
    "    with torch.no_grad():\n",
    "        hidden_states = outputs.hidden_states[layer]\n",
    "        all_W_v = model.encoder.layer[layer].attention.self.value.weight\n",
    "        num_heads = model.config.num_attention_heads\n",
    "        head_dim = model.config.hidden_size // num_heads\n",
    "        W_v_heads = all_W_v.view(num_heads, head_dim, model.config.hidden_size)\n",
    "        W_v = W_v_heads[head]\n",
    "        V = torch.matmul(hidden_states, W_v.t())\n",
    "\n",
    "    # Compute the output O\n",
    "    O = torch.matmul(S, V)\n",
    "\n",
    "    return O\n",
    "\n",
    "# Set the layer and head to use for computation\n",
    "layer = 5\n",
    "head = 10\n",
    "\n",
    "# Compute the context vectors for each text in the corpus\n",
    "context = [compute_output(t, layer, head) for t in text]\n",
    "print(context[0].shape)\n",
    "print(context[0])"
   ]
  },
  {
   "cell_type": "code",
   "execution_count": 7,
   "metadata": {},
   "outputs": [
    {
     "name": "stdout",
     "output_type": "stream",
     "text": [
      "Barcode for text 0:\n"
     ]
    },
    {
     "data": {
      "image/png": "[encoded data removed]",
      "text/plain": [
       "<Figure size 640x480 with 1 Axes>"
      ]
     },
     "metadata": {},
     "output_type": "display_data"
    }
   ],
   "source": [
    "import matplotlib.pyplot as plt\n",
    "import numpy as np\n",
    "from scipy.spatial import distance_matrix\n",
    "import gudhi as gd\n",
    "\n",
    "def compute_distances_and_plot_barcode(output):\n",
    "    # Detach the output tensor, squeeze, and convert to numpy array\n",
    "    output_np = output.squeeze().detach().numpy()\n",
    "\n",
    "    # Compute the pairwise Euclidean distance matrix\n",
    "    distances = distance_matrix(output_np, output_np)\n",
    "\n",
    "    # Compute the persistent homology of the distance matrix\n",
    "    rips_complex = gd.RipsComplex(distance_matrix=distances, max_edge_length=np.max(distances))\n",
    "    simplex_tree = rips_complex.create_simplex_tree(max_dimension=2)\n",
    "    persistent_homology = simplex_tree.persistence(min_persistence=0.001)\n",
    "    \n",
    "    # Plot the barcode diagram\n",
    "    gd.plot_persistence_barcode(persistence=persistent_homology)\n",
    "    plt.show()\n",
    "\n",
    "# Compute the barcode diagrams for each context vector\n",
    "for i, output in enumerate(context):\n",
    "    print(f\"Barcode for text {i}:\")\n",
    "    compute_distances_and_plot_barcode(output)"
   ]
  },
  {
   "cell_type": "code",
   "execution_count": 8,
   "metadata": {},
   "outputs": [
    {
     "name": "stdout",
     "output_type": "stream",
     "text": [
      "Clusters for text 0:\n",
      "Cluster 0: האחרונה, שלנו, להכיר, של, מדובר, בצוק, מיוחד, המרגש, ##ות, החוויה, נשכחת\n",
      "Cluster 1: את, ##ים\n",
      "Cluster 2: המדבר, ##כלת\n",
      "Cluster 3: ##ווה, המוחלטת\n"
     ]
    }
   ],
   "source": [
    "from scipy.spatial.distance import pdist, squareform\n",
    "from sklearn.cluster import DBSCAN\n",
    "from transformers import BertTokenizer\n",
    "from transformers import BertModel, BertTokenizerFast\n",
    "\n",
    "def cluster_and_get_words(context, sentence, eps=0.08):\n",
    "    # Load pre-trained model tokenizer\n",
    "    tokenizer = BertTokenizer.from_pretrained('onlplab/alephbert-base')\n",
    "\n",
    "\n",
    "    # Tokenize input and convert to tensor\n",
    "    inputs = tokenizer(sentence, return_tensors=\"pt\")\n",
    "    tokens = tokenizer.convert_ids_to_tokens(inputs['input_ids'][0])\n",
    "\n",
    "    # Squeeze the context tensor to remove the batch size dimension\n",
    "    context = context.squeeze(0)\n",
    "\n",
    "    # Compute the pairwise distance matrix\n",
    "    distances = pdist(context.detach().numpy(), 'euclidean')\n",
    "    dist_matrix = squareform(distances)\n",
    "\n",
    "    # Run DBSCAN on the distance matrix\n",
    "    clustering = DBSCAN(eps=eps, min_samples=2, metric='precomputed').fit(dist_matrix)\n",
    "\n",
    "    # Get the words corresponding to each cluster\n",
    "    clusters = {}\n",
    "    for i, label in enumerate(clustering.labels_):\n",
    "        if label != -1:  # Ignore noise (-1 label)\n",
    "            if label not in clusters:\n",
    "                clusters[label] = []\n",
    "            clusters[label].append(tokens[i])\n",
    "\n",
    "    return clusters\n",
    "\n",
    "# Compute the clusters for each context vector\n",
    "clusters = []\n",
    "for i, output in enumerate(context):\n",
    "    print(f\"Clusters for text {i}:\")\n",
    "    clusters.append(cluster_and_get_words(output, text[i]))\n",
    "    for label, words in clusters[-1].items():\n",
    "        print(f\"Cluster {label}: {', '.join(words)}\")"
   ]
  },
  {
   "cell_type": "code",
   "execution_count": 9,
   "metadata": {},
   "outputs": [
    {
     "name": "stdout",
     "output_type": "stream",
     "text": [
      "Tokens of the sub-collection: ['לצפות', 'בזר', '##חת', 'השמש']\n",
      "Distance matrix: (4, 4)\n",
      "Distance matrix: [[0.         0.09860551 0.17952015 0.33579426]\n",
      " [0.09860551 0.         0.14441016 0.30864286]\n",
      " [0.17952015 0.14441016 0.         0.21437229]\n",
      " [0.33579426 0.30864286 0.21437229 0.        ]]\n"
     ]
    },
    {
     "data": {
      "image/png": "[encoded data removed]",
      "text/plain": [
       "<Figure size 640x480 with 1 Axes>"
      ]
     },
     "metadata": {},
     "output_type": "display_data"
    },
    {
     "data": {
      "text/plain": [
       "[(0, (0.0, inf)),\n",
       " (0, (0.0, 0.21437229242594233)),\n",
       " (0, (0.0, 0.1444101609459278)),\n",
       " (0, (0.0, 0.09860551172588955))]"
      ]
     },
     "execution_count": 9,
     "metadata": {},
     "output_type": "execute_result"
    }
   ],
   "source": [
    "from scipy.spatial import distance_matrix\n",
    "import gudhi as gd\n",
    "import numpy as np\n",
    "import matplotlib.pyplot as plt\n",
    "from transformers import BertTokenizer\n",
    "\n",
    "def compute_phrase_distances_and_homology(context_vectors, sentence, phrase):\n",
    "    # Initialize the tokenizer\n",
    "    tokenizer = BertTokenizer.from_pretrained('onlplab/alephbert-base')\n",
    "\n",
    "    # Tokenize the sentence and the phrase\n",
    "    sentence_tokens = tokenizer.encode(sentence, add_special_tokens=False)\n",
    "    phrase_tokens = tokenizer.encode(phrase, add_special_tokens=False)\n",
    "\n",
    "    # Find the indices of the phrase tokens in the sentence\n",
    "    phrase_indices = []\n",
    "    phrase_length = len(phrase_tokens)\n",
    "    for i in range(len(sentence_tokens) - phrase_length + 1):\n",
    "        if sentence_tokens[i:i+phrase_length] == phrase_tokens:\n",
    "            phrase_indices.extend(range(i, i+phrase_length))\n",
    "            break\n",
    "\n",
    "    # Extract the context vectors for the phrase\n",
    "    phrase_context_vectors = context_vectors[0, phrase_indices]\n",
    "\n",
    "    # Detach the tensor and convert to numpy array\n",
    "    phrase_context_vectors_np = phrase_context_vectors.detach().numpy()\n",
    "\n",
    "    # Print the tokens of the sub-collection and their context vectors\n",
    "    print(f'Tokens of the sub-collection: {tokenizer.convert_ids_to_tokens(phrase_tokens)}')\n",
    "    # print(f'Context vectors of the sub-collection: {phrase_context_vectors_np}')\n",
    "\n",
    "    # Compute the pairwise Euclidean distances among the phrase context vectors\n",
    "    distances = distance_matrix(phrase_context_vectors_np, phrase_context_vectors_np)\n",
    "\n",
    "    # Print the distance matrix\n",
    "    print(f'Distance matrix: {distances.shape}')\n",
    "    print(f'Distance matrix: {distances}')\n",
    "\n",
    "    # Compute the persistent homology of the distance matrix\n",
    "    rips_complex = gd.RipsComplex(distance_matrix=distances, max_edge_length=np.max(distances))\n",
    "    simplex_tree = rips_complex.create_simplex_tree(max_dimension=2)\n",
    "    persistent_homology = simplex_tree.persistence(min_persistence=0.001)\n",
    "\n",
    "    # Plot the barcode diagram\n",
    "    gd.plot_persistence_barcode(persistence=persistent_homology)\n",
    "    plt.show()\n",
    "\n",
    "    return persistent_homology\n",
    "\n",
    "# Assuming that 'context_vectors' is the tensor of context vectors for your sentence,\n",
    "# and 'sentence' is your original sentence, you can use the function like this:\n",
    "compute_phrase_distances_and_homology(context[0], text[0], \"לצפות בזרחת השמש\")"
   ]
  },
  {
   "cell_type": "code",
   "execution_count": 10,
   "metadata": {},
   "outputs": [],
   "source": [
    "text_2 = [\"במהלך שנת הלימודים הראשונה שלי באוניברסיטה, הצטרפתי לקבוצת טיול שהגיעה להר האייפל. למרות הקור החודר, הייתי מחויב לעלות לפסגה בכל בוקר, כדי לצפות בזרחת השמש מעל פריס\"]"
   ]
  },
  {
   "cell_type": "code",
   "execution_count": 11,
   "metadata": {},
   "outputs": [
    {
     "name": "stderr",
     "output_type": "stream",
     "text": [
      "Some weights of the model checkpoint at onlplab/alephbert-base were not used when initializing BertModel: ['cls.predictions.transform.LayerNorm.bias', 'cls.predictions.transform.dense.bias', 'cls.predictions.bias', 'cls.predictions.transform.LayerNorm.weight', 'cls.predictions.decoder.weight', 'cls.predictions.transform.dense.weight', 'cls.predictions.decoder.bias']\n",
      "- This IS expected if you are initializing BertModel from the checkpoint of a model trained on another task or with another architecture (e.g. initializing a BertForSequenceClassification model from a BertForPreTraining model).\n",
      "- This IS NOT expected if you are initializing BertModel from the checkpoint of a model that you expect to be exactly identical (initializing a BertForSequenceClassification model from a BertForSequenceClassification model).\n",
      "Some weights of BertModel were not initialized from the model checkpoint at onlplab/alephbert-base and are newly initialized: ['bert.pooler.dense.bias', 'bert.pooler.dense.weight']\n",
      "You should probably TRAIN this model on a down-stream task to be able to use it for predictions and inference.\n"
     ]
    },
    {
     "name": "stdout",
     "output_type": "stream",
     "text": [
      "Tokens of the sub-collection: ['לצפות', 'בזר', '##חת', 'השמש']\n",
      "Distance matrix: (4, 4)\n",
      "Distance matrix: [[0.         0.28245718 0.30554433 0.35210029]\n",
      " [0.28245718 0.         0.11872923 0.22813549]\n",
      " [0.30554433 0.11872923 0.         0.18108632]\n",
      " [0.35210029 0.22813549 0.18108632 0.        ]]\n"
     ]
    },
    {
     "data": {
      "image/png": "[encoded data removed]",
      "text/plain": [
       "<Figure size 640x480 with 1 Axes>"
      ]
     },
     "metadata": {},
     "output_type": "display_data"
    },
    {
     "data": {
      "text/plain": [
       "[(0, (0.0, inf)),\n",
       " (0, (0.0, 0.2824571776464841)),\n",
       " (0, (0.0, 0.18108632483956882)),\n",
       " (0, (0.0, 0.11872923029461012))]"
      ]
     },
     "execution_count": 11,
     "metadata": {},
     "output_type": "execute_result"
    }
   ],
   "source": [
    "context_2 = [compute_output(t, layer, head) for t in text_2]\n",
    "compute_phrase_distances_and_homology(context_2[0], text_2[0], \"לצפות בזרחת השמש\")"
   ]
  },
  {
   "cell_type": "code",
   "execution_count": 12,
   "metadata": {},
   "outputs": [
    {
     "name": "stdout",
     "output_type": "stream",
     "text": [
      "Tokens of the sub-collection: ['לצפות', 'בזר', '##חת', 'השמש']\n",
      "Distance matrix: (4, 4)\n",
      "Distance matrix: [[0.         0.09860551 0.17952015 0.33579426]\n",
      " [0.09860551 0.         0.14441016 0.30864286]\n",
      " [0.17952015 0.14441016 0.         0.21437229]\n",
      " [0.33579426 0.30864286 0.21437229 0.        ]]\n"
     ]
    },
    {
     "data": {
      "image/png": "[encoded data removed]",
      "text/plain": [
       "<Figure size 640x480 with 1 Axes>"
      ]
     },
     "metadata": {},
     "output_type": "display_data"
    },
    {
     "name": "stdout",
     "output_type": "stream",
     "text": [
      "Tokens of the sub-collection: ['לצפות', 'בזר', '##חת', 'השמש']\n",
      "Distance matrix: (4, 4)\n",
      "Distance matrix: [[0.         0.28245718 0.30554433 0.35210029]\n",
      " [0.28245718 0.         0.11872923 0.22813549]\n",
      " [0.30554433 0.11872923 0.         0.18108632]\n",
      " [0.35210029 0.22813549 0.18108632 0.        ]]\n"
     ]
    },
    {
     "data": {
      "image/png": "[encoded data removed]",
      "text/plain": [
       "<Figure size 640x480 with 1 Axes>"
      ]
     },
     "metadata": {},
     "output_type": "display_data"
    },
    {
     "name": "stdout",
     "output_type": "stream",
     "text": [
      "Bottleneck distance: 0.06808488522054176\n",
      "Wasserstein distance: = 0.12\n"
     ]
    }
   ],
   "source": [
    "# from gudhi.wasserstein import wasserstein_distance \n",
    "# Could also be: \n",
    "from gudhi.hera import wasserstein_distance\n",
    "import numpy as np\n",
    "\n",
    "# Compute the persistent homology\n",
    "persistent_homology_1 = compute_phrase_distances_and_homology(context[0], text[0], \"לצפות בזרחת השמש\")\n",
    "persistent_homology_2 = compute_phrase_distances_and_homology(context_2[0], text_2[0], \"לצפות בזרחת השמש\")\n",
    "\n",
    "# Convert the persistent homology data to a numpy array\n",
    "persistent_homology_np_1 = np.array([[pt[1][0], pt[1][1]] for pt in persistent_homology_1 if pt[1][1] != float('inf')])\n",
    "persistent_homology_np_2 = np.array([[pt[1][0], pt[1][1]] for pt in persistent_homology_2 if pt[1][1] != float('inf')])\n",
    "\n",
    "# Compute and print the bottleneck distance\n",
    "bottleneck_dist = gd.bottleneck_distance(persistent_homology_np_1, persistent_homology_np_2)\n",
    "print(f\"Bottleneck distance: {bottleneck_dist}\")\n",
    "\n",
    "# Compute and print the Wasserstein distance\n",
    "print(f\"Wasserstein distance: = {wasserstein_distance(persistent_homology_np_1, persistent_homology_np_2, order=1., internal_p=2.):.2f}\")"
   ]
  },
  {
   "cell_type": "code",
   "execution_count": 13,
   "metadata": {},
   "outputs": [],
   "source": [
    "text_3 = [\"הלמידה העמוקה היא תת תחום של הלמידה החישובית המשתמשת ברשתות נוירוניות מלאכותיות. בעזרת אלגוריתמים מורכבים, הלמידה העמוקה מאפשרת למחשבים ללמוד מתוך נתונים מרובים המתארים מציאות מסוימת. המטרה העיקרית של הלמידה העמוקה היא חקירת איך ניתן להגיע למסקנות מדויקות באמצעות הפעלת תהליכים חישוביים מרובים.\"]\n",
    "\n",
    "text_4 = [\"חישוב קוואנטי הוא תחום במדע המחשב המתמקד בפיתוח מחשבים המבוססים על מכניקת הקוונטים. בניגוד למחשבים קלאסיים, מחשב קוואנטי מסוגל לבצע חישובים מרובים בו זמנית, מה שמאפשר לו לפתור בעיות מורכבות בצורה מהירה יותר. בחישוב הקוואנטי, המטרה העיקרית היא להגיע למסקנות מדויקות באמצעות הפעלת תהליכים חישוביים מרובים.\"]"
   ]
  },
  {
   "cell_type": "code",
   "execution_count": 15,
   "metadata": {},
   "outputs": [
    {
     "name": "stderr",
     "output_type": "stream",
     "text": [
      "Some weights of the model checkpoint at onlplab/alephbert-base were not used when initializing BertModel: ['cls.predictions.transform.LayerNorm.bias', 'cls.predictions.transform.dense.bias', 'cls.predictions.bias', 'cls.predictions.transform.LayerNorm.weight', 'cls.predictions.decoder.weight', 'cls.predictions.transform.dense.weight', 'cls.predictions.decoder.bias']\n",
      "- This IS expected if you are initializing BertModel from the checkpoint of a model trained on another task or with another architecture (e.g. initializing a BertForSequenceClassification model from a BertForPreTraining model).\n",
      "- This IS NOT expected if you are initializing BertModel from the checkpoint of a model that you expect to be exactly identical (initializing a BertForSequenceClassification model from a BertForSequenceClassification model).\n",
      "Some weights of BertModel were not initialized from the model checkpoint at onlplab/alephbert-base and are newly initialized: ['bert.pooler.dense.bias', 'bert.pooler.dense.weight']\n",
      "You should probably TRAIN this model on a down-stream task to be able to use it for predictions and inference.\n",
      "Some weights of the model checkpoint at onlplab/alephbert-base were not used when initializing BertModel: ['cls.predictions.transform.LayerNorm.bias', 'cls.predictions.transform.dense.bias', 'cls.predictions.bias', 'cls.predictions.transform.LayerNorm.weight', 'cls.predictions.decoder.weight', 'cls.predictions.transform.dense.weight', 'cls.predictions.decoder.bias']\n",
      "- This IS expected if you are initializing BertModel from the checkpoint of a model trained on another task or with another architecture (e.g. initializing a BertForSequenceClassification model from a BertForPreTraining model).\n",
      "- This IS NOT expected if you are initializing BertModel from the checkpoint of a model that you expect to be exactly identical (initializing a BertForSequenceClassification model from a BertForSequenceClassification model).\n",
      "Some weights of BertModel were not initialized from the model checkpoint at onlplab/alephbert-base and are newly initialized: ['bert.pooler.dense.bias', 'bert.pooler.dense.weight']\n",
      "You should probably TRAIN this model on a down-stream task to be able to use it for predictions and inference.\n"
     ]
    }
   ],
   "source": [
    "context_3 = [compute_output(t, layer, head) for t in text_3]\n",
    "\n",
    "context_4 = [compute_output(t, layer, head) for t in text_4]"
   ]
  },
  {
   "cell_type": "code",
   "execution_count": 16,
   "metadata": {},
   "outputs": [
    {
     "name": "stdout",
     "output_type": "stream",
     "text": [
      "Tokens of the sub-collection: ['למסקנות', 'מדויקות']\n",
      "Distance matrix: (2, 2)\n",
      "Distance matrix: [[0.         0.38054908]\n",
      " [0.38054908 0.        ]]\n"
     ]
    },
    {
     "data": {
      "image/png": "[encoded data removed]",
      "text/plain": [
       "<Figure size 640x480 with 1 Axes>"
      ]
     },
     "metadata": {},
     "output_type": "display_data"
    },
    {
     "name": "stdout",
     "output_type": "stream",
     "text": [
      "Tokens of the sub-collection: ['למסקנות', 'מדויקות']\n",
      "Distance matrix: (2, 2)\n",
      "Distance matrix: [[0.         0.31217061]\n",
      " [0.31217061 0.        ]]\n"
     ]
    },
    {
     "data": {
      "image/png": "[encoded data removed]",
      "text/plain": [
       "<Figure size 640x480 with 1 Axes>"
      ]
     },
     "metadata": {},
     "output_type": "display_data"
    },
    {
     "name": "stdout",
     "output_type": "stream",
     "text": [
      "Bottleneck distance: 0.06837846912907486\n",
      "Wasserstein distance: = 0.07\n"
     ]
    }
   ],
   "source": [
    "# Compute the persistent homology\n",
    "persistent_homology_1 = compute_phrase_distances_and_homology(context_3[0], text_3[0], \"למסקנות מדויקות\")\n",
    "persistent_homology_2 = compute_phrase_distances_and_homology(context_4[0], text_4[0], \"למסקנות מדויקות\")\n",
    "\n",
    "# Convert the persistent homology data to a numpy array\n",
    "persistent_homology_np_1 = np.array([[pt[1][0], pt[1][1]] for pt in persistent_homology_1 if pt[1][1] != float('inf')])\n",
    "persistent_homology_np_2 = np.array([[pt[1][0], pt[1][1]] for pt in persistent_homology_2 if pt[1][1] != float('inf')])\n",
    "\n",
    "# Compute and print the bottleneck distance\n",
    "bottleneck_dist = gd.bottleneck_distance(persistent_homology_np_1, persistent_homology_np_2)\n",
    "print(f\"Bottleneck distance: {bottleneck_dist}\")\n",
    "\n",
    "# Compute and print the Wasserstein distance\n",
    "print(f\"Wasserstein distance: = {wasserstein_distance(persistent_homology_np_1, persistent_homology_np_2, order=1., internal_p=2.):.2f}\")"
   ]
  },
  {
   "cell_type": "code",
   "execution_count": 17,
   "metadata": {},
   "outputs": [
    {
     "name": "stdout",
     "output_type": "stream",
     "text": [
      "Tokens of the sub-collection: ['להגיע', 'למסקנות', 'מדויקות', 'באמצעות', 'הפעלת', 'תהליכים', 'חישוב', '##יים', 'מרובים']\n",
      "Distance matrix: (9, 9)\n",
      "Distance matrix: [[0.         0.33814995 0.1376275  0.21841651 0.38440509 2.63234066\n",
      "  0.30687998 0.22182205 0.26890124]\n",
      " [0.33814995 0.         0.38054908 0.53060958 0.49112651 2.54677485\n",
      "  0.5260591  0.52175045 0.58343392]\n",
      " [0.1376275  0.38054908 0.         0.17914719 0.4268756  2.68039844\n",
      "  0.3375294  0.19511669 0.23641797]\n",
      " [0.21841651 0.53060958 0.17914719 0.         0.48048308 2.74820208\n",
      "  0.33606821 0.11956641 0.0717541 ]\n",
      " [0.38440509 0.49112651 0.4268756  0.48048308 0.         2.27633009\n",
      "  0.1927352  0.38178496 0.49908129]\n",
      " [2.63234066 2.54677485 2.68039844 2.74820208 2.27633009 0.\n",
      "  2.41904709 2.64092151 2.75365021]\n",
      " [0.30687998 0.5260591  0.3375294  0.33606821 0.1927352  2.41904709\n",
      "  0.         0.22870248 0.33542415]\n",
      " [0.22182205 0.52175045 0.19511669 0.11956641 0.38178496 2.64092151\n",
      "  0.22870248 0.         0.12597855]\n",
      " [0.26890124 0.58343392 0.23641797 0.0717541  0.49908129 2.75365021\n",
      "  0.33542415 0.12597855 0.        ]]\n"
     ]
    },
    {
     "data": {
      "image/png": "[encoded data removed]",
      "text/plain": [
       "<Figure size 640x480 with 1 Axes>"
      ]
     },
     "metadata": {},
     "output_type": "display_data"
    },
    {
     "name": "stdout",
     "output_type": "stream",
     "text": [
      "Tokens of the sub-collection: ['להגיע', 'למסקנות', 'מדויקות', 'באמצעות', 'הפעלת', 'תהליכים', 'חישוב', '##יים', 'מרובים']\n",
      "Distance matrix: (9, 9)\n",
      "Distance matrix: [[0.         0.41185533 0.28343167 0.18935017 0.35437299 3.36864246\n",
      "  0.82114168 0.29570197 0.24258179]\n",
      " [0.41185533 0.         0.31217061 0.38630048 0.41937159 3.24152754\n",
      "  0.78044748 0.43693796 0.48394332]\n",
      " [0.28343167 0.31217061 0.         0.17023722 0.28729827 3.29505397\n",
      "  0.75708029 0.25136291 0.27112856]\n",
      " [0.18935017 0.38630048 0.17023722 0.         0.29796324 3.36645123\n",
      "  0.8012017  0.21576713 0.13481254]\n",
      " [0.35437299 0.41937159 0.28729827 0.29796324 0.         3.07753156\n",
      "  0.51488158 0.14349862 0.32259456]\n",
      " [3.36864246 3.24152754 3.29505397 3.36645123 3.07753156 0.\n",
      "  2.57404978 3.18281534 3.37456177]\n",
      " [0.82114168 0.78044748 0.75708029 0.8012017  0.51488158 2.57404978\n",
      "  0.         0.61340388 0.80111295]\n",
      " [0.29570197 0.43693796 0.25136291 0.21576713 0.14349862 3.18281534\n",
      "  0.61340388 0.         0.20747072]\n",
      " [0.24258179 0.48394332 0.27112856 0.13481254 0.32259456 3.37456177\n",
      "  0.80111295 0.20747072 0.        ]]\n"
     ]
    },
    {
     "data": {
      "image/png": "[encoded data removed]",
      "text/plain": [
       "<Figure size 640x480 with 1 Axes>"
      ]
     },
     "metadata": {},
     "output_type": "display_data"
    },
    {
     "name": "stdout",
     "output_type": "stream",
     "text": [
      "Bottleneck distance: 0.2977196940464846\n",
      "Wasserstein distance: = 0.70\n"
     ]
    }
   ],
   "source": [
    "# Compute the persistent homology\n",
    "persistent_homology_1 = compute_phrase_distances_and_homology(context_3[0], text_3[0],  \"להגיע למסקנות מדויקות באמצעות הפעלת תהליכים חישוביים מרובים\")\n",
    "persistent_homology_2 = compute_phrase_distances_and_homology(context_4[0], text_4[0],  \"להגיע למסקנות מדויקות באמצעות הפעלת תהליכים חישוביים מרובים\")\n",
    "\n",
    "# Convert the persistent homology data to a numpy array\n",
    "persistent_homology_np_1 = np.array([[pt[1][0], pt[1][1]] for pt in persistent_homology_1 if pt[1][1] != float('inf')])\n",
    "persistent_homology_np_2 = np.array([[pt[1][0], pt[1][1]] for pt in persistent_homology_2 if pt[1][1] != float('inf')])\n",
    "\n",
    "# Compute and print the bottleneck distance\n",
    "bottleneck_dist = gd.bottleneck_distance(persistent_homology_np_1, persistent_homology_np_2)\n",
    "print(f\"Bottleneck distance: {bottleneck_dist}\")\n",
    "\n",
    "# Compute and print the Wasserstein distance\n",
    "print(f\"Wasserstein distance: = {wasserstein_distance(persistent_homology_np_1, persistent_homology_np_2, order=1., internal_p=2.):.2f}\")"
   ]
  },
  {
   "cell_type": "code",
   "execution_count": null,
   "metadata": {},
   "outputs": [],
   "source": []
  }
 ],
 "metadata": {
  "kernelspec": {
   "display_name": "env_1",
   "language": "python",
   "name": "python3"
  },
  "language_info": {
   "codemirror_mode": {
    "name": "ipython",
    "version": 3
   },
   "file_extension": ".py",
   "mimetype": "text/x-python",
   "name": "python",
   "nbconvert_exporter": "python",
   "pygments_lexer": "ipython3",
   "version": "3.10.11"
  },
  "orig_nbformat": 4
 },
 "nbformat": 4,
 "nbformat_minor": 2
}
