{
 "cells": [
  {
   "cell_type": "code",
   "execution_count": 4,
   "metadata": {},
   "outputs": [
    {
     "name": "stdout",
     "output_type": "stream",
     "text": [
      "Note: you may need to restart the kernel to use updated packages.\n"
     ]
    }
   ],
   "source": [
    "pip install transformers torch numpy gudhi -q"
   ]
  },
  {
   "cell_type": "code",
   "execution_count": 5,
   "metadata": {},
   "outputs": [],
   "source": [
    "text = [\"בחופשה האחרונה שלנו, נסענו להכיר את היופיים של מדבר הנגב. בין אם מדובר בצוקים המרשימים, בחי הבר המיוחד, או בשקט המוחלט, יש משהו מאוד מיוחד במדבר. אחת החוויות המרגשות ביותר שלנו הייתה לצפות בזרחת השמש מעל המדבר. האור המתפשט מאחורי ההרים, השמים המשתנים מאוד מהיר מאופל לתכלת, והשלווה המוחלטת שאפשר רק במדבר, הכל הפך את החוויה לבלתי נשכחת\"]"
   ]
  },
  {
   "cell_type": "code",
   "execution_count": 6,
   "metadata": {},
   "outputs": [
    {
     "name": "stderr",
     "output_type": "stream",
     "text": [
      "Some weights of the model checkpoint at bert-base-multilingual-cased were not used when initializing BertModel: ['cls.predictions.transform.dense.bias', 'cls.predictions.transform.dense.weight', 'cls.predictions.transform.LayerNorm.weight', 'cls.predictions.bias', 'cls.predictions.transform.LayerNorm.bias', 'cls.seq_relationship.bias', 'cls.seq_relationship.weight']\n",
      "- This IS expected if you are initializing BertModel from the checkpoint of a model trained on another task or with another architecture (e.g. initializing a BertForSequenceClassification model from a BertForPreTraining model).\n",
      "- This IS NOT expected if you are initializing BertModel from the checkpoint of a model that you expect to be exactly identical (initializing a BertForSequenceClassification model from a BertForSequenceClassification model).\n"
     ]
    },
    {
     "name": "stdout",
     "output_type": "stream",
     "text": [
      "torch.Size([1, 147, 64])\n",
      "tensor([[[-0.3174,  0.3277,  0.6378,  ...,  0.2120,  0.2191, -0.4791],\n",
      "         [ 0.1514,  0.0929, -0.1525,  ..., -0.0491, -0.0825, -0.1321],\n",
      "         [ 0.7195,  0.5729,  0.1636,  ...,  0.0853, -0.2053, -0.0604],\n",
      "         ...,\n",
      "         [-0.4786, -0.6224,  0.0959,  ..., -0.6395,  0.2403, -0.1524],\n",
      "         [-0.4651, -0.8047, -0.1828,  ..., -0.9204,  0.1743,  0.3936],\n",
      "         [-0.6856,  0.4070,  0.6870,  ..., -0.1002, -0.2549,  0.2398]]],\n",
      "       grad_fn=<CloneBackward0>)\n"
     ]
    }
   ],
   "source": [
    "import torch\n",
    "from transformers import BertTokenizer, BertModel\n",
    "from transformers import BertModel, BertTokenizerFast\n",
    "from transformers import AutoTokenizer, AutoModel\n",
    "\n",
    "\n",
    "def compute_output(sentence, layer, head):\n",
    "    # Load pre-trained model\n",
    "    model = BertModel.from_pretrained('bert-base-multilingual-cased', output_attentions=True)\n",
    "    tokenizer = BertTokenizer.from_pretrained('bert-base-multilingual-cased')\n",
    "\n",
    "\n",
    "    # Tokenize input and convert to tensor\n",
    "    inputs = tokenizer(sentence, return_tensors=\"pt\")\n",
    "\n",
    "    # Forward pass\n",
    "    # Specify `output_hidden_states=True` when calling the model\n",
    "    outputs = model(**inputs, output_attentions=True, output_hidden_states=True)\n",
    "\n",
    "    # Obtain the attention weights\n",
    "    attentions = outputs.attentions\n",
    "\n",
    "    # Obtain the attention weights for the specific layer and head\n",
    "    S = attentions[layer][0, head]\n",
    "\n",
    "    # Obtain the value vectors\n",
    "    model.eval()\n",
    "    with torch.no_grad():\n",
    "        hidden_states = outputs.hidden_states[layer]\n",
    "        all_W_v = model.encoder.layer[layer].attention.self.value.weight\n",
    "        num_heads = model.config.num_attention_heads\n",
    "        head_dim = model.config.hidden_size // num_heads\n",
    "        W_v_heads = all_W_v.view(num_heads, head_dim, model.config.hidden_size)\n",
    "        W_v = W_v_heads[head]\n",
    "        V = torch.matmul(hidden_states, W_v.t())\n",
    "\n",
    "    # Compute the output O\n",
    "    O = torch.matmul(S, V)\n",
    "\n",
    "    return O\n",
    "\n",
    "# Set the layer and head to use for computation\n",
    "layer = 5\n",
    "head = 10\n",
    "\n",
    "# Compute the context vectors for each text in the corpus\n",
    "context = [compute_output(t, layer, head) for t in text]\n",
    "print(context[0].shape)\n",
    "print(context[0])"
   ]
  },
  {
   "cell_type": "code",
   "execution_count": 7,
   "metadata": {},
   "outputs": [
    {
     "name": "stdout",
     "output_type": "stream",
     "text": [
      "Barcode for text 0:\n"
     ]
    },
    {
     "data": {
      "image/png": "[encoded data removed]",
      "text/plain": [
       "<Figure size 640x480 with 1 Axes>"
      ]
     },
     "metadata": {},
     "output_type": "display_data"
    }
   ],
   "source": [
    "import matplotlib.pyplot as plt\n",
    "import numpy as np\n",
    "from scipy.spatial import distance_matrix\n",
    "import gudhi as gd\n",
    "\n",
    "def compute_distances_and_plot_barcode(output):\n",
    "    # Detach the output tensor, squeeze, and convert to numpy array\n",
    "    output_np = output.squeeze().detach().numpy()\n",
    "\n",
    "    # Compute the pairwise Euclidean distance matrix\n",
    "    distances = distance_matrix(output_np, output_np)\n",
    "\n",
    "    # Compute the persistent homology of the distance matrix\n",
    "    rips_complex = gd.RipsComplex(distance_matrix=distances, max_edge_length=np.max(distances))\n",
    "    simplex_tree = rips_complex.create_simplex_tree(max_dimension=2)\n",
    "    persistent_homology = simplex_tree.persistence(min_persistence=0.001)\n",
    "    \n",
    "    # Plot the barcode diagram\n",
    "    gd.plot_persistence_barcode(persistence=persistent_homology)\n",
    "    plt.show()\n",
    "\n",
    "# Compute the barcode diagrams for each context vector\n",
    "for i, output in enumerate(context):\n",
    "    print(f\"Barcode for text {i}:\")\n",
    "    compute_distances_and_plot_barcode(output)"
   ]
  },
  {
   "cell_type": "code",
   "execution_count": 8,
   "metadata": {},
   "outputs": [
    {
     "name": "stdout",
     "output_type": "stream",
     "text": [
      "Clusters for text 0:\n",
      "Cluster 0: [CLS], [SEP]\n",
      "Cluster 1: ב, ##פש, נ, ., בין, ., אחת, ל, מעל, ., ה, ה, ##ים, ,, ה, ה, ו, ה, ,, הכל\n",
      "Cluster 2: ##חו, ##צו, ##חי, ##ש, ##מד, ##זר, ##א, ##או, ##ת, ##מד\n",
      "Cluster 3: של, ,, ,, ביותר, של\n",
      "Cluster 4: ##נו, ##נו\n",
      "Cluster 5: ,, הייתה\n",
      "Cluster 6: את, היו, של, מ\n",
      "Cluster 7: ##נג, ##מר, ##בר, ##מי, ##מו, ##מת, ##מש, ##מו\n",
      "Cluster 8: ##קים, ##קט\n",
      "Cluster 9: ##שי, ##חל, ##גש\n",
      "Cluster 10: ב, או\n",
      "Cluster 11: ה, מאוד\n",
      "Cluster 12: ,, ב\n",
      "Cluster 13: ##בר, ##בר, ##בר\n",
      "Cluster 14: ##ויות, ##ויה\n",
      "Cluster 15: ##פות, ##חת, ##חורי, ##פל\n",
      "Cluster 16: ##שמש, ##מד, ##אור, ##הר, ##שמי, ##של, ##חו\n"
     ]
    }
   ],
   "source": [
    "from scipy.spatial.distance import pdist, squareform\n",
    "from sklearn.cluster import DBSCAN\n",
    "from transformers import BertTokenizer\n",
    "from transformers import BertModel, BertTokenizerFast\n",
    "\n",
    "def cluster_and_get_words(context, sentence, eps=3.1):\n",
    "    # Load pre-trained model tokenizer\n",
    "    tokenizer = BertTokenizer.from_pretrained('bert-base-multilingual-cased')\n",
    "\n",
    "\n",
    "    # Tokenize input and convert to tensor\n",
    "    inputs = tokenizer(sentence, return_tensors=\"pt\")\n",
    "    tokens = tokenizer.convert_ids_to_tokens(inputs['input_ids'][0])\n",
    "\n",
    "    # Squeeze the context tensor to remove the batch size dimension\n",
    "    context = context.squeeze(0)\n",
    "\n",
    "    # Compute the pairwise distance matrix\n",
    "    distances = pdist(context.detach().numpy(), 'euclidean')\n",
    "    dist_matrix = squareform(distances)\n",
    "\n",
    "    # Run DBSCAN on the distance matrix\n",
    "    clustering = DBSCAN(eps=eps, min_samples=2, metric='precomputed').fit(dist_matrix)\n",
    "\n",
    "    # Get the words corresponding to each cluster\n",
    "    clusters = {}\n",
    "    for i, label in enumerate(clustering.labels_):\n",
    "        if label != -1:  # Ignore noise (-1 label)\n",
    "            if label not in clusters:\n",
    "                clusters[label] = []\n",
    "            clusters[label].append(tokens[i])\n",
    "\n",
    "    return clusters\n",
    "\n",
    "# Compute the clusters for each context vector\n",
    "clusters = []\n",
    "for i, output in enumerate(context):\n",
    "    print(f\"Clusters for text {i}:\")\n",
    "    clusters.append(cluster_and_get_words(output, text[i]))\n",
    "    for label, words in clusters[-1].items():\n",
    "        print(f\"Cluster {label}: {', '.join(words)}\")"
   ]
  },
  {
   "cell_type": "code",
   "execution_count": 10,
   "metadata": {},
   "outputs": [
    {
     "name": "stdout",
     "output_type": "stream",
     "text": [
      "Tokens of the sub-collection: ['ל', '##צ', '##פות', 'ב', '##זר', '##חת', 'ה', '##שמש']\n",
      "Distance matrix: (8, 8)\n",
      "Distance matrix: [[0.         4.0633042  3.98365277 4.3551616  4.95406213 4.90115186\n",
      "  5.22520398 5.29982593]\n",
      " [4.0633042  0.         3.50305438 3.77007615 3.83341578 3.67162592\n",
      "  4.5562389  4.42323636]\n",
      " [3.98365277 3.50305438 0.         3.7532835  4.1831848  3.36846508\n",
      "  4.66304063 4.6294333 ]\n",
      " [4.3551616  3.77007615 3.7532835  0.         4.1618779  4.10245108\n",
      "  3.08241912 4.2238441 ]\n",
      " [4.95406213 3.83341578 4.1831848  4.1618779  0.         3.99509098\n",
      "  4.73454433 3.66441512]\n",
      " [4.90115186 3.67162592 3.36846508 4.10245108 3.99509098 0.\n",
      "  4.64574744 3.79029251]\n",
      " [5.22520398 4.5562389  4.66304063 3.08241912 4.73454433 4.64574744\n",
      "  0.         3.92752903]\n",
      " [5.29982593 4.42323636 4.6294333  4.2238441  3.66441512 3.79029251\n",
      "  3.92752903 0.        ]]\n"
     ]
    },
    {
     "data": {
      "image/png": "[encoded data removed]",
      "text/plain": [
       "<Figure size 640x480 with 1 Axes>"
      ]
     },
     "metadata": {},
     "output_type": "display_data"
    },
    {
     "data": {
      "text/plain": [
       "[(1, (3.92752902561757, 4.223844098562913)),\n",
       " (1, (3.833415783447155, 3.99509098384469)),\n",
       " (0, (0.0, inf)),\n",
       " (0, (0.0, 3.9836527708464757)),\n",
       " (0, (0.0, 3.7902925083413677)),\n",
       " (0, (0.0, 3.753283495892035)),\n",
       " (0, (0.0, 3.664415121828334)),\n",
       " (0, (0.0, 3.503054382235859)),\n",
       " (0, (0.0, 3.3684650812412604)),\n",
       " (0, (0.0, 3.0824191163413346))]"
      ]
     },
     "execution_count": 10,
     "metadata": {},
     "output_type": "execute_result"
    }
   ],
   "source": [
    "from scipy.spatial import distance_matrix\n",
    "import gudhi as gd\n",
    "import numpy as np\n",
    "import matplotlib.pyplot as plt\n",
    "from transformers import BertTokenizer\n",
    "\n",
    "def compute_phrase_distances_and_homology(context_vectors, sentence, phrase):\n",
    "    # Initialize the tokenizer\n",
    "    tokenizer = BertTokenizer.from_pretrained('bert-base-multilingual-cased')\n",
    "\n",
    "    # Tokenize the sentence and the phrase\n",
    "    sentence_tokens = tokenizer.encode(sentence, add_special_tokens=False)\n",
    "    phrase_tokens = tokenizer.encode(phrase, add_special_tokens=False)\n",
    "\n",
    "    # Find the indices of the phrase tokens in the sentence\n",
    "    phrase_indices = []\n",
    "    phrase_length = len(phrase_tokens)\n",
    "    for i in range(len(sentence_tokens) - phrase_length + 1):\n",
    "        if sentence_tokens[i:i+phrase_length] == phrase_tokens:\n",
    "            phrase_indices.extend(range(i, i+phrase_length))\n",
    "            break\n",
    "\n",
    "    # Extract the context vectors for the phrase\n",
    "    phrase_context_vectors = context_vectors[0, phrase_indices]\n",
    "\n",
    "    # Detach the tensor and convert to numpy array\n",
    "    phrase_context_vectors_np = phrase_context_vectors.detach().numpy()\n",
    "\n",
    "    # Print the tokens of the sub-collection and their context vectors\n",
    "    print(f'Tokens of the sub-collection: {tokenizer.convert_ids_to_tokens(phrase_tokens)}')\n",
    "    # print(f'Context vectors of the sub-collection: {phrase_context_vectors_np}')\n",
    "\n",
    "    # Compute the pairwise Euclidean distances among the phrase context vectors\n",
    "    distances = distance_matrix(phrase_context_vectors_np, phrase_context_vectors_np)\n",
    "\n",
    "    # Print the distance matrix\n",
    "    print(f'Distance matrix: {distances.shape}')\n",
    "    print(f'Distance matrix: {distances}')\n",
    "\n",
    "    # Compute the persistent homology of the distance matrix\n",
    "    rips_complex = gd.RipsComplex(distance_matrix=distances, max_edge_length=np.max(distances))\n",
    "    simplex_tree = rips_complex.create_simplex_tree(max_dimension=2)\n",
    "    persistent_homology = simplex_tree.persistence(min_persistence=0.001)\n",
    "\n",
    "    # Plot the barcode diagram\n",
    "    gd.plot_persistence_barcode(persistence=persistent_homology)\n",
    "    plt.show()\n",
    "\n",
    "    return persistent_homology\n",
    "\n",
    "# Assuming that 'context_vectors' is the tensor of context vectors for your sentence,\n",
    "# and 'sentence' is your original sentence, you can use the function like this:\n",
    "compute_phrase_distances_and_homology(context[0], text[0], \"לצפות בזרחת השמש\")"
   ]
  },
  {
   "cell_type": "code",
   "execution_count": 11,
   "metadata": {},
   "outputs": [],
   "source": [
    "text_2 = [\"במהלך שנת הלימודים הראשונה שלי באוניברסיטה, הצטרפתי לקבוצת טיול שהגיעה להר האייפל. למרות הקור החודר, הייתי מחויב לעלות לפסגה בכל בוקר, כדי לצפות בזרחת השמש מעל פריס\"]"
   ]
  },
  {
   "cell_type": "code",
   "execution_count": 12,
   "metadata": {},
   "outputs": [
    {
     "name": "stderr",
     "output_type": "stream",
     "text": [
      "Some weights of the model checkpoint at bert-base-multilingual-cased were not used when initializing BertModel: ['cls.predictions.transform.dense.bias', 'cls.predictions.transform.dense.weight', 'cls.predictions.transform.LayerNorm.weight', 'cls.predictions.bias', 'cls.predictions.transform.LayerNorm.bias', 'cls.seq_relationship.bias', 'cls.seq_relationship.weight']\n",
      "- This IS expected if you are initializing BertModel from the checkpoint of a model trained on another task or with another architecture (e.g. initializing a BertForSequenceClassification model from a BertForPreTraining model).\n",
      "- This IS NOT expected if you are initializing BertModel from the checkpoint of a model that you expect to be exactly identical (initializing a BertForSequenceClassification model from a BertForSequenceClassification model).\n"
     ]
    },
    {
     "name": "stdout",
     "output_type": "stream",
     "text": [
      "Tokens of the sub-collection: ['ל', '##צ', '##פות', 'ב', '##זר', '##חת', 'ה', '##שמש']\n",
      "Distance matrix: (8, 8)\n",
      "Distance matrix: [[0.         3.03479758 3.73729377 3.43629838 4.04870996 3.8567005\n",
      "  4.4319063  4.24457392]\n",
      " [3.03479758 0.         3.31756542 4.00931989 4.85360703 4.18867527\n",
      "  4.80434042 4.60214764]\n",
      " [3.73729377 3.31756542 0.         3.89140657 4.51131709 3.35326268\n",
      "  4.80874508 4.45108466]\n",
      " [3.43629838 4.00931989 3.89140657 0.         4.31139622 4.1398121\n",
      "  3.21042745 4.20689927]\n",
      " [4.04870996 4.85360703 4.51131709 4.31139622 0.         3.99005967\n",
      "  4.66044635 3.48413407]\n",
      " [3.8567005  4.18867527 3.35326268 4.1398121  3.99005967 0.\n",
      "  4.4679809  3.64336376]\n",
      " [4.4319063  4.80434042 4.80874508 3.21042745 4.66044635 4.4679809\n",
      "  0.         3.80275725]\n",
      " [4.24457392 4.60214764 4.45108466 4.20689927 3.48413407 3.64336376\n",
      "  3.80275725 0.        ]]\n"
     ]
    },
    {
     "data": {
      "image/png": "[encoded data removed]",
      "text/plain": [
       "<Figure size 640x480 with 1 Axes>"
      ]
     },
     "metadata": {},
     "output_type": "display_data"
    },
    {
     "data": {
      "text/plain": [
       "[(1, (3.802757248710556, 4.206899272200329)),\n",
       " (0, (0.0, inf)),\n",
       " (0, (0.0, 3.6433637639569616)),\n",
       " (0, (0.0, 3.4841340699493824)),\n",
       " (0, (0.0, 3.436298379255859)),\n",
       " (0, (0.0, 3.3532626834625745)),\n",
       " (0, (0.0, 3.3175654187166006)),\n",
       " (0, (0.0, 3.2104274549759726)),\n",
       " (0, (0.0, 3.0347975818290918))]"
      ]
     },
     "execution_count": 12,
     "metadata": {},
     "output_type": "execute_result"
    }
   ],
   "source": [
    "context_2 = [compute_output(t, layer, head) for t in text_2]\n",
    "compute_phrase_distances_and_homology(context_2[0], text_2[0], \"לצפות בזרחת השמש\")"
   ]
  },
  {
   "cell_type": "code",
   "execution_count": 13,
   "metadata": {},
   "outputs": [
    {
     "name": "stdout",
     "output_type": "stream",
     "text": [
      "Tokens of the sub-collection: ['ל', '##צ', '##פות', 'ב', '##זר', '##חת', 'ה', '##שמש']\n",
      "Distance matrix: (8, 8)\n",
      "Distance matrix: [[0.         4.0633042  3.98365277 4.3551616  4.95406213 4.90115186\n",
      "  5.22520398 5.29982593]\n",
      " [4.0633042  0.         3.50305438 3.77007615 3.83341578 3.67162592\n",
      "  4.5562389  4.42323636]\n",
      " [3.98365277 3.50305438 0.         3.7532835  4.1831848  3.36846508\n",
      "  4.66304063 4.6294333 ]\n",
      " [4.3551616  3.77007615 3.7532835  0.         4.1618779  4.10245108\n",
      "  3.08241912 4.2238441 ]\n",
      " [4.95406213 3.83341578 4.1831848  4.1618779  0.         3.99509098\n",
      "  4.73454433 3.66441512]\n",
      " [4.90115186 3.67162592 3.36846508 4.10245108 3.99509098 0.\n",
      "  4.64574744 3.79029251]\n",
      " [5.22520398 4.5562389  4.66304063 3.08241912 4.73454433 4.64574744\n",
      "  0.         3.92752903]\n",
      " [5.29982593 4.42323636 4.6294333  4.2238441  3.66441512 3.79029251\n",
      "  3.92752903 0.        ]]\n"
     ]
    },
    {
     "data": {
      "image/png": "[encoded data removed]",
      "text/plain": [
       "<Figure size 640x480 with 1 Axes>"
      ]
     },
     "metadata": {},
     "output_type": "display_data"
    },
    {
     "name": "stdout",
     "output_type": "stream",
     "text": [
      "Tokens of the sub-collection: ['ל', '##צ', '##פות', 'ב', '##זר', '##חת', 'ה', '##שמש']\n",
      "Distance matrix: (8, 8)\n",
      "Distance matrix: [[0.         3.03479758 3.73729377 3.43629838 4.04870996 3.8567005\n",
      "  4.4319063  4.24457392]\n",
      " [3.03479758 0.         3.31756542 4.00931989 4.85360703 4.18867527\n",
      "  4.80434042 4.60214764]\n",
      " [3.73729377 3.31756542 0.         3.89140657 4.51131709 3.35326268\n",
      "  4.80874508 4.45108466]\n",
      " [3.43629838 4.00931989 3.89140657 0.         4.31139622 4.1398121\n",
      "  3.21042745 4.20689927]\n",
      " [4.04870996 4.85360703 4.51131709 4.31139622 0.         3.99005967\n",
      "  4.66044635 3.48413407]\n",
      " [3.8567005  4.18867527 3.35326268 4.1398121  3.99005967 0.\n",
      "  4.4679809  3.64336376]\n",
      " [4.4319063  4.80434042 4.80874508 3.21042745 4.66044635 4.4679809\n",
      "  0.         3.80275725]\n",
      " [4.24457392 4.60214764 4.45108466 4.20689927 3.48413407 3.64336376\n",
      "  3.80275725 0.        ]]\n"
     ]
    },
    {
     "data": {
      "image/png": "[encoded data removed]",
      "text/plain": [
       "<Figure size 640x480 with 1 Axes>"
      ]
     },
     "metadata": {},
     "output_type": "display_data"
    },
    {
     "name": "stdout",
     "output_type": "stream",
     "text": [
      "Bottleneck distance: 0.34028900688951413\n",
      "Wasserstein distance: = 1.91\n"
     ]
    }
   ],
   "source": [
    "# from gudhi.wasserstein import wasserstein_distance \n",
    "# Could also be: \n",
    "from gudhi.hera import wasserstein_distance\n",
    "import numpy as np\n",
    "\n",
    "# Compute the persistent homology\n",
    "persistent_homology_1 = compute_phrase_distances_and_homology(context[0], text[0], \"לצפות בזרחת השמש\")\n",
    "persistent_homology_2 = compute_phrase_distances_and_homology(context_2[0], text_2[0], \"לצפות בזרחת השמש\")\n",
    "\n",
    "# Convert the persistent homology data to a numpy array\n",
    "persistent_homology_np_1 = np.array([[pt[1][0], pt[1][1]] for pt in persistent_homology_1 if pt[1][1] != float('inf')])\n",
    "persistent_homology_np_2 = np.array([[pt[1][0], pt[1][1]] for pt in persistent_homology_2 if pt[1][1] != float('inf')])\n",
    "\n",
    "# Compute and print the bottleneck distance\n",
    "bottleneck_dist = gd.bottleneck_distance(persistent_homology_np_1, persistent_homology_np_2)\n",
    "print(f\"Bottleneck distance: {bottleneck_dist}\")\n",
    "\n",
    "# Compute and print the Wasserstein distance\n",
    "print(f\"Wasserstein distance: = {wasserstein_distance(persistent_homology_np_1, persistent_homology_np_2, order=1., internal_p=2.):.2f}\")"
   ]
  },
  {
   "cell_type": "code",
   "execution_count": null,
   "metadata": {},
   "outputs": [],
   "source": []
  }
 ],
 "metadata": {
  "kernelspec": {
   "display_name": "env_1",
   "language": "python",
   "name": "python3"
  },
  "language_info": {
   "codemirror_mode": {
    "name": "ipython",
    "version": 3
   },
   "file_extension": ".py",
   "mimetype": "text/x-python",
   "name": "python",
   "nbconvert_exporter": "python",
   "pygments_lexer": "ipython3",
   "version": "3.10.11"
  },
  "orig_nbformat": 4
 },
 "nbformat": 4,
 "nbformat_minor": 2
}
