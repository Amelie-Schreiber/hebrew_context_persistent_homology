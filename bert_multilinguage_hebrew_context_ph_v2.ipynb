{
 "cells": [
  {
   "cell_type": "code",
   "execution_count": 2,
   "metadata": {},
   "outputs": [
    {
     "name": "stdout",
     "output_type": "stream",
     "text": [
      "Note: you may need to restart the kernel to use updated packages.\n"
     ]
    }
   ],
   "source": [
    "pip install transformers torch numpy gudhi -q"
   ]
  },
  {
   "cell_type": "code",
   "execution_count": 3,
   "metadata": {},
   "outputs": [],
   "source": [
    "text = [\"בחופשה האחרונה שלנו, נסענו להכיר את היופיים של מדבר הנגב. בין אם מדובר בצוקים המרשימים, בחי הבר המיוחד, או בשקט המוחלט, יש משהו מאוד מיוחד במדבר. אחת החוויות המרגשות ביותר שלנו הייתה לצפות בזרחת השמש מעל המדבר. האור המתפשט מאחורי ההרים, השמים המשתנים מאוד מהיר מאופל לתכלת, והשלווה המוחלטת שאפשר רק במדבר, הכל הפך את החוויה לבלתי נשכחת\"]"
   ]
  },
  {
   "cell_type": "code",
   "execution_count": 4,
   "metadata": {},
   "outputs": [
    {
     "name": "stderr",
     "output_type": "stream",
     "text": [
      "Some weights of the model checkpoint at bert-base-multilingual-cased were not used when initializing BertModel: ['cls.seq_relationship.bias', 'cls.predictions.bias', 'cls.predictions.transform.dense.weight', 'cls.seq_relationship.weight', 'cls.predictions.transform.LayerNorm.bias', 'cls.predictions.transform.dense.bias', 'cls.predictions.transform.LayerNorm.weight']\n",
      "- This IS expected if you are initializing BertModel from the checkpoint of a model trained on another task or with another architecture (e.g. initializing a BertForSequenceClassification model from a BertForPreTraining model).\n",
      "- This IS NOT expected if you are initializing BertModel from the checkpoint of a model that you expect to be exactly identical (initializing a BertForSequenceClassification model from a BertForSequenceClassification model).\n"
     ]
    },
    {
     "name": "stdout",
     "output_type": "stream",
     "text": [
      "torch.Size([1, 147, 64])\n",
      "tensor([[[-0.3174,  0.3277,  0.6378,  ...,  0.2120,  0.2191, -0.4791],\n",
      "         [ 0.1514,  0.0929, -0.1525,  ..., -0.0491, -0.0825, -0.1321],\n",
      "         [ 0.7195,  0.5729,  0.1636,  ...,  0.0853, -0.2053, -0.0604],\n",
      "         ...,\n",
      "         [-0.4786, -0.6224,  0.0959,  ..., -0.6395,  0.2403, -0.1524],\n",
      "         [-0.4651, -0.8047, -0.1828,  ..., -0.9204,  0.1743,  0.3936],\n",
      "         [-0.6856,  0.4070,  0.6870,  ..., -0.1002, -0.2549,  0.2398]]],\n",
      "       grad_fn=<CloneBackward0>)\n"
     ]
    }
   ],
   "source": [
    "import torch\n",
    "from transformers import BertTokenizer, BertModel\n",
    "from transformers import BertModel, BertTokenizerFast\n",
    "from transformers import AutoTokenizer, AutoModel\n",
    "\n",
    "\n",
    "def compute_output(sentence, layer, head):\n",
    "    # Load pre-trained model\n",
    "    model = BertModel.from_pretrained('bert-base-multilingual-cased', output_attentions=True)\n",
    "    tokenizer = BertTokenizer.from_pretrained('bert-base-multilingual-cased')\n",
    "\n",
    "\n",
    "    # Tokenize input and convert to tensor\n",
    "    inputs = tokenizer(sentence, return_tensors=\"pt\")\n",
    "\n",
    "    # Forward pass\n",
    "    # Specify `output_hidden_states=True` when calling the model\n",
    "    outputs = model(**inputs, output_attentions=True, output_hidden_states=True)\n",
    "\n",
    "    # Obtain the attention weights\n",
    "    attentions = outputs.attentions\n",
    "\n",
    "    # Obtain the attention weights for the specific layer and head\n",
    "    S = attentions[layer][0, head]\n",
    "\n",
    "    # Obtain the value vectors\n",
    "    model.eval()\n",
    "    with torch.no_grad():\n",
    "        hidden_states = outputs.hidden_states[layer]\n",
    "        all_W_v = model.encoder.layer[layer].attention.self.value.weight\n",
    "        num_heads = model.config.num_attention_heads\n",
    "        head_dim = model.config.hidden_size // num_heads\n",
    "        W_v_heads = all_W_v.view(num_heads, head_dim, model.config.hidden_size)\n",
    "        W_v = W_v_heads[head]\n",
    "        V = torch.matmul(hidden_states, W_v.t())\n",
    "\n",
    "    # Compute the output O\n",
    "    O = torch.matmul(S, V)\n",
    "\n",
    "    return O\n",
    "\n",
    "# Set the layer and head to use for computation\n",
    "layer = 5\n",
    "head = 10\n",
    "\n",
    "# Compute the context vectors for each text in the corpus\n",
    "context = [compute_output(t, layer, head) for t in text]\n",
    "print(context[0].shape)\n",
    "print(context[0])"
   ]
  },
  {
   "cell_type": "code",
   "execution_count": 5,
   "metadata": {},
   "outputs": [
    {
     "name": "stdout",
     "output_type": "stream",
     "text": [
      "Barcode for text 0:\n"
     ]
    },
    {
     "data": {
      "image/png": "[encoded data removed]",
      "text/plain": [
       "<Figure size 640x480 with 1 Axes>"
      ]
     },
     "metadata": {},
     "output_type": "display_data"
    }
   ],
   "source": [
    "import matplotlib.pyplot as plt\n",
    "import numpy as np\n",
    "from scipy.spatial import distance_matrix\n",
    "import gudhi as gd\n",
    "\n",
    "def compute_distances_and_plot_barcode(output):\n",
    "    # Detach the output tensor, squeeze, and convert to numpy array\n",
    "    output_np = output.squeeze().detach().numpy()\n",
    "\n",
    "    # Compute the pairwise Euclidean distance matrix\n",
    "    distances = distance_matrix(output_np, output_np)\n",
    "\n",
    "    # Compute the persistent homology of the distance matrix\n",
    "    rips_complex = gd.RipsComplex(distance_matrix=distances, max_edge_length=np.max(distances))\n",
    "    simplex_tree = rips_complex.create_simplex_tree(max_dimension=2)\n",
    "    persistent_homology = simplex_tree.persistence(min_persistence=0.001)\n",
    "    \n",
    "    # Plot the barcode diagram\n",
    "    gd.plot_persistence_barcode(persistence=persistent_homology)\n",
    "    plt.show()\n",
    "\n",
    "# Compute the barcode diagrams for each context vector\n",
    "for i, output in enumerate(context):\n",
    "    print(f\"Barcode for text {i}:\")\n",
    "    compute_distances_and_plot_barcode(output)"
   ]
  },
  {
   "cell_type": "code",
   "execution_count": 6,
   "metadata": {},
   "outputs": [
    {
     "name": "stdout",
     "output_type": "stream",
     "text": [
      "Clusters for text 0:\n",
      "Cluster 0: [CLS], [SEP]\n",
      "Cluster 1: ב, ##פש, נ, ., בין, ., אחת, ל, מעל, ., ה, ה, ##ים, ,, ה, ה, ו, ה, ,, הכל\n",
      "Cluster 2: ##חו, ##צו, ##חי, ##ש, ##מד, ##זר, ##א, ##או, ##ת, ##מד\n",
      "Cluster 3: של, ,, ,, ביותר, של\n",
      "Cluster 4: ##נו, ##נו\n",
      "Cluster 5: ,, הייתה\n",
      "Cluster 6: את, היו, של, מ\n",
      "Cluster 7: ##נג, ##מר, ##בר, ##מי, ##מו, ##מת, ##מש, ##מו\n",
      "Cluster 8: ##קים, ##קט\n",
      "Cluster 9: ##שי, ##חל, ##גש\n",
      "Cluster 10: ב, או\n",
      "Cluster 11: ה, מאוד\n",
      "Cluster 12: ,, ב\n",
      "Cluster 13: ##בר, ##בר, ##בר\n",
      "Cluster 14: ##ויות, ##ויה\n",
      "Cluster 15: ##פות, ##חת, ##חורי, ##פל\n",
      "Cluster 16: ##שמש, ##מד, ##אור, ##הר, ##שמי, ##של, ##חו\n"
     ]
    }
   ],
   "source": [
    "from scipy.spatial.distance import pdist, squareform\n",
    "from sklearn.cluster import DBSCAN\n",
    "from transformers import BertTokenizer\n",
    "from transformers import BertModel, BertTokenizerFast\n",
    "\n",
    "def cluster_and_get_words(context, sentence, eps=3.1):\n",
    "    # Load pre-trained model tokenizer\n",
    "    tokenizer = BertTokenizer.from_pretrained('bert-base-multilingual-cased')\n",
    "\n",
    "\n",
    "    # Tokenize input and convert to tensor\n",
    "    inputs = tokenizer(sentence, return_tensors=\"pt\")\n",
    "    tokens = tokenizer.convert_ids_to_tokens(inputs['input_ids'][0])\n",
    "\n",
    "    # Squeeze the context tensor to remove the batch size dimension\n",
    "    context = context.squeeze(0)\n",
    "\n",
    "    # Compute the pairwise distance matrix\n",
    "    distances = pdist(context.detach().numpy(), 'euclidean')\n",
    "    dist_matrix = squareform(distances)\n",
    "\n",
    "    # Run DBSCAN on the distance matrix\n",
    "    clustering = DBSCAN(eps=eps, min_samples=2, metric='precomputed').fit(dist_matrix)\n",
    "\n",
    "    # Get the words corresponding to each cluster\n",
    "    clusters = {}\n",
    "    for i, label in enumerate(clustering.labels_):\n",
    "        if label != -1:  # Ignore noise (-1 label)\n",
    "            if label not in clusters:\n",
    "                clusters[label] = []\n",
    "            clusters[label].append(tokens[i])\n",
    "\n",
    "    return clusters\n",
    "\n",
    "# Compute the clusters for each context vector\n",
    "clusters = []\n",
    "for i, output in enumerate(context):\n",
    "    print(f\"Clusters for text {i}:\")\n",
    "    clusters.append(cluster_and_get_words(output, text[i]))\n",
    "    for label, words in clusters[-1].items():\n",
    "        print(f\"Cluster {label}: {', '.join(words)}\")"
   ]
  },
  {
   "cell_type": "code",
   "execution_count": 7,
   "metadata": {},
   "outputs": [
    {
     "name": "stdout",
     "output_type": "stream",
     "text": [
      "Tokens of the sub-collection: ['ל', '##צ', '##פות', 'ב', '##זר', '##חת', 'ה', '##שמש']\n",
      "Distance matrix: (8, 8)\n",
      "Distance matrix: [[0.         4.0633042  3.98365277 4.3551616  4.95406213 4.90115186\n",
      "  5.22520398 5.29982593]\n",
      " [4.0633042  0.         3.50305438 3.77007615 3.83341578 3.67162592\n",
      "  4.5562389  4.42323636]\n",
      " [3.98365277 3.50305438 0.         3.7532835  4.1831848  3.36846508\n",
      "  4.66304063 4.6294333 ]\n",
      " [4.3551616  3.77007615 3.7532835  0.         4.1618779  4.10245108\n",
      "  3.08241912 4.2238441 ]\n",
      " [4.95406213 3.83341578 4.1831848  4.1618779  0.         3.99509098\n",
      "  4.73454433 3.66441512]\n",
      " [4.90115186 3.67162592 3.36846508 4.10245108 3.99509098 0.\n",
      "  4.64574744 3.79029251]\n",
      " [5.22520398 4.5562389  4.66304063 3.08241912 4.73454433 4.64574744\n",
      "  0.         3.92752903]\n",
      " [5.29982593 4.42323636 4.6294333  4.2238441  3.66441512 3.79029251\n",
      "  3.92752903 0.        ]]\n"
     ]
    },
    {
     "data": {
      "image/png": "[encoded data removed]",
      "text/plain": [
       "<Figure size 640x480 with 1 Axes>"
      ]
     },
     "metadata": {},
     "output_type": "display_data"
    },
    {
     "data": {
      "text/plain": [
       "[(1, (3.92752902561757, 4.223844098562913)),\n",
       " (1, (3.833415783447155, 3.99509098384469)),\n",
       " (0, (0.0, inf)),\n",
       " (0, (0.0, 3.9836527708464757)),\n",
       " (0, (0.0, 3.7902925083413677)),\n",
       " (0, (0.0, 3.753283495892035)),\n",
       " (0, (0.0, 3.664415121828334)),\n",
       " (0, (0.0, 3.503054382235859)),\n",
       " (0, (0.0, 3.3684650812412604)),\n",
       " (0, (0.0, 3.0824191163413346))]"
      ]
     },
     "execution_count": 7,
     "metadata": {},
     "output_type": "execute_result"
    }
   ],
   "source": [
    "from scipy.spatial import distance_matrix\n",
    "import gudhi as gd\n",
    "import numpy as np\n",
    "import matplotlib.pyplot as plt\n",
    "from transformers import BertTokenizer\n",
    "\n",
    "def compute_phrase_distances_and_homology(context_vectors, sentence, phrase):\n",
    "    # Initialize the tokenizer\n",
    "    tokenizer = BertTokenizer.from_pretrained('bert-base-multilingual-cased')\n",
    "\n",
    "    # Tokenize the sentence and the phrase\n",
    "    sentence_tokens = tokenizer.encode(sentence, add_special_tokens=False)\n",
    "    phrase_tokens = tokenizer.encode(phrase, add_special_tokens=False)\n",
    "\n",
    "    # Find the indices of the phrase tokens in the sentence\n",
    "    phrase_indices = []\n",
    "    phrase_length = len(phrase_tokens)\n",
    "    for i in range(len(sentence_tokens) - phrase_length + 1):\n",
    "        if sentence_tokens[i:i+phrase_length] == phrase_tokens:\n",
    "            phrase_indices.extend(range(i, i+phrase_length))\n",
    "            break\n",
    "\n",
    "    # Extract the context vectors for the phrase\n",
    "    phrase_context_vectors = context_vectors[0, phrase_indices]\n",
    "\n",
    "    # Detach the tensor and convert to numpy array\n",
    "    phrase_context_vectors_np = phrase_context_vectors.detach().numpy()\n",
    "\n",
    "    # Print the tokens of the sub-collection and their context vectors\n",
    "    print(f'Tokens of the sub-collection: {tokenizer.convert_ids_to_tokens(phrase_tokens)}')\n",
    "    # print(f'Context vectors of the sub-collection: {phrase_context_vectors_np}')\n",
    "\n",
    "    # Compute the pairwise Euclidean distances among the phrase context vectors\n",
    "    distances = distance_matrix(phrase_context_vectors_np, phrase_context_vectors_np)\n",
    "\n",
    "    # Print the distance matrix\n",
    "    print(f'Distance matrix: {distances.shape}')\n",
    "    print(f'Distance matrix: {distances}')\n",
    "\n",
    "    # Compute the persistent homology of the distance matrix\n",
    "    rips_complex = gd.RipsComplex(distance_matrix=distances, max_edge_length=np.max(distances))\n",
    "    simplex_tree = rips_complex.create_simplex_tree(max_dimension=2)\n",
    "    persistent_homology = simplex_tree.persistence(min_persistence=0.001)\n",
    "\n",
    "    # Plot the barcode diagram\n",
    "    gd.plot_persistence_barcode(persistence=persistent_homology)\n",
    "    plt.show()\n",
    "\n",
    "    return persistent_homology\n",
    "\n",
    "# Assuming that 'context_vectors' is the tensor of context vectors for your sentence,\n",
    "# and 'sentence' is your original sentence, you can use the function like this:\n",
    "compute_phrase_distances_and_homology(context[0], text[0], \"לצפות בזרחת השמש\")"
   ]
  },
  {
   "cell_type": "code",
   "execution_count": 8,
   "metadata": {},
   "outputs": [],
   "source": [
    "text_2 = [\"במהלך שנת הלימודים הראשונה שלי באוניברסיטה, הצטרפתי לקבוצת טיול שהגיעה להר האייפל. למרות הקור החודר, הייתי מחויב לעלות לפסגה בכל בוקר, כדי לצפות בזרחת השמש מעל פריס\"]"
   ]
  },
  {
   "cell_type": "code",
   "execution_count": 9,
   "metadata": {},
   "outputs": [
    {
     "name": "stderr",
     "output_type": "stream",
     "text": [
      "Some weights of the model checkpoint at bert-base-multilingual-cased were not used when initializing BertModel: ['cls.seq_relationship.bias', 'cls.predictions.bias', 'cls.predictions.transform.dense.weight', 'cls.seq_relationship.weight', 'cls.predictions.transform.LayerNorm.bias', 'cls.predictions.transform.dense.bias', 'cls.predictions.transform.LayerNorm.weight']\n",
      "- This IS expected if you are initializing BertModel from the checkpoint of a model trained on another task or with another architecture (e.g. initializing a BertForSequenceClassification model from a BertForPreTraining model).\n",
      "- This IS NOT expected if you are initializing BertModel from the checkpoint of a model that you expect to be exactly identical (initializing a BertForSequenceClassification model from a BertForSequenceClassification model).\n"
     ]
    },
    {
     "name": "stdout",
     "output_type": "stream",
     "text": [
      "Tokens of the sub-collection: ['ל', '##צ', '##פות', 'ב', '##זר', '##חת', 'ה', '##שמש']\n",
      "Distance matrix: (8, 8)\n",
      "Distance matrix: [[0.         3.03479758 3.73729377 3.43629838 4.04870996 3.8567005\n",
      "  4.4319063  4.24457392]\n",
      " [3.03479758 0.         3.31756542 4.00931989 4.85360703 4.18867527\n",
      "  4.80434042 4.60214764]\n",
      " [3.73729377 3.31756542 0.         3.89140657 4.51131709 3.35326268\n",
      "  4.80874508 4.45108466]\n",
      " [3.43629838 4.00931989 3.89140657 0.         4.31139622 4.1398121\n",
      "  3.21042745 4.20689927]\n",
      " [4.04870996 4.85360703 4.51131709 4.31139622 0.         3.99005967\n",
      "  4.66044635 3.48413407]\n",
      " [3.8567005  4.18867527 3.35326268 4.1398121  3.99005967 0.\n",
      "  4.4679809  3.64336376]\n",
      " [4.4319063  4.80434042 4.80874508 3.21042745 4.66044635 4.4679809\n",
      "  0.         3.80275725]\n",
      " [4.24457392 4.60214764 4.45108466 4.20689927 3.48413407 3.64336376\n",
      "  3.80275725 0.        ]]\n"
     ]
    },
    {
     "data": {
      "image/png": "[encoded data removed]",
      "text/plain": [
       "<Figure size 640x480 with 1 Axes>"
      ]
     },
     "metadata": {},
     "output_type": "display_data"
    },
    {
     "data": {
      "text/plain": [
       "[(1, (3.802757248710556, 4.206899272200329)),\n",
       " (0, (0.0, inf)),\n",
       " (0, (0.0, 3.6433637639569616)),\n",
       " (0, (0.0, 3.4841340699493824)),\n",
       " (0, (0.0, 3.436298379255859)),\n",
       " (0, (0.0, 3.3532626834625745)),\n",
       " (0, (0.0, 3.3175654187166006)),\n",
       " (0, (0.0, 3.2104274549759726)),\n",
       " (0, (0.0, 3.0347975818290918))]"
      ]
     },
     "execution_count": 9,
     "metadata": {},
     "output_type": "execute_result"
    }
   ],
   "source": [
    "context_2 = [compute_output(t, layer, head) for t in text_2]\n",
    "compute_phrase_distances_and_homology(context_2[0], text_2[0], \"לצפות בזרחת השמש\")"
   ]
  },
  {
   "cell_type": "code",
   "execution_count": 10,
   "metadata": {},
   "outputs": [
    {
     "name": "stdout",
     "output_type": "stream",
     "text": [
      "Tokens of the sub-collection: ['ל', '##צ', '##פות', 'ב', '##זר', '##חת', 'ה', '##שמש']\n",
      "Distance matrix: (8, 8)\n",
      "Distance matrix: [[0.         4.0633042  3.98365277 4.3551616  4.95406213 4.90115186\n",
      "  5.22520398 5.29982593]\n",
      " [4.0633042  0.         3.50305438 3.77007615 3.83341578 3.67162592\n",
      "  4.5562389  4.42323636]\n",
      " [3.98365277 3.50305438 0.         3.7532835  4.1831848  3.36846508\n",
      "  4.66304063 4.6294333 ]\n",
      " [4.3551616  3.77007615 3.7532835  0.         4.1618779  4.10245108\n",
      "  3.08241912 4.2238441 ]\n",
      " [4.95406213 3.83341578 4.1831848  4.1618779  0.         3.99509098\n",
      "  4.73454433 3.66441512]\n",
      " [4.90115186 3.67162592 3.36846508 4.10245108 3.99509098 0.\n",
      "  4.64574744 3.79029251]\n",
      " [5.22520398 4.5562389  4.66304063 3.08241912 4.73454433 4.64574744\n",
      "  0.         3.92752903]\n",
      " [5.29982593 4.42323636 4.6294333  4.2238441  3.66441512 3.79029251\n",
      "  3.92752903 0.        ]]\n"
     ]
    },
    {
     "data": {
      "image/png": "[encoded data removed]",
      "text/plain": [
       "<Figure size 640x480 with 1 Axes>"
      ]
     },
     "metadata": {},
     "output_type": "display_data"
    },
    {
     "name": "stdout",
     "output_type": "stream",
     "text": [
      "Tokens of the sub-collection: ['ל', '##צ', '##פות', 'ב', '##זר', '##חת', 'ה', '##שמש']\n",
      "Distance matrix: (8, 8)\n",
      "Distance matrix: [[0.         3.03479758 3.73729377 3.43629838 4.04870996 3.8567005\n",
      "  4.4319063  4.24457392]\n",
      " [3.03479758 0.         3.31756542 4.00931989 4.85360703 4.18867527\n",
      "  4.80434042 4.60214764]\n",
      " [3.73729377 3.31756542 0.         3.89140657 4.51131709 3.35326268\n",
      "  4.80874508 4.45108466]\n",
      " [3.43629838 4.00931989 3.89140657 0.         4.31139622 4.1398121\n",
      "  3.21042745 4.20689927]\n",
      " [4.04870996 4.85360703 4.51131709 4.31139622 0.         3.99005967\n",
      "  4.66044635 3.48413407]\n",
      " [3.8567005  4.18867527 3.35326268 4.1398121  3.99005967 0.\n",
      "  4.4679809  3.64336376]\n",
      " [4.4319063  4.80434042 4.80874508 3.21042745 4.66044635 4.4679809\n",
      "  0.         3.80275725]\n",
      " [4.24457392 4.60214764 4.45108466 4.20689927 3.48413407 3.64336376\n",
      "  3.80275725 0.        ]]\n"
     ]
    },
    {
     "data": {
      "image/png": "[encoded data removed]",
      "text/plain": [
       "<Figure size 640x480 with 1 Axes>"
      ]
     },
     "metadata": {},
     "output_type": "display_data"
    },
    {
     "name": "stdout",
     "output_type": "stream",
     "text": [
      "Bottleneck distance: 0.34028900688951413\n",
      "Wasserstein distance: = 1.91\n"
     ]
    }
   ],
   "source": [
    "# from gudhi.wasserstein import wasserstein_distance \n",
    "# Could also be: \n",
    "from gudhi.hera import wasserstein_distance\n",
    "import numpy as np\n",
    "\n",
    "# Compute the persistent homology\n",
    "persistent_homology_1 = compute_phrase_distances_and_homology(context[0], text[0], \"לצפות בזרחת השמש\")\n",
    "persistent_homology_2 = compute_phrase_distances_and_homology(context_2[0], text_2[0], \"לצפות בזרחת השמש\")\n",
    "\n",
    "# Convert the persistent homology data to a numpy array\n",
    "persistent_homology_np_1 = np.array([[pt[1][0], pt[1][1]] for pt in persistent_homology_1 if pt[1][1] != float('inf')])\n",
    "persistent_homology_np_2 = np.array([[pt[1][0], pt[1][1]] for pt in persistent_homology_2 if pt[1][1] != float('inf')])\n",
    "\n",
    "# Compute and print the bottleneck distance\n",
    "bottleneck_dist = gd.bottleneck_distance(persistent_homology_np_1, persistent_homology_np_2)\n",
    "print(f\"Bottleneck distance: {bottleneck_dist}\")\n",
    "\n",
    "# Compute and print the Wasserstein distance\n",
    "print(f\"Wasserstein distance: = {wasserstein_distance(persistent_homology_np_1, persistent_homology_np_2, order=1., internal_p=2.):.2f}\")"
   ]
  },
  {
   "cell_type": "code",
   "execution_count": 11,
   "metadata": {},
   "outputs": [],
   "source": [
    "text_3 = [\"הלמידה העמוקה היא תת תחום של הלמידה החישובית המשתמשת ברשתות נוירוניות מלאכותיות. בעזרת אלגוריתמים מורכבים, הלמידה העמוקה מאפשרת למחשבים ללמוד מתוך נתונים מרובים המתארים מציאות מסוימת. המטרה העיקרית של הלמידה העמוקה היא חקירת איך ניתן להגיע למסקנות מדויקות באמצעות הפעלת תהליכים חישוביים מרובים.\"]\n",
    "\n",
    "text_4 = [\"חישוב קוואנטי הוא תחום במדע המחשב המתמקד בפיתוח מחשבים המבוססים על מכניקת הקוונטים. בניגוד למחשבים קלאסיים, מחשב קוואנטי מסוגל לבצע חישובים מרובים בו זמנית, מה שמאפשר לו לפתור בעיות מורכבות בצורה מהירה יותר. בחישוב הקוואנטי, המטרה העיקרית היא להגיע למסקנות מדויקות באמצעות הפעלת תהליכים חישוביים מרובים.\"]"
   ]
  },
  {
   "cell_type": "code",
   "execution_count": 12,
   "metadata": {},
   "outputs": [
    {
     "name": "stderr",
     "output_type": "stream",
     "text": [
      "Some weights of the model checkpoint at bert-base-multilingual-cased were not used when initializing BertModel: ['cls.seq_relationship.bias', 'cls.predictions.bias', 'cls.predictions.transform.dense.weight', 'cls.seq_relationship.weight', 'cls.predictions.transform.LayerNorm.bias', 'cls.predictions.transform.dense.bias', 'cls.predictions.transform.LayerNorm.weight']\n",
      "- This IS expected if you are initializing BertModel from the checkpoint of a model trained on another task or with another architecture (e.g. initializing a BertForSequenceClassification model from a BertForPreTraining model).\n",
      "- This IS NOT expected if you are initializing BertModel from the checkpoint of a model that you expect to be exactly identical (initializing a BertForSequenceClassification model from a BertForSequenceClassification model).\n",
      "Some weights of the model checkpoint at bert-base-multilingual-cased were not used when initializing BertModel: ['cls.seq_relationship.bias', 'cls.predictions.bias', 'cls.predictions.transform.dense.weight', 'cls.seq_relationship.weight', 'cls.predictions.transform.LayerNorm.bias', 'cls.predictions.transform.dense.bias', 'cls.predictions.transform.LayerNorm.weight']\n",
      "- This IS expected if you are initializing BertModel from the checkpoint of a model trained on another task or with another architecture (e.g. initializing a BertForSequenceClassification model from a BertForPreTraining model).\n",
      "- This IS NOT expected if you are initializing BertModel from the checkpoint of a model that you expect to be exactly identical (initializing a BertForSequenceClassification model from a BertForSequenceClassification model).\n"
     ]
    }
   ],
   "source": [
    "context_3 = [compute_output(t, layer, head) for t in text_3]\n",
    "\n",
    "context_4 = [compute_output(t, layer, head) for t in text_4]"
   ]
  },
  {
   "cell_type": "code",
   "execution_count": 13,
   "metadata": {},
   "outputs": [
    {
     "name": "stdout",
     "output_type": "stream",
     "text": [
      "Tokens of the sub-collection: ['ל', '##מס', '##קנות', 'מ', '##דו', '##יקו', '##ת']\n",
      "Distance matrix: (7, 7)\n",
      "Distance matrix: [[0.         3.01455772 3.57652856 4.25348591 4.49978645 4.59658163\n",
      "  4.24135849]\n",
      " [3.01455772 0.         3.32403384 4.09913943 4.18290561 4.72416249\n",
      "  4.31161698]\n",
      " [3.57652856 3.32403384 0.         3.99762223 4.24256515 3.8941253\n",
      "  4.66143342]\n",
      " [4.25348591 4.09913943 3.99762223 0.         3.84406076 4.23405882\n",
      "  3.36561926]\n",
      " [4.49978645 4.18290561 4.24256515 3.84406076 0.         4.07991385\n",
      "  4.2098266 ]\n",
      " [4.59658163 4.72416249 3.8941253  4.23405882 4.07991385 0.\n",
      "  4.16049036]\n",
      " [4.24135849 4.31161698 4.66143342 3.36561926 4.2098266  4.16049036\n",
      "  0.        ]]\n"
     ]
    },
    {
     "data": {
      "image/png": "[encoded data removed]",
      "text/plain": [
       "<Figure size 640x480 with 1 Axes>"
      ]
     },
     "metadata": {},
     "output_type": "display_data"
    },
    {
     "name": "stdout",
     "output_type": "stream",
     "text": [
      "Tokens of the sub-collection: ['ל', '##מס', '##קנות', 'מ', '##דו', '##יקו', '##ת']\n",
      "Distance matrix: (7, 7)\n",
      "Distance matrix: [[0.         3.99626985 3.45886299 4.67449579 4.68203891 4.59597313\n",
      "  4.73366301]\n",
      " [3.99626985 0.         3.1060854  4.19655731 4.2888179  4.75596252\n",
      "  4.50052018]\n",
      " [3.45886299 3.1060854  0.         4.01920849 4.28499339 3.83126981\n",
      "  4.64609398]\n",
      " [4.67449579 4.19655731 4.01920849 0.         3.82676725 4.24494781\n",
      "  3.31985188]\n",
      " [4.68203891 4.2888179  4.28499339 3.82676725 0.         4.07628469\n",
      "  4.04496275]\n",
      " [4.59597313 4.75596252 3.83126981 4.24494781 4.07628469 0.\n",
      "  4.10932473]\n",
      " [4.73366301 4.50052018 4.64609398 3.31985188 4.04496275 4.10932473\n",
      "  0.        ]]\n"
     ]
    },
    {
     "data": {
      "image/png": "[encoded data removed]",
      "text/plain": [
       "<Figure size 640x480 with 1 Axes>"
      ]
     },
     "metadata": {},
     "output_type": "display_data"
    },
    {
     "name": "stdout",
     "output_type": "stream",
     "text": [
      "Bottleneck distance: 0.09324372556010596\n",
      "Wasserstein distance: = 0.35\n"
     ]
    }
   ],
   "source": [
    "# Compute the persistent homology\n",
    "persistent_homology_1 = compute_phrase_distances_and_homology(context_3[0], text_3[0], \"למסקנות מדויקות\")\n",
    "persistent_homology_2 = compute_phrase_distances_and_homology(context_4[0], text_4[0], \"למסקנות מדויקות\")\n",
    "\n",
    "# Convert the persistent homology data to a numpy array\n",
    "persistent_homology_np_1 = np.array([[pt[1][0], pt[1][1]] for pt in persistent_homology_1 if pt[1][1] != float('inf')])\n",
    "persistent_homology_np_2 = np.array([[pt[1][0], pt[1][1]] for pt in persistent_homology_2 if pt[1][1] != float('inf')])\n",
    "\n",
    "# Compute and print the bottleneck distance\n",
    "bottleneck_dist = gd.bottleneck_distance(persistent_homology_np_1, persistent_homology_np_2)\n",
    "print(f\"Bottleneck distance: {bottleneck_dist}\")\n",
    "\n",
    "# Compute and print the Wasserstein distance\n",
    "print(f\"Wasserstein distance: = {wasserstein_distance(persistent_homology_np_1, persistent_homology_np_2, order=1., internal_p=2.):.2f}\")"
   ]
  },
  {
   "cell_type": "code",
   "execution_count": 14,
   "metadata": {},
   "outputs": [
    {
     "name": "stdout",
     "output_type": "stream",
     "text": [
      "Tokens of the sub-collection: ['להגיע', 'ל', '##מס', '##קנות', 'מ', '##דו', '##יקו', '##ת', 'באמצעות', 'ה', '##פעל', '##ת', 'ת', '##הל', '##יכים', 'חי', '##שוב', '##יים', 'מ', '##רוב', '##ים']\n",
      "Distance matrix: (21, 21)\n",
      "Distance matrix: [[0.         3.64904024 4.34207012 4.36453274 4.83913697 4.98016805\n",
      "  5.00936766 4.95139725 4.79376912 4.27043739 4.18483233 4.46971963\n",
      "  4.98536621 4.34644938 4.641035   5.25877714 5.62399564 5.14762881\n",
      "  4.71617975 4.91982728 4.73899424]\n",
      " [3.64904024 0.         3.01455772 3.57652856 4.25348591 4.49978645\n",
      "  4.59658163 4.24135849 3.74590949 3.59238745 3.51008557 4.33196452\n",
      "  4.53964077 4.69599763 4.29456993 5.11084658 5.47567181 4.47114904\n",
      "  4.32258033 4.43367554 4.7126032 ]\n",
      " [4.34207012 3.01455772 0.         3.32403384 4.09913943 4.18290561\n",
      "  4.72416249 4.31161698 3.74776529 3.69085842 3.53931462 4.68459053\n",
      "  4.15171289 4.65822711 4.30152569 5.22099076 5.58269739 4.76434591\n",
      "  4.51218434 4.48696312 4.75957287]\n",
      " [4.36453274 3.57652856 3.32403384 0.         3.99762223 4.24256515\n",
      "  3.8941253  4.66143342 3.90527523 4.04542031 3.06620876 3.68090138\n",
      "  4.7630706  4.36385018 3.66352092 5.07349826 5.86740518 4.37595294\n",
      "  4.53702019 4.83954152 4.17905646]\n",
      " [4.83913697 4.25348591 4.09913943 3.99762223 0.         3.84406076\n",
      "  4.23405882 3.36561926 4.19215797 4.73018906 4.45030083 4.33214482\n",
      "  4.13219514 5.25437881 3.735088   4.42335447 5.4827669  4.13076262\n",
      "  4.13308168 4.75105844 4.38574807]\n",
      " [4.98016805 4.49978645 4.18290561 4.24256515 3.84406076 0.\n",
      "  4.07991385 4.2098266  3.75117657 3.91384168 4.05971091 4.71642515\n",
      "  5.02179601 4.59713106 4.14867275 4.05359018 3.96133714 4.9486983\n",
      "  3.91995496 3.94115593 4.50160382]\n",
      " [5.00936766 4.59658163 4.72416249 3.8941253  4.23405882 4.07991385\n",
      "  0.         4.16049036 4.0526982  4.19908484 4.27733163 4.01282615\n",
      "  5.63479667 5.39248023 3.5689191  4.82141734 5.39971802 4.1095598\n",
      "  4.8807549  4.24194702 2.58770512]\n",
      " [4.95139725 4.24135849 4.31161698 4.66143342 3.36561926 4.2098266\n",
      "  4.16049036 0.         3.56594112 3.99387744 4.65119018 4.705138\n",
      "  4.81965679 5.4942328  4.51248766 5.04907809 6.02034955 4.07278485\n",
      "  3.62311517 4.45124218 4.22916266]\n",
      " [4.79376912 3.74590949 3.74776529 3.90527523 4.19215797 3.75117657\n",
      "  4.0526982  3.56594112 0.         3.4353352  3.51476474 4.43956092\n",
      "  4.36929764 5.14169498 4.31079991 4.64772953 5.36311954 4.23917662\n",
      "  3.68316847 4.51813447 4.15017706]\n",
      " [4.27043739 3.59238745 3.69085842 4.04542031 4.73018906 3.91384168\n",
      "  4.19908484 3.99387744 3.4353352  0.         3.53133448 4.62962775\n",
      "  4.99548178 4.25822225 4.53418101 5.34943967 5.24764914 5.02423673\n",
      "  4.39468162 3.52528987 4.0849867 ]\n",
      " [4.18483233 3.51008557 3.53931462 3.06620876 4.45030083 4.05971091\n",
      "  4.27733163 4.65119018 3.51476474 3.53133448 0.         3.942928\n",
      "  4.39860709 3.97697566 4.02067775 4.5482136  4.94200845 4.67871399\n",
      "  4.47218831 4.41738099 4.18089756]\n",
      " [4.46971963 4.33196452 4.68459053 3.68090138 4.33214482 4.71642515\n",
      "  4.01282615 4.705138   4.43956092 4.62962775 3.942928   0.\n",
      "  4.42620689 3.8761695  3.27258423 4.62104293 5.20225501 3.99715811\n",
      "  4.67202827 5.03965523 4.09189988]\n",
      " [4.98536621 4.53964077 4.15171289 4.7630706  4.13219514 5.02179601\n",
      "  5.63479667 4.81965679 4.36929764 4.99548178 4.39860709 4.42620689\n",
      "  0.         3.99044405 4.34719906 4.93876411 5.90736326 4.90787025\n",
      "  4.6394488  5.61303218 5.60126678]\n",
      " [4.34644938 4.69599763 4.65822711 4.36385018 5.25437881 4.59713106\n",
      "  5.39248023 5.4942328  5.14169498 4.25822225 3.97697566 3.8761695\n",
      "  3.99044405 0.         4.36459641 5.15516173 5.06404779 5.35643867\n",
      "  4.8165719  5.01711896 5.35283266]\n",
      " [4.641035   4.29456993 4.30152569 3.66352092 3.735088   4.14867275\n",
      "  3.5689191  4.51248766 4.31079991 4.53418101 4.02067775 3.27258423\n",
      "  4.34719906 4.36459641 0.         3.71229151 4.90068656 3.2052925\n",
      "  4.18111769 4.44604734 3.74024723]\n",
      " [5.25877714 5.11084658 5.22099076 5.07349826 4.42335447 4.05359018\n",
      "  4.82141734 5.04907809 4.64772953 5.34943967 4.5482136  4.62104293\n",
      "  4.93876411 5.15516173 3.71229151 0.         4.57606351 4.4158358\n",
      "  4.01169976 5.12506098 4.77724999]\n",
      " [5.62399564 5.47567181 5.58269739 5.86740518 5.4827669  3.96133714\n",
      "  5.39971802 6.02034955 5.36311954 5.24764914 4.94200845 5.20225501\n",
      "  5.90736326 5.06404779 4.90068656 4.57606351 0.         5.2281741\n",
      "  4.83436833 4.25219331 5.16686392]\n",
      " [5.14762881 4.47114904 4.76434591 4.37595294 4.13076262 4.9486983\n",
      "  4.1095598  4.07278485 4.23917662 5.02423673 4.67871399 3.99715811\n",
      "  4.90787025 5.35643867 3.2052925  4.4158358  5.2281741  0.\n",
      "  3.35672636 4.63599249 3.90744493]\n",
      " [4.71617975 4.32258033 4.51218434 4.53702019 4.13308168 3.91995496\n",
      "  4.8807549  3.62311517 3.68316847 4.39468162 4.47218831 4.67202827\n",
      "  4.6394488  4.8165719  4.18111769 4.01169976 4.83436833 3.35672636\n",
      "  0.         4.41278926 4.46992892]\n",
      " [4.91982728 4.43367554 4.48696312 4.83954152 4.75105844 3.94115593\n",
      "  4.24194702 4.45124218 4.51813447 3.52528987 4.41738099 5.03965523\n",
      "  5.61303218 5.01711896 4.44604734 5.12506098 4.25219331 4.63599249\n",
      "  4.41278926 0.         3.63053405]\n",
      " [4.73899424 4.7126032  4.75957287 4.17905646 4.38574807 4.50160382\n",
      "  2.58770512 4.22916266 4.15017706 4.0849867  4.18089756 4.09189988\n",
      "  5.60126678 5.35283266 3.74024723 4.77724999 5.16686392 3.90744493\n",
      "  4.46992892 3.63053405 0.        ]]\n"
     ]
    },
    {
     "data": {
      "image/png": "[encoded data removed]",
      "text/plain": [
       "<Figure size 640x480 with 1 Axes>"
      ]
     },
     "metadata": {},
     "output_type": "display_data"
    },
    {
     "name": "stdout",
     "output_type": "stream",
     "text": [
      "Tokens of the sub-collection: ['להגיע', 'ל', '##מס', '##קנות', 'מ', '##דו', '##יקו', '##ת', 'באמצעות', 'ה', '##פעל', '##ת', 'ת', '##הל', '##יכים', 'חי', '##שוב', '##יים', 'מ', '##רוב', '##ים']\n",
      "Distance matrix: (21, 21)\n",
      "Distance matrix: [[0.         4.13842259 4.7505596  4.83647925 5.07470284 4.77753806\n",
      "  4.87202012 4.64464193 4.80655462 3.70902608 5.01814046 5.20345261\n",
      "  5.61694572 5.45509363 4.96702989 5.50463939 6.3200827  5.72484383\n",
      "  5.67726624 4.20464157 4.91836049]\n",
      " [4.13842259 0.         3.99626985 3.45886299 4.67449579 4.68203891\n",
      "  4.59597313 4.73366301 4.3808015  3.57993588 3.42209251 4.35782187\n",
      "  5.05978381 4.21583209 4.32657492 5.19261699 5.79221001 4.81455885\n",
      "  5.10327098 4.63757054 4.4643415 ]\n",
      " [4.7505596  3.99626985 0.         3.1060854  4.19655731 4.2888179\n",
      "  4.75596252 4.50052018 3.86674107 3.73940223 3.40780536 4.5617396\n",
      "  3.93722407 4.09953147 4.2344772  5.18305314 5.58220763 4.75858081\n",
      "  4.90938009 4.56004585 4.78778388]\n",
      " [4.83647925 3.45886299 3.1060854  0.         4.01920849 4.28499339\n",
      "  3.83126981 4.64609398 3.91300864 4.19032824 3.17475917 3.58880584\n",
      "  4.63318053 4.21094469 3.60419685 4.99824183 5.92372734 4.47265934\n",
      "  5.05095013 4.91855574 4.13666232]\n",
      " [5.07470284 4.67449579 4.19655731 4.01920849 0.         3.82676725\n",
      "  4.24494781 3.31985188 4.15284228 4.74324407 4.44059095 4.23438483\n",
      "  4.15364889 5.20611221 3.75788117 4.4199794  5.53098669 4.69173101\n",
      "  4.86338413 4.71019192 4.271045  ]\n",
      " [4.77753806 4.68203891 4.2888179  4.28499339 3.82676725 0.\n",
      "  4.07628469 4.04496275 3.62693983 3.86523161 4.00276826 4.72353167\n",
      "  5.09942188 4.53643465 4.14784312 4.06167573 3.99731355 5.16979504\n",
      "  3.97995106 3.74421322 4.40235798]\n",
      " [4.87202012 4.59597313 4.75596252 3.83126981 4.24494781 4.07628469\n",
      "  0.         4.10932473 3.96238943 4.22186922 4.23451072 3.87336523\n",
      "  5.58077495 5.27975645 3.51440662 4.80402184 5.42236801 4.27616803\n",
      "  5.41995874 4.23992734 2.50980802]\n",
      " [4.64464193 4.73366301 4.50052018 4.64609398 3.31985188 4.04496275\n",
      "  4.10932473 0.         3.49619335 4.04450952 4.70042652 4.64253653\n",
      "  4.97563056 5.38894654 4.4944361  5.01793009 6.01470971 4.64540626\n",
      "  4.44365275 4.48611055 4.25191028]\n",
      " [4.80655462 4.3808015  3.86674107 3.91300864 4.15284228 3.62693983\n",
      "  3.96238943 3.49619335 0.         3.46110387 3.54855035 4.42302653\n",
      "  4.51545024 5.1153286  4.35883476 4.69610648 5.39954289 4.61735191\n",
      "  4.67427008 4.38811548 4.16110854]\n",
      " [3.70902608 3.57993588 3.73940223 4.19032824 4.74324407 3.86523161\n",
      "  4.22186922 4.04450952 3.46110387 0.         3.61723268 4.64292765\n",
      "  5.08574028 4.16932489 4.61739215 5.38656323 5.30143199 5.32888595\n",
      "  4.88765813 3.54335674 4.22564903]\n",
      " [5.01814046 3.42209251 3.40780536 3.17475917 4.44059095 4.00276826\n",
      "  4.23451072 4.70042652 3.54855035 3.61723268 0.         4.04572791\n",
      "  4.26415268 3.97710362 4.033149   4.49875521 4.87882859 4.94582083\n",
      "  4.92976366 4.35694454 4.29703501]\n",
      " [5.20345261 4.35782187 4.5617396  3.58880584 4.23438483 4.72353167\n",
      "  3.87336523 4.64253653 4.42302653 4.64292765 4.04572791 0.\n",
      "  4.51916671 4.07222627 3.26164996 4.70381351 5.28543455 4.29683963\n",
      "  5.1574684  5.10119704 4.06594133]\n",
      " [5.61694572 5.05978381 3.93722407 4.63318053 4.15364889 5.09942188\n",
      "  5.58077495 4.97563056 4.51545024 5.08574028 4.26415268 4.51916671\n",
      "  0.         4.03320222 4.27669706 4.80097719 5.8935438  4.97962174\n",
      "  5.05452308 5.58671316 5.59755398]\n",
      " [5.45509363 4.21583209 4.09953147 4.21094469 5.20611221 4.53643465\n",
      "  5.27975645 5.38894654 5.1153286  4.16932489 3.97710362 4.07222627\n",
      "  4.03320222 0.         4.31733179 5.07562581 5.02831942 5.33704941\n",
      "  4.7932986  4.92035606 5.33410004]\n",
      " [4.96702989 4.32657492 4.2344772  3.60419685 3.75788117 4.14784312\n",
      "  3.51440662 4.4944361  4.35883476 4.61739215 4.033149   3.26164996\n",
      "  4.27669706 4.31733179 0.         3.79893579 4.90317638 3.39743865\n",
      "  4.73787458 4.43655868 3.64699817]\n",
      " [5.50463939 5.19261699 5.18305314 4.99824183 4.4199794  4.06167573\n",
      "  4.80402184 5.01793009 4.69610648 5.38656323 4.49875521 4.70381351\n",
      "  4.80097719 5.07562581 3.79893579 0.         4.49108874 4.71103517\n",
      "  4.4878523  5.08919439 4.82175469]\n",
      " [6.3200827  5.79221001 5.58220763 5.92372734 5.53098669 3.99731355\n",
      "  5.42236801 6.01470971 5.39954289 5.30143199 4.87882859 5.28543455\n",
      "  5.8935438  5.02831942 4.90317638 4.49108874 0.         5.49130819\n",
      "  4.79985252 4.10220164 5.20874765]\n",
      " [5.72484383 4.81455885 4.75858081 4.47265934 4.69173101 5.16979504\n",
      "  4.27616803 4.64540626 4.61735191 5.32888595 4.94582083 4.29683963\n",
      "  4.97962174 5.33704941 3.39743865 4.71103517 5.49130819 0.\n",
      "  4.11491605 5.0034907  4.159951  ]\n",
      " [5.67726624 5.10327098 4.90938009 5.05095013 4.86338413 3.97995106\n",
      "  5.41995874 4.44365275 4.67427008 4.88765813 4.92976366 5.1574684\n",
      "  5.05452308 4.7932986  4.73787458 4.4878523  4.79985252 4.11491605\n",
      "  0.         4.81410017 5.0342535 ]\n",
      " [4.20464157 4.63757054 4.56004585 4.91855574 4.71019192 3.74421322\n",
      "  4.23992734 4.48611055 4.38811548 3.54335674 4.35694454 5.10119704\n",
      "  5.58671316 4.92035606 4.43655868 5.08919439 4.10220164 5.0034907\n",
      "  4.81410017 0.         3.7140434 ]\n",
      " [4.91836049 4.4643415  4.78778388 4.13666232 4.271045   4.40235798\n",
      "  2.50980802 4.25191028 4.16110854 4.22564903 4.29703501 4.06594133\n",
      "  5.59755398 5.33410004 3.64699817 4.82175469 5.20874765 4.159951\n",
      "  5.0342535  3.7140434  0.        ]]\n"
     ]
    },
    {
     "data": {
      "image/png": "[encoded data removed]",
      "text/plain": [
       "<Figure size 640x480 with 1 Axes>"
      ]
     },
     "metadata": {},
     "output_type": "display_data"
    },
    {
     "name": "stdout",
     "output_type": "stream",
     "text": [
      "Bottleneck distance: 0.26524510501929566\n",
      "Wasserstein distance: = 2.17\n"
     ]
    }
   ],
   "source": [
    "# Compute the persistent homology\n",
    "persistent_homology_1 = compute_phrase_distances_and_homology(context_3[0], text_3[0],  \"להגיע למסקנות מדויקות באמצעות הפעלת תהליכים חישוביים מרובים\")\n",
    "persistent_homology_2 = compute_phrase_distances_and_homology(context_4[0], text_4[0],  \"להגיע למסקנות מדויקות באמצעות הפעלת תהליכים חישוביים מרובים\")\n",
    "\n",
    "# Convert the persistent homology data to a numpy array\n",
    "persistent_homology_np_1 = np.array([[pt[1][0], pt[1][1]] for pt in persistent_homology_1 if pt[1][1] != float('inf')])\n",
    "persistent_homology_np_2 = np.array([[pt[1][0], pt[1][1]] for pt in persistent_homology_2 if pt[1][1] != float('inf')])\n",
    "\n",
    "# Compute and print the bottleneck distance\n",
    "bottleneck_dist = gd.bottleneck_distance(persistent_homology_np_1, persistent_homology_np_2)\n",
    "print(f\"Bottleneck distance: {bottleneck_dist}\")\n",
    "\n",
    "# Compute and print the Wasserstein distance\n",
    "print(f\"Wasserstein distance: = {wasserstein_distance(persistent_homology_np_1, persistent_homology_np_2, order=1., internal_p=2.):.2f}\")"
   ]
  },
  {
   "cell_type": "code",
   "execution_count": null,
   "metadata": {},
   "outputs": [],
   "source": []
  }
 ],
 "metadata": {
  "kernelspec": {
   "display_name": "env_1",
   "language": "python",
   "name": "python3"
  },
  "language_info": {
   "codemirror_mode": {
    "name": "ipython",
    "version": 3
   },
   "file_extension": ".py",
   "mimetype": "text/x-python",
   "name": "python",
   "nbconvert_exporter": "python",
   "pygments_lexer": "ipython3",
   "version": "3.10.11"
  },
  "orig_nbformat": 4
 },
 "nbformat": 4,
 "nbformat_minor": 2
}
