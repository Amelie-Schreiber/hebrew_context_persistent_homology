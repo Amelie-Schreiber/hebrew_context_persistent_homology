{
 "cells": [
  {
   "cell_type": "code",
   "execution_count": 1,
   "metadata": {},
   "outputs": [
    {
     "name": "stdout",
     "output_type": "stream",
     "text": [
      "Note: you may need to restart the kernel to use updated packages.\n"
     ]
    }
   ],
   "source": [
    "pip install transformers torch numpy gudhi -q"
   ]
  },
  {
   "cell_type": "code",
   "execution_count": 2,
   "metadata": {},
   "outputs": [],
   "source": [
    "text = [\"בחופשה האחרונה שלנו, נסענו להכיר את היופיים של מדבר הנגב. בין אם מדובר בצוקים המרשימים, בחי הבר המיוחד, או בשקט המוחלט, יש משהו מאוד מיוחד במדבר. אחת החוויות המרגשות ביותר שלנו הייתה לצפות בזרחת השמש מעל המדבר. האור המתפשט מאחורי ההרים, השמים המשתנים מאוד מהיר מאופל לתכלת, והשלווה המוחלטת שאפשר רק במדבר, הכל הפך את החוויה לבלתי נשכחת\", \n",
    "          \n",
    "          \"במהלך שנת הלימודים הראשונה שלי באוניברסיטה, הצטרפתי לקבוצת טיול שהגיעה להר האייפל. למרות הקור החודר, הייתי מחויב לעלות לפסגה בכל בוקר, כדי לצפות בזרחת השמש מעל פריס\", \n",
    "          \n",
    "          \"הייתי מתעורר בבוקר מוקדם, לפני כולם, כדי לצפות בזרחת השמש. היו ימים שהשמים היו מלאים בגוונים של ורוד וכתום, והאוויר הקר היה ממלא את הריאות. הייתי נושם את השקט, מאזין לשירת הציפורים, ומרגיש את היום החדש שמתחיל.\", \n",
    "          \n",
    "          \"הייתה לי הרגל לצפות בזרחת השמש כאשר הייתי טסה למקומות רחוקים. הייתי מתמקדת באור הזהב של השמש שהתפשט על פני האופק. זה היה רגע של שקט ושלווה, שבו הייתי מרגישה את האפשרויות של היום שלפני.\", \n",
    "          \n",
    "          \"אחד הדברים שאני ממש אוהב לעשות בחופשות הוא לצפות בזרחת השמש על גג המלון. אין דבר יותר מרגיע מאשר לשבת עם כוס קפה ביד, להתבונן בנוף, ולראות איך העולם מתעורר לחיים.\", \n",
    "          \n",
    "          \"במהלך ההליכה, עצרנו לרגע כדי לצפות בזרחת השמש. האור הראשוני של היום הזהיר את השמיים בצבעים של זהב, ואנחנו ישבנו שם בשקט, מתפללים ליום טוב.\", \n",
    "          \n",
    "          \"אני מאמין שאין דבר מרגש יותר מ לצפות בזרחת השמש. כאשר האור הראשונים מתחילים להתפשט באופק, אתה מרגיש כאילו אתה חלק ממשהו גדול מאוד. זה מזכיר לי כמה העולם הזה גדול ויפה.\", \n",
    "          \n",
    "          \"אחת הפעמים המיוחדות ביותר שבהן הזמנתי לצפות בזרחת השמש הייתה בחופשה שלי בהודו. הייתי מתעורר מוקדם, לפני כל העולם, ומשתקף למראה המרהיבה של השמש המתעלה מעל האוקיינוס. זה היה חוויה שאני לעולם לא אשכח.\", \n",
    "          \n",
    "          \"אני אוהב לצפות בזרחת השמש מהחלון שלי. זה נותן לי את האנרגיה להתחיל את היום. אני אפילו מקדיש כמה דקות בכל בוקר לקחת כוס קפה, לשבת מול החלון, ולהשתקף במראה המדהים הזה.\", \n",
    "          \n",
    "          \"בראשית, אני אוהב לצפות בזרחת השמש מהמרפסת שלי. זה מזכיר לי את היופי של העולם, את התקווה של יום חדש, ואת החיים הממשיכים להתפתח בכל יום. כל זריחה מציגה תמונה שונה, נוף חדש שממלא אותי בתחושת התרגשות והתפעלות.\", \n",
    "          \n",
    "          \"היום האחרון שלי ביפן היה יום מיוחד. יצאתי להליך מוקדם בבוקר, כדי לצפות בזרחת השמש מעל הר הפוג'. האור הראשוני של היום מאיר את השיחים המקופים בשלג, מצייר תמונה יפהפיה שאני לעולם לא אשכח.\", \n",
    "          \n",
    "          \"אחד החוויות המרגשות ביותר שלי היתה לצפות בזרחת השמש מעל הפירמידות במצרים. האור החום החודר את השחקים, מאיר את האבנים העתיקות, ומעניק להם מראה של זהב. זה היה רגע של התבוננות והתפעלות על ההיסטוריה שלנו.\", \n",
    "          \n",
    "          \"כאשר אני מטייל בים, אני מתכנן לצפות בזרחת השמש מהחוף. אין דבר מרהיב יותר מלראות את האור הראשון של היום מתפשט על גלי הים, משנה את צבעם לגוונים של זהב ואורנג'. זה הופך את החוויה של ההליכה למשהו יוצא דופן.\", \n",
    "          \n",
    "          \"האלפים היה חלום שלי. כשהגעתי לשם, הייתי עייף אבל מרוצה. לצפות בזרחת השמש מהפסגה, כשהאור העדין של השחר התחיל להתפשט על השפעי השלג הלבנים, היה חוויה בלתי נשכחת. העולם התמלא בנופים שלא ראיתי מעולם. זה היה מרגע של שלווה ושקט, שהיה שווה את כל המאמץ.\", \n",
    "          \n",
    "          \"אחרי שהוא התעורר מהשנה, איזיק הכין לעצמו כוס קפה והולך להסתובב בגן הפרטי שלו. זו הייתה הדרך האהובה עליו להתחיל את היום - לצפות בזרחת השמש ולשמוע את הציפורים מצפצפות.\", \n",
    "          \n",
    "          \"את חייבת לצפות בזרחת השמש מהחוף שלנו, אמר יגאל למרים, כאשר הם הגיעו לבית הנופש של המשפחה. זו תחוויה בלתי נשכחת, משהו שתזכורי לעוד שנים.\",\n",
    "          \n",
    "          \"בזמן שהכל בעיר עדיין ישן, רבקה מתעוררת בשעה המוקדמת ביותר שאפשר, מתארגנת, ויוצאת לרוץ. היא אוהבת את השקט של אותן שעות, והמראה של העיר שמתעוררת לחיים. אבל מעל כל, זה הזמן היחיד שהיא יכולה לצפות בזרחת השמש בלי להיות מופרעת.\",\n",
    "\n",
    "          \"לשפת האגם הגיעה מיה, המצלמה שלה כבר מוכנה לפעולה. היא התיישבה בשקט, מצפה לרגע הנכון. היא יודעת שממש בקרוב, היא תהיה מסוגלת לצפות בזרחת השמש, והיא רוצה לתפוס את הרגע המושלם בתמונה.\", \n",
    "\n",
    "          \"אחד הדברים המרגשים ביותר בנסיעה לאילת הוא ההזדמנות לצפות בזרחת השמש מעל המדבר. השמים משנים את צורתם מכל הכיוונים, מתוך כך מתמלאים בצבעים רבים, מאוד רומנטי. זהו זמן מיוחד להיות בהם, ולהרגיש את השקט שממלא את האוויר.\", \n",
    "\n",
    "          \"הלכתי לשבת על החוף, מחכה לצפות בזרחת השמש. הים היה שקט ומנוחה, האור הפליד התחיל להתפשט באופק. כשהשמש קמה, היא הפכה את השמים לפריים של צבעים מרהיבים. זה היה רגע של שלווה ושקט, שהגיע לפיקו בזריחה המרהיבה.\"\n",
    "]\n"
   ]
  },
  {
   "cell_type": "code",
   "execution_count": 3,
   "metadata": {},
   "outputs": [],
   "source": [
    "import torch\n",
    "from transformers import BertTokenizer, BertModel\n",
    "from transformers import BertModel, BertTokenizerFast\n",
    "from transformers import AutoTokenizer, AutoModel \n",
    "import transformers\n",
    "from scipy.spatial import distance_matrix\n",
    "import gudhi as gd\n",
    "from gudhi.hera import wasserstein_distance\n",
    "import numpy as np\n",
    "import matplotlib.pyplot as plt\n",
    "\n",
    "\n",
    "def compute_output_model(tokenizer, model, sentence, layer, head):\n",
    "    # Load pre-trained model\n",
    "\n",
    "    # Tokenize input and convert to tensor\n",
    "    inputs = tokenizer(sentence, return_tensors=\"pt\")\n",
    "\n",
    "    # Forward pass\n",
    "    # Specify `output_hidden_states=True` when calling the model\n",
    "    outputs = model(**inputs, output_attentions=True, output_hidden_states=True)\n",
    "\n",
    "    # Obtain the attention weights\n",
    "    attentions = outputs.attentions\n",
    "\n",
    "    # Obtain the attention weights for the specific layer and head\n",
    "    S = attentions[layer][0, head]\n",
    "\n",
    "    # Obtain the value vectors\n",
    "    model.eval()\n",
    "    with torch.no_grad():\n",
    "        hidden_states = outputs.hidden_states[layer]\n",
    "        all_W_v = model.encoder.layer[layer].attention.self.value.weight\n",
    "        num_heads = model.config.num_attention_heads\n",
    "        head_dim = model.config.hidden_size // num_heads\n",
    "        W_v_heads = all_W_v.view(num_heads, head_dim, model.config.hidden_size)\n",
    "        W_v = W_v_heads[head]\n",
    "        V = torch.matmul(hidden_states, W_v.t())\n",
    "\n",
    "    # Compute the output O\n",
    "    O = torch.matmul(S, V)\n",
    "\n",
    "    return O\n",
    "\n",
    "\n",
    "\n",
    "def compute_phrase_distances_and_homology(tokenizer, context_vectors, sentence, phrase):\n",
    "    # Initialize the tokenizer\n",
    "\n",
    "    # Tokenize the sentence and the phrase\n",
    "    sentence_tokens = tokenizer.encode(sentence, add_special_tokens=False)\n",
    "    phrase_tokens = tokenizer.encode(phrase, add_special_tokens=False)\n",
    "\n",
    "    # Find the indices of the phrase tokens in the sentence\n",
    "    phrase_indices = []\n",
    "    phrase_length = len(phrase_tokens)\n",
    "    for i in range(len(sentence_tokens) - phrase_length + 1):\n",
    "        if sentence_tokens[i:i+phrase_length] == phrase_tokens:\n",
    "            phrase_indices.extend(range(i, i+phrase_length))\n",
    "            break\n",
    "\n",
    "    # Extract the context vectors for the phrase\n",
    "    phrase_context_vectors = context_vectors[0, phrase_indices]\n",
    "\n",
    "    # Detach the tensor and convert to numpy array\n",
    "    phrase_context_vectors_np = phrase_context_vectors.detach().numpy()\n",
    "\n",
    "    # Compute the pairwise Euclidean distances among the phrase context vectors\n",
    "    distances = distance_matrix(phrase_context_vectors_np, phrase_context_vectors_np)\n",
    "\n",
    "    # Compute the persistent homology of the distance matrix\n",
    "    rips_complex = gd.RipsComplex(distance_matrix=distances, max_edge_length=np.max(distances))\n",
    "    simplex_tree = rips_complex.create_simplex_tree(max_dimension=2)\n",
    "    persistent_homology = simplex_tree.persistence(min_persistence=0.001)\n",
    "\n",
    "    return persistent_homology\n",
    "\n",
    "\n",
    "\n",
    "def transform_persistence_diagram(diagram, target_dimension=0):\n",
    "    # Only include features of the target dimension and return the transformed diagram\n",
    "    return [(birth, death) for dimension, (birth, death) in diagram if dimension == target_dimension]\n",
    "\n",
    "\n",
    "\n",
    "def compute_wasserstein_distances(persistence_diagrams, p=2, target_dimension=0):\n",
    "    n = len(persistence_diagrams)\n",
    "    distances = np.zeros((n, n))\n",
    "    for i in range(n):\n",
    "        for j in range(i+1, n):\n",
    "            diagram1 = transform_persistence_diagram(persistence_diagrams[i], target_dimension)\n",
    "            diagram2 = transform_persistence_diagram(persistence_diagrams[j], target_dimension)\n",
    "            distance = wasserstein_distance(diagram1, diagram2, order=1., internal_p=2.)\n",
    "            distances[i, j] = distance\n",
    "            distances[j, i] = distance\n",
    "    return distances\n",
    "\n",
    "\n",
    "\n",
    "def count_negative_entries_below_diagonal(matrix):\n",
    "    count = 0\n",
    "    total = 0\n",
    "    n = len(matrix)\n",
    "    for i in range(n):\n",
    "        for j in range(i):\n",
    "            if matrix[i][j] < 0:\n",
    "                count += 1\n",
    "            total += 1\n",
    "    return count, total"
   ]
  },
  {
   "attachments": {},
   "cell_type": "markdown",
   "metadata": {},
   "source": [
    "### Compute the context vectors for all layers and heads for the first model"
   ]
  },
  {
   "cell_type": "code",
   "execution_count": 4,
   "metadata": {},
   "outputs": [
    {
     "name": "stderr",
     "output_type": "stream",
     "text": [
      "The tokenizer class you load from this checkpoint is not the same type as the class this function is called from. It may result in unexpected tokenization. \n",
      "The tokenizer class you load from this checkpoint is 'RobertaTokenizer'. \n",
      "The class this function is called from is 'BertTokenizer'.\n",
      "Some weights of the model checkpoint at TurkuNLP/wikibert-base-he-cased were not used when initializing BertModel: ['cls.predictions.bias', 'cls.predictions.decoder.bias', 'cls.predictions.transform.dense.weight', 'cls.predictions.transform.LayerNorm.weight', 'cls.seq_relationship.bias', 'cls.seq_relationship.weight', 'cls.predictions.decoder.weight', 'cls.predictions.transform.dense.bias', 'cls.predictions.transform.LayerNorm.bias']\n",
      "- This IS expected if you are initializing BertModel from the checkpoint of a model trained on another task or with another architecture (e.g. initializing a BertForSequenceClassification model from a BertForPreTraining model).\n",
      "- This IS NOT expected if you are initializing BertModel from the checkpoint of a model that you expect to be exactly identical (initializing a BertForSequenceClassification model from a BertForSequenceClassification model).\n"
     ]
    }
   ],
   "source": [
    "tokenizer = transformers.BertTokenizer.from_pretrained(\"TurkuNLP/wikibert-base-he-cased\")\n",
    "model = transformers.BertModel.from_pretrained(\"TurkuNLP/wikibert-base-he-cased\", output_attentions=True)\n",
    "\n",
    "# Get the number of layers and heads in the model\n",
    "num_layers = model.config.num_hidden_layers\n",
    "num_heads = model.config.num_attention_heads\n",
    "\n",
    "context = []\n",
    "for i in range(len(text)-15):\n",
    "    sentence_context = []\n",
    "    for layer in range(num_layers):\n",
    "        layer_context = []\n",
    "        for head in range(num_heads):\n",
    "            layer_context.append(compute_output_model(tokenizer, model, text[i], layer, head))\n",
    "        sentence_context.append(layer_context)\n",
    "    context.append(sentence_context)\n"
   ]
  },
  {
   "attachments": {},
   "cell_type": "markdown",
   "metadata": {},
   "source": [
    "### Print the context vectors for the first model for `paragraph`, `layer`, and `head`"
   ]
  },
  {
   "cell_type": "code",
   "execution_count": 5,
   "metadata": {},
   "outputs": [
    {
     "name": "stdout",
     "output_type": "stream",
     "text": [
      "torch.Size([1, 50, 64])\n",
      "tensor([[[ 0.1344, -0.0279,  0.0493,  ...,  0.0788,  0.2779,  0.2163],\n",
      "         [-0.3511, -0.6605,  0.6549,  ...,  0.3316,  1.5600, -0.2835],\n",
      "         [-0.1105, -0.0528, -0.0322,  ...,  0.3010,  0.6113,  0.3851],\n",
      "         ...,\n",
      "         [-0.7663,  0.4865, -0.7388,  ...,  0.2897,  0.0689, -0.1201],\n",
      "         [ 0.1068, -0.0546,  0.0181,  ...,  0.1291,  0.3789,  0.2001],\n",
      "         [ 0.1545, -0.0393, -0.0024,  ...,  0.0817,  0.1636,  0.0959]]],\n",
      "       grad_fn=<CloneBackward0>)\n"
     ]
    }
   ],
   "source": [
    "paragraph = len(text)-16\n",
    "layer = 11\n",
    "head = 11\n",
    "\n",
    "print(context[paragraph][layer][head].shape)\n",
    "print(context[paragraph][layer][head])"
   ]
  },
  {
   "attachments": {},
   "cell_type": "markdown",
   "metadata": {},
   "source": [
    "### Compute the context vectors for all layers and heads for the second model"
   ]
  },
  {
   "cell_type": "code",
   "execution_count": 6,
   "metadata": {},
   "outputs": [
    {
     "name": "stderr",
     "output_type": "stream",
     "text": [
      "Some weights of the model checkpoint at dicta-il/alephbertgimmel-base were not used when initializing BertModel: ['cls.predictions.bias', 'cls.predictions.decoder.bias', 'cls.predictions.transform.dense.weight', 'cls.predictions.transform.LayerNorm.weight', 'cls.predictions.decoder.weight', 'cls.predictions.transform.dense.bias', 'cls.predictions.transform.LayerNorm.bias']\n",
      "- This IS expected if you are initializing BertModel from the checkpoint of a model trained on another task or with another architecture (e.g. initializing a BertForSequenceClassification model from a BertForPreTraining model).\n",
      "- This IS NOT expected if you are initializing BertModel from the checkpoint of a model that you expect to be exactly identical (initializing a BertForSequenceClassification model from a BertForSequenceClassification model).\n",
      "Some weights of BertModel were not initialized from the model checkpoint at dicta-il/alephbertgimmel-base and are newly initialized: ['bert.pooler.dense.bias', 'bert.pooler.dense.weight']\n",
      "You should probably TRAIN this model on a down-stream task to be able to use it for predictions and inference.\n"
     ]
    }
   ],
   "source": [
    "tokenizer_2 = AutoTokenizer.from_pretrained('dicta-il/alephbertgimmel-base')\n",
    "model_2 = AutoModel.from_pretrained(\"dicta-il/alephbertgimmel-base\", output_attentions=True) \n",
    "\n",
    "# Get the number of layers and heads in the model\n",
    "num_layers = model_2.config.num_hidden_layers\n",
    "num_heads = model_2.config.num_attention_heads\n",
    "\n",
    "context_2 = []\n",
    "for i in range(len(text)-15):\n",
    "    sentence_context_2 = []\n",
    "    for layer in range(num_layers):\n",
    "        layer_context_2 = []\n",
    "        for head in range(num_heads):\n",
    "            layer_context_2.append(compute_output_model(tokenizer_2, model_2, text[i], layer, head))\n",
    "        sentence_context_2.append(layer_context_2)\n",
    "    context_2.append(sentence_context_2)\n"
   ]
  },
  {
   "attachments": {},
   "cell_type": "markdown",
   "metadata": {},
   "source": [
    "### Print the context vectors for the second model for `paragraph`, `layer`, and `head`"
   ]
  },
  {
   "cell_type": "code",
   "execution_count": 7,
   "metadata": {},
   "outputs": [
    {
     "name": "stdout",
     "output_type": "stream",
     "text": [
      "torch.Size([1, 38, 64])\n",
      "tensor([[[ 0.0164,  0.0011,  0.0030,  ..., -0.0026,  0.0043, -0.0011],\n",
      "         [ 0.0409,  0.0460,  0.1011,  ..., -0.0063, -0.0306, -0.0672],\n",
      "         [ 0.0142,  0.0210,  0.0050,  ..., -0.0190,  0.0122, -0.0507],\n",
      "         ...,\n",
      "         [ 0.0208, -0.0019,  0.0166,  ..., -0.0339, -0.0034, -0.0179],\n",
      "         [ 0.0235, -0.0020,  0.0126,  ..., -0.0097, -0.0027, -0.0107],\n",
      "         [ 0.0175, -0.0035,  0.0086,  ..., -0.0135,  0.0026, -0.0044]]],\n",
      "       grad_fn=<CloneBackward0>)\n"
     ]
    }
   ],
   "source": [
    "paragraph = len(text)-16\n",
    "layer = 11\n",
    "head = 11\n",
    "\n",
    "print(context_2[paragraph][layer][head].shape)\n",
    "print(context_2[paragraph][layer][head])"
   ]
  },
  {
   "attachments": {},
   "cell_type": "markdown",
   "metadata": {},
   "source": [
    "### Compute Persistent Homology of the Keyphrase for the First Model Across All Contexts\n",
    "\n",
    "Here we compute the persistent homoloy of the keyphrase \"לצפות בזרחת השמש\" for each context paragraph `text[i]`, for each head of each layer. This will give us one persistence diagram per context, per head of the model. We store the results in `persistent_homology`. "
   ]
  },
  {
   "cell_type": "code",
   "execution_count": 8,
   "metadata": {},
   "outputs": [
    {
     "name": "stderr",
     "output_type": "stream",
     "text": [
      "The tokenizer class you load from this checkpoint is not the same type as the class this function is called from. It may result in unexpected tokenization. \n",
      "The tokenizer class you load from this checkpoint is 'RobertaTokenizer'. \n",
      "The class this function is called from is 'BertTokenizer'.\n"
     ]
    }
   ],
   "source": [
    "tokenizer = transformers.BertTokenizer.from_pretrained(\"TurkuNLP/wikibert-base-he-cased\")\n",
    "\n",
    "# Get the number of layers and heads in the model\n",
    "num_layers = model.config.num_hidden_layers\n",
    "num_heads = model.config.num_attention_heads\n",
    "\n",
    "persistent_homology = []\n",
    "\n",
    "for i in range(len(text)-15):\n",
    "    sentence_persistent_homology = []\n",
    "    for layer in range(num_layers):\n",
    "        layer_persistent_homology = []\n",
    "        for head in range(num_heads):\n",
    "            layer_persistent_homology.append(compute_phrase_distances_and_homology(tokenizer, context[i][layer][head], text[i], \"לצפות בזרחת השמש\"))\n",
    "        sentence_persistent_homology.append(layer_persistent_homology)\n",
    "    persistent_homology.append(sentence_persistent_homology)\n"
   ]
  },
  {
   "cell_type": "code",
   "execution_count": 9,
   "metadata": {},
   "outputs": [
    {
     "data": {
      "text/plain": [
       "[(0, (0.0, inf)),\n",
       " (0, (0.0, 5.320852064076633)),\n",
       " (0, (0.0, 4.669724639887102)),\n",
       " (0, (0.0, 4.208814757865532)),\n",
       " (0, (0.0, 4.147969554745325))]"
      ]
     },
     "execution_count": 9,
     "metadata": {},
     "output_type": "execute_result"
    }
   ],
   "source": [
    "paragraph = len(text)-16\n",
    "layer = 11\n",
    "head = 11\n",
    "\n",
    "persistent_homology[paragraph][layer][head]"
   ]
  },
  {
   "attachments": {},
   "cell_type": "markdown",
   "metadata": {},
   "source": [
    "### Compute Persistent Homology of the Keyphrase for the Second Model Across All Contexts\n",
    "\n",
    "Here we compute the persistent homoloy of the keyphrase \"לצפות בזרחת השמש\" for each context paragraph `text[i]`, for each head of each layer. This will give us one persistence diagram per context, per head of the model. We store the results in `persistent_homology_2`. "
   ]
  },
  {
   "cell_type": "code",
   "execution_count": 10,
   "metadata": {},
   "outputs": [],
   "source": [
    "tokenizer_2 = AutoTokenizer.from_pretrained('dicta-il/alephbertgimmel-base')\n",
    "\n",
    "# Get the number of layers and heads in the model\n",
    "num_layers = model_2.config.num_hidden_layers\n",
    "num_heads = model_2.config.num_attention_heads\n",
    "\n",
    "persistent_homology_2 = []\n",
    "\n",
    "for i in range(len(text)-15):\n",
    "    sentence_persistent_homology_2 = []\n",
    "    for layer in range(num_layers):\n",
    "        layer_persistent_homology_2 = []\n",
    "        for head in range(num_heads):\n",
    "            layer_persistent_homology_2.append(compute_phrase_distances_and_homology(tokenizer_2, context_2[i][layer][head], text[i], \"לצפות בזרחת השמש\"))\n",
    "        sentence_persistent_homology_2.append(layer_persistent_homology_2)\n",
    "    persistent_homology_2.append(sentence_persistent_homology_2)\n"
   ]
  },
  {
   "attachments": {},
   "cell_type": "markdown",
   "metadata": {},
   "source": [
    "### Compute Persistence Diagrams for First Model"
   ]
  },
  {
   "cell_type": "code",
   "execution_count": 11,
   "metadata": {},
   "outputs": [],
   "source": [
    "# Get the number of layers and heads in the model\n",
    "num_layers = model.config.num_hidden_layers\n",
    "num_heads = model.config.num_attention_heads\n",
    "\n",
    "persistence_diagrams = []\n",
    "\n",
    "for i in range(len(text)-15):\n",
    "    sentence_persistence_diagrams = []\n",
    "    for layer in range(num_layers):\n",
    "        layer_persistence_diagrams = []\n",
    "        for head in range(num_heads):\n",
    "            layer_persistence_diagrams.append(persistent_homology[i][layer][head])\n",
    "        sentence_persistence_diagrams.append(layer_persistence_diagrams)\n",
    "    persistence_diagrams.append(sentence_persistence_diagrams)"
   ]
  },
  {
   "attachments": {},
   "cell_type": "markdown",
   "metadata": {},
   "source": [
    "### Compute Persistence Diagrams for Second Model"
   ]
  },
  {
   "cell_type": "code",
   "execution_count": 12,
   "metadata": {},
   "outputs": [],
   "source": [
    "# Get the number of layers and heads in the model\n",
    "num_layers = model_2.config.num_hidden_layers\n",
    "num_heads = model_2.config.num_attention_heads\n",
    "\n",
    "persistence_diagrams_2 = []\n",
    "\n",
    "for i in range(len(text)-15):\n",
    "    sentence_persistence_diagrams_2 = []\n",
    "    for layer in range(num_layers):\n",
    "        layer_persistence_diagrams_2 = []\n",
    "        for head in range(num_heads):\n",
    "            layer_persistence_diagrams_2.append(persistent_homology_2[i][layer][head])\n",
    "        sentence_persistence_diagrams_2.append(layer_persistence_diagrams_2)\n",
    "    persistence_diagrams_2.append(sentence_persistence_diagrams_2)"
   ]
  },
  {
   "attachments": {},
   "cell_type": "markdown",
   "metadata": {},
   "source": [
    "### Distance Matrices for `layer` and `head` of the first model"
   ]
  },
  {
   "cell_type": "code",
   "execution_count": 14,
   "metadata": {},
   "outputs": [],
   "source": [
    "# Get the number of layers and heads in the model\n",
    "num_layers = model.config.num_hidden_layers\n",
    "num_heads = model.config.num_attention_heads\n",
    "\n",
    "# Initialize w_distances\n",
    "w_distances = [[None for _ in range(num_heads)] for _ in range(num_layers)]\n",
    "\n",
    "for layer in range(num_layers):\n",
    "    for head in range(num_heads):\n",
    "        w_distances[layer][head] = compute_wasserstein_distances([persistent_homology[paragraph][layer][head] for paragraph in range(len(text)-15)])\n"
   ]
  },
  {
   "attachments": {},
   "cell_type": "markdown",
   "metadata": {},
   "source": [
    "\n",
    "Here we print the Wasserstein distance matrix giving the pairwise Wasserstein distances between each pair of persistence diagrams for the phrase \"לצפות בזרחת השמש\" in each of the contexts `text[i]` (we have restricted to a particular range of `i` values due to computational limitations). Note here, we have a $7 \\times 7$ distance matrix because we have restricted to `len(text)-13` contexts. "
   ]
  },
  {
   "cell_type": "code",
   "execution_count": 15,
   "metadata": {},
   "outputs": [
    {
     "name": "stdout",
     "output_type": "stream",
     "text": [
      "(5, 5)\n",
      "[[0.         1.91550692 5.42725774 3.28734218 6.43482884]\n",
      " [1.91550692 0.         3.51175082 1.82834971 4.51932193]\n",
      " [5.42725774 3.51175082 0.         2.24399684 1.0075711 ]\n",
      " [3.28734218 1.82834971 2.24399684 0.         3.14748666]\n",
      " [6.43482884 4.51932193 1.0075711  3.14748666 0.        ]]\n"
     ]
    }
   ],
   "source": [
    "print(w_distances[layer][head].shape)\n",
    "print(w_distances[layer][head])"
   ]
  },
  {
   "attachments": {},
   "cell_type": "markdown",
   "metadata": {},
   "source": [
    "### Distance Matrices for `layer` and `head` of the second model\n"
   ]
  },
  {
   "cell_type": "code",
   "execution_count": 16,
   "metadata": {},
   "outputs": [],
   "source": [
    "# Get the number of layers and heads in the model\n",
    "num_layers = model_2.config.num_hidden_layers\n",
    "num_heads = model_2.config.num_attention_heads\n",
    "\n",
    "# Initialize w_distances\n",
    "w_distances_2 = [[None for _ in range(num_heads)] for _ in range(num_layers)]\n",
    "\n",
    "for layer in range(num_layers):\n",
    "    for head in range(num_heads):\n",
    "        w_distances_2[layer][head] = compute_wasserstein_distances([persistent_homology_2[paragraph][layer][head] for paragraph in range(len(text)-15)])\n"
   ]
  },
  {
   "cell_type": "code",
   "execution_count": 17,
   "metadata": {},
   "outputs": [
    {
     "name": "stdout",
     "output_type": "stream",
     "text": [
      "(5, 5)\n",
      "[[0.         0.41156989 0.30807921 0.53128823 0.3306788 ]\n",
      " [0.41156989 0.         0.63907578 0.94285812 0.47170782]\n",
      " [0.30807921 0.63907578 0.         0.30378234 0.5869847 ]\n",
      " [0.53128823 0.94285812 0.30378234 0.         0.78024975]\n",
      " [0.3306788  0.47170782 0.5869847  0.78024975 0.        ]]\n"
     ]
    }
   ],
   "source": [
    "print(w_distances_2[layer][head].shape)\n",
    "print(w_distances_2[layer][head])"
   ]
  },
  {
   "attachments": {},
   "cell_type": "markdown",
   "metadata": {},
   "source": [
    "### Example of how to use `compute_wasserstein_distances()` with three diagrams"
   ]
  },
  {
   "cell_type": "code",
   "execution_count": 18,
   "metadata": {},
   "outputs": [
    {
     "name": "stdout",
     "output_type": "stream",
     "text": [
      "[[0.         0.093266   0.30055556]\n",
      " [0.093266   0.         0.30923292]\n",
      " [0.30055556 0.30923292 0.        ]]\n"
     ]
    }
   ],
   "source": [
    "# Example persistence diagrams\n",
    "diagram1 = [(0, (0.0, np.inf)), (0, (0.0, 0.956513248524484)), (0, (0.0, 0.7576938647389735)), \n",
    "            (1, (0.0, np.inf)), (1, (0.0, 0.97)), (2, (0.0, 0.756734))]\n",
    "diagram2 = [(0, (0.0, np.inf)), (0, (0.0, 1.379910903112847)), (0, (0.0, 1.087934789448628)), \n",
    "            (1, (0.0, np.inf)), (1, (0.0, 1.2)), (2, (0.0, 0.85))]\n",
    "diagram3 = [(0, (0.0, np.inf)), (0, (0.0, 1.379910903112847)), (0, (0.0, 1.08793478)), \n",
    "            (1, (0.0, np.inf)), (1, (0.1, 1.2567)), (2, (0.3, 0.775))]\n",
    "\n",
    "# Compute Wasserstein distances\n",
    "distances = compute_wasserstein_distances([diagram1, diagram2, diagram3], target_dimension=2)\n",
    "print(distances)\n"
   ]
  },
  {
   "attachments": {},
   "cell_type": "markdown",
   "metadata": {},
   "source": [
    "### Percentages for Performance Comparison\n",
    "\n",
    "This next block of code will create a $144 \\times 144$ array (or more accurately a $12 \\times 12 \\times 12 \\times 12$ array, since there are $12$ layers with $12$ heads in each layer) to store the percentages indication what percentage of entries of the matrices `w_distances[layer_1][head_1] - w_distances_2[layer_2][head_2]` are negative. Here, we are comparing each head's Wasserstein distances in one model, that is `w_distances[layer_1][head_1]` to each head's Wasserstein distances in a second model, that is `w_distances_2[layer_2][head_2]`. This effectively compares how well the persistent homology is preserved by one `head` in the first model, to how well the persistent homology is preserved by a second `head` in a second model. If the percentage of negative entries is high in the matrix `w_distances[layer_1][head_1] - w_distances_2[layer_2][head_2]`, then the matrix `w_distances_2[layer_2][head_2]` is larger in more places than not, indcating that the second model's Wasserstein distances are higher much more often than the first model's Wasserstein distances. This means the second model is *worse* at preserving persistent homology. On the other hand, if the percentage of the entries in `w_distances[layer_1][head_1] - w_distances_2[layer_2][head_2]` that are negative is low, then the first model's attention head outperforms the second model's attention head at preserving the persistent homology. Doing this for every `head` in every`layer`, w get the $12 \\times 12 \\times 12 \\times 12$ array `percentages`. Querying `percentages` by calling `percentages[layer_1][head_1][layer_2][head_2]` for a heads in specific layers gives us the percentage of entries below the diagonal in `w_distances[layer_1][head_1] - w_distances_2[layer_2][head_2]` that are negative. "
   ]
  },
  {
   "cell_type": "code",
   "execution_count": 19,
   "metadata": {},
   "outputs": [
    {
     "name": "stdout",
     "output_type": "stream",
     "text": [
      "(12, 12, 12, 12)\n",
      "Percentages of negative entries below the diagonal:  [[[[  0.   0.   0. ...   0.   0.   0.]\n",
      "   [  0.   0.   0. ...   0.   0.   0.]\n",
      "   [  0.   0.   0. ...   0.   0.   0.]\n",
      "   ...\n",
      "   [ 10.   0.   0. ...   0.   0.   0.]\n",
      "   [  0.   0.   0. ...   0.   0.   0.]\n",
      "   [ 10.   0.   0. ...   0.   0.  10.]]\n",
      "\n",
      "  [[  0.  10.   0. ...   0.   0.   0.]\n",
      "   [ 20.   0.   0. ...  10.   0.  10.]\n",
      "   [ 10.   0.   0. ...   0.   0.  10.]\n",
      "   ...\n",
      "   [ 30.   0.   0. ...   0.   0.   0.]\n",
      "   [  0.   0.   0. ...   0.   0.   0.]\n",
      "   [ 40.   0.   0. ...   0.   0.  40.]]\n",
      "\n",
      "  [[ 10.  10.   0. ...   0.   0.   0.]\n",
      "   [ 10.   0.   0. ...   0.   0.   0.]\n",
      "   [ 10.   0.   0. ...   0.   0.  10.]\n",
      "   ...\n",
      "   [ 10.   0.   0. ...   0.   0.   0.]\n",
      "   [  0.   0.   0. ...   0.   0.   0.]\n",
      "   [ 20.   0.   0. ...   0.   0.  10.]]\n",
      "\n",
      "  ...\n",
      "\n",
      "  [[ 10.  10.   0. ...   0.   0.   0.]\n",
      "   [ 50.   0.   0. ...  10.  40.  30.]\n",
      "   [ 20.   0.   0. ...   0.   0.  10.]\n",
      "   ...\n",
      "   [ 40.   0.  10. ...   0.  20.   0.]\n",
      "   [  0.  10.   0. ...   0.   0.   0.]\n",
      "   [ 80.   0.   0. ...  10.   0.  70.]]\n",
      "\n",
      "  [[  0.  10.   0. ...   0.   0.   0.]\n",
      "   [ 10.   0.   0. ...   0.  10.   0.]\n",
      "   [  0.   0.   0. ...   0.   0.   0.]\n",
      "   ...\n",
      "   [ 10.   0.   0. ...   0.   0.   0.]\n",
      "   [  0.   0.   0. ...   0.   0.   0.]\n",
      "   [ 30.   0.   0. ...   0.   0.  30.]]\n",
      "\n",
      "  [[  0.   0.   0. ...   0.   0.   0.]\n",
      "   [ 30.   0.   0. ...   0.   0.  10.]\n",
      "   [ 10.   0.   0. ...   0.   0.  10.]\n",
      "   ...\n",
      "   [ 10.   0.   0. ...   0.   0.   0.]\n",
      "   [  0.   0.   0. ...   0.   0.   0.]\n",
      "   [ 50.   0.   0. ...  10.   0.  30.]]]\n",
      "\n",
      "\n",
      " [[[  0.  10.   0. ...   0.   0.   0.]\n",
      "   [ 30.   0.   0. ...   0.  20.  10.]\n",
      "   [  0.   0.   0. ...   0.   0.   0.]\n",
      "   ...\n",
      "   [ 10.   0.   0. ...   0.   0.   0.]\n",
      "   [  0.   0.   0. ...   0.   0.   0.]\n",
      "   [ 60.   0.   0. ...   0.   0.  10.]]\n",
      "\n",
      "  [[  0.   0.   0. ...   0.   0.   0.]\n",
      "   [  0.   0.   0. ...   0.   0.   0.]\n",
      "   [  0.   0.   0. ...   0.   0.   0.]\n",
      "   ...\n",
      "   [  0.   0.   0. ...   0.   0.   0.]\n",
      "   [  0.   0.   0. ...   0.   0.   0.]\n",
      "   [ 20.   0.   0. ...   0.   0.  10.]]\n",
      "\n",
      "  [[  0.   0.   0. ...   0.   0.   0.]\n",
      "   [  0.   0.   0. ...   0.   0.   0.]\n",
      "   [  0.   0.   0. ...   0.   0.   0.]\n",
      "   ...\n",
      "   [  0.   0.   0. ...   0.   0.   0.]\n",
      "   [  0.   0.   0. ...   0.   0.   0.]\n",
      "   [  0.   0.   0. ...   0.   0.   0.]]\n",
      "\n",
      "  ...\n",
      "\n",
      "  [[ 20.  20.   0. ...   0.  10.   0.]\n",
      "   [ 40.   0.   0. ...   0.   0.   0.]\n",
      "   [ 30.  10.  10. ...   0.   0.  20.]\n",
      "   ...\n",
      "   [ 20.  10.  10. ...   0.  10.   0.]\n",
      "   [  0.  10.   0. ...   0.   0.   0.]\n",
      "   [ 50.   0.   0. ...  20.   0.  40.]]\n",
      "\n",
      "  [[  0.   0.   0. ...   0.   0.   0.]\n",
      "   [  0.   0.   0. ...   0.   0.   0.]\n",
      "   [  0.   0.   0. ...   0.   0.   0.]\n",
      "   ...\n",
      "   [ 10.   0.   0. ...   0.   0.   0.]\n",
      "   [  0.   0.   0. ...   0.   0.   0.]\n",
      "   [ 30.   0.   0. ...   0.   0.  20.]]\n",
      "\n",
      "  [[  0.  10.   0. ...   0.   0.   0.]\n",
      "   [ 50.   0.   0. ...   0.  30.  30.]\n",
      "   [ 30.   0.   0. ...   0.  10.  40.]\n",
      "   ...\n",
      "   [ 40.  30.  10. ...   0.  20.  10.]\n",
      "   [  0.  20.   0. ...   0.   0.   0.]\n",
      "   [ 70.   0.   0. ...  20.   0.  80.]]]\n",
      "\n",
      "\n",
      " [[[  0.   0.   0. ...   0.   0.   0.]\n",
      "   [ 20.   0.   0. ...   0.  10.  20.]\n",
      "   [  0.   0.   0. ...   0.   0.   0.]\n",
      "   ...\n",
      "   [ 10.   0.   0. ...   0.   0.   0.]\n",
      "   [  0.   0.   0. ...   0.   0.   0.]\n",
      "   [ 30.   0.   0. ...   0.   0.   0.]]\n",
      "\n",
      "  [[  0.  20.   0. ...   0.   0.   0.]\n",
      "   [ 40.   0.   0. ...   0.  30.  10.]\n",
      "   [  0.   0.   0. ...   0.   0.   0.]\n",
      "   ...\n",
      "   [ 10.  10.   0. ...   0.  10.   0.]\n",
      "   [  0.   0.   0. ...   0.   0.   0.]\n",
      "   [ 70.   0.   0. ...  10.   0.  50.]]\n",
      "\n",
      "  [[ 10.  20.   0. ...   0.  10.  10.]\n",
      "   [ 70.   0.   0. ...   0.  50.  30.]\n",
      "   [ 30.  10.  10. ...   0.   0.  30.]\n",
      "   ...\n",
      "   [ 40.  20.   0. ...   0.  10.   0.]\n",
      "   [ 10.  10.   0. ...   0.   0.   0.]\n",
      "   [ 70.   0.   0. ...  10.   0.  80.]]\n",
      "\n",
      "  ...\n",
      "\n",
      "  [[  0.   0.   0. ...   0.   0.   0.]\n",
      "   [ 40.   0.   0. ...   0.  40.  20.]\n",
      "   [  0.   0.   0. ...   0.   0.   0.]\n",
      "   ...\n",
      "   [ 20.   0.   0. ...   0.   0.   0.]\n",
      "   [  0.   0.   0. ...   0.   0.   0.]\n",
      "   [ 60.   0.   0. ...   0.   0.  50.]]\n",
      "\n",
      "  [[  0.   0.   0. ...   0.   0.   0.]\n",
      "   [  0.   0.   0. ...   0.   0.   0.]\n",
      "   [  0.   0.   0. ...   0.   0.   0.]\n",
      "   ...\n",
      "   [  0.   0.   0. ...   0.   0.   0.]\n",
      "   [  0.   0.   0. ...   0.   0.   0.]\n",
      "   [  0.   0.   0. ...   0.   0.   0.]]\n",
      "\n",
      "  [[ 60.  60.   0. ...  10.  20.  20.]\n",
      "   [ 70.   0.  20. ...  20.  80.  50.]\n",
      "   [ 80.  30.  40. ...  30.  50.  70.]\n",
      "   ...\n",
      "   [ 80.  50.  40. ...  30.  50.  20.]\n",
      "   [ 20.  60.  10. ...   0.   0.   0.]\n",
      "   [100.   0.   0. ...  50.   0. 100.]]]\n",
      "\n",
      "\n",
      " ...\n",
      "\n",
      "\n",
      " [[[  0.   0.   0. ...   0.   0.   0.]\n",
      "   [  0.   0.   0. ...   0.   0.   0.]\n",
      "   [  0.   0.   0. ...   0.   0.   0.]\n",
      "   ...\n",
      "   [  0.   0.   0. ...   0.   0.   0.]\n",
      "   [  0.   0.   0. ...   0.   0.   0.]\n",
      "   [ 20.   0.   0. ...   0.   0.   0.]]\n",
      "\n",
      "  [[  0.  10.   0. ...   0.   0.   0.]\n",
      "   [ 10.   0.   0. ...   0.  10.   0.]\n",
      "   [  0.   0.   0. ...   0.   0.   0.]\n",
      "   ...\n",
      "   [  0.   0.   0. ...   0.   0.   0.]\n",
      "   [  0.   0.   0. ...   0.   0.   0.]\n",
      "   [ 10.   0.   0. ...   0.   0.  10.]]\n",
      "\n",
      "  [[  0.   0.   0. ...   0.   0.   0.]\n",
      "   [  0.   0.   0. ...   0.   0.   0.]\n",
      "   [  0.   0.   0. ...   0.   0.   0.]\n",
      "   ...\n",
      "   [  0.   0.   0. ...   0.   0.   0.]\n",
      "   [  0.   0.   0. ...   0.   0.   0.]\n",
      "   [ 10.   0.   0. ...   0.   0.   0.]]\n",
      "\n",
      "  ...\n",
      "\n",
      "  [[  0.   0.   0. ...   0.   0.   0.]\n",
      "   [  0.   0.   0. ...   0.   0.   0.]\n",
      "   [  0.   0.   0. ...   0.   0.   0.]\n",
      "   ...\n",
      "   [  0.   0.   0. ...   0.   0.   0.]\n",
      "   [  0.   0.   0. ...   0.   0.   0.]\n",
      "   [  0.   0.   0. ...   0.   0.  10.]]\n",
      "\n",
      "  [[  0.   0.   0. ...   0.   0.   0.]\n",
      "   [  0.   0.   0. ...   0.   0.   0.]\n",
      "   [  0.   0.   0. ...   0.   0.   0.]\n",
      "   ...\n",
      "   [  0.   0.   0. ...   0.   0.   0.]\n",
      "   [  0.   0.   0. ...   0.   0.   0.]\n",
      "   [ 10.   0.   0. ...   0.   0.   0.]]\n",
      "\n",
      "  [[  0.   0.   0. ...   0.   0.   0.]\n",
      "   [  0.   0.   0. ...   0.   0.   0.]\n",
      "   [  0.   0.   0. ...   0.   0.   0.]\n",
      "   ...\n",
      "   [  0.   0.   0. ...   0.   0.   0.]\n",
      "   [  0.   0.   0. ...   0.   0.   0.]\n",
      "   [ 10.   0.   0. ...   0.   0.  10.]]]\n",
      "\n",
      "\n",
      " [[[  0.  10.   0. ...   0.   0.  10.]\n",
      "   [ 10.   0.   0. ...  10.  10.  10.]\n",
      "   [ 10.   0.  10. ...   0.   0.   0.]\n",
      "   ...\n",
      "   [ 20.  10.   0. ...   0.  10.   0.]\n",
      "   [ 10.   0.   0. ...   0.   0.   0.]\n",
      "   [ 40.   0.   0. ...  10.   0.  30.]]\n",
      "\n",
      "  [[  0.   0.   0. ...   0.   0.   0.]\n",
      "   [  0.   0.   0. ...   0.  10.   0.]\n",
      "   [  0.   0.   0. ...   0.   0.   0.]\n",
      "   ...\n",
      "   [  0.   0.   0. ...   0.   0.   0.]\n",
      "   [  0.   0.   0. ...   0.   0.   0.]\n",
      "   [ 20.   0.   0. ...   0.   0.  20.]]\n",
      "\n",
      "  [[  0.   0.   0. ...   0.   0.   0.]\n",
      "   [  0.   0.   0. ...   0.   0.   0.]\n",
      "   [  0.   0.   0. ...   0.   0.   0.]\n",
      "   ...\n",
      "   [  0.   0.   0. ...   0.   0.   0.]\n",
      "   [  0.   0.   0. ...   0.   0.   0.]\n",
      "   [  0.   0.   0. ...   0.   0.   0.]]\n",
      "\n",
      "  ...\n",
      "\n",
      "  [[  0.   0.   0. ...   0.   0.   0.]\n",
      "   [ 20.   0.   0. ...   0.   0.   0.]\n",
      "   [  0.   0.   0. ...   0.   0.   0.]\n",
      "   ...\n",
      "   [ 20.   0.   0. ...   0.   0.   0.]\n",
      "   [  0.   0.   0. ...   0.   0.   0.]\n",
      "   [ 40.   0.   0. ...   0.   0.  20.]]\n",
      "\n",
      "  [[ 20.  30.   0. ...   0.  10.  10.]\n",
      "   [ 30.   0.   0. ...  10.  30.   0.]\n",
      "   [ 60.  10.  20. ...   0.   0.  20.]\n",
      "   ...\n",
      "   [ 30.  20.  10. ...   0.  30.   0.]\n",
      "   [ 10.  10.   0. ...   0.   0.   0.]\n",
      "   [ 50.   0.   0. ...  30.   0.  60.]]\n",
      "\n",
      "  [[ 10.  20.   0. ...   0.   0.  10.]\n",
      "   [ 20.   0.   0. ...   0.  30.   0.]\n",
      "   [ 30.  10.  10. ...   0.   0.  10.]\n",
      "   ...\n",
      "   [ 20.  10.  10. ...   0.  20.   0.]\n",
      "   [ 10.  10.   0. ...   0.   0.   0.]\n",
      "   [ 30.   0.   0. ...   0.   0.  40.]]]\n",
      "\n",
      "\n",
      " [[[  0.  30.   0. ...   0.   0.   0.]\n",
      "   [ 30.   0.   0. ...  10.  20.   0.]\n",
      "   [ 20.   0.  10. ...   0.   0.   0.]\n",
      "   ...\n",
      "   [ 20.  10.   0. ...   0.  10.   0.]\n",
      "   [ 10.  10.   0. ...   0.   0.   0.]\n",
      "   [ 50.   0.   0. ...  10.   0.  30.]]\n",
      "\n",
      "  [[  0.   0.   0. ...   0.   0.   0.]\n",
      "   [  0.   0.   0. ...   0.   0.   0.]\n",
      "   [  0.   0.   0. ...   0.   0.   0.]\n",
      "   ...\n",
      "   [  0.   0.   0. ...   0.   0.   0.]\n",
      "   [  0.   0.   0. ...   0.   0.   0.]\n",
      "   [  0.   0.   0. ...   0.   0.   0.]]\n",
      "\n",
      "  [[  0.  10.   0. ...   0.   0.   0.]\n",
      "   [ 20.   0.   0. ...   0.  10.   0.]\n",
      "   [  0.   0.   0. ...   0.   0.   0.]\n",
      "   ...\n",
      "   [  0.   0.   0. ...   0.   0.   0.]\n",
      "   [  0.   0.   0. ...   0.   0.   0.]\n",
      "   [  0.   0.   0. ...   0.   0.  10.]]\n",
      "\n",
      "  ...\n",
      "\n",
      "  [[ 20.  40.   0. ...   0.  10.  20.]\n",
      "   [ 60.  10.  10. ...  20.  30.  20.]\n",
      "   [ 30.   0.  20. ...  10.   0.  20.]\n",
      "   ...\n",
      "   [ 40.  20.  20. ...   0.  30.  20.]\n",
      "   [ 20.  20.   0. ...   0.   0.   0.]\n",
      "   [ 50.   0.   0. ...  20.   0.  50.]]\n",
      "\n",
      "  [[  0.   0.   0. ...   0.   0.   0.]\n",
      "   [  0.   0.   0. ...   0.  10.   0.]\n",
      "   [  0.   0.   0. ...   0.   0.   0.]\n",
      "   ...\n",
      "   [  0.   0.   0. ...   0.   0.   0.]\n",
      "   [  0.   0.   0. ...   0.   0.   0.]\n",
      "   [ 10.   0.   0. ...   0.   0.  10.]]\n",
      "\n",
      "  [[  0.   0.   0. ...   0.   0.   0.]\n",
      "   [  0.   0.   0. ...   0.   0.   0.]\n",
      "   [  0.   0.   0. ...   0.   0.   0.]\n",
      "   ...\n",
      "   [  0.   0.   0. ...   0.   0.   0.]\n",
      "   [  0.   0.   0. ...   0.   0.   0.]\n",
      "   [  0.   0.   0. ...   0.   0.   0.]]]]\n"
     ]
    }
   ],
   "source": [
    "# Create a 4D array to store the percentages\n",
    "percentages = np.zeros((num_layers, num_heads, num_layers, num_heads))\n",
    "\n",
    "# Loop over all pairs of layers and heads\n",
    "for layer_1 in range(num_layers):\n",
    "    for head_1 in range(num_heads):\n",
    "        for layer_2 in range(num_layers):\n",
    "            for head_2 in range(num_heads):\n",
    "                # Compute the difference of their Wasserstein distance matrices\n",
    "                matrix = w_distances[layer_1][head_1] - w_distances_2[layer_2][head_2]\n",
    "\n",
    "                # Count the percentage of negative entries below the diagonal\n",
    "                negative_count, total_count = count_negative_entries_below_diagonal(matrix)\n",
    "                percentage = (negative_count / total_count) * 100\n",
    "\n",
    "                # Store the percentage\n",
    "                percentages[layer_1, head_1, layer_2, head_2] = percentage\n",
    "\n",
    "print(percentages.shape)\n",
    "print(\"Percentages of negative entries below the diagonal: \", percentages)\n"
   ]
  },
  {
   "cell_type": "code",
   "execution_count": 20,
   "metadata": {},
   "outputs": [
    {
     "name": "stdout",
     "output_type": "stream",
     "text": [
      "0.0\n"
     ]
    }
   ],
   "source": [
    "layer_1 = 11\n",
    "head_1 = 5\n",
    "\n",
    "layer_2 = 1\n",
    "head_2 = 1\n",
    "\n",
    "print(percentages[layer_1][head_1][layer_2][head_2])"
   ]
  },
  {
   "cell_type": "code",
   "execution_count": 21,
   "metadata": {},
   "outputs": [
    {
     "name": "stdout",
     "output_type": "stream",
     "text": [
      "Min:  0.0\n",
      "Max:  100.0\n",
      "Mean:  3.7683256172839505\n",
      "Median:  0.0\n",
      "Standard Deviation:  10.619195573804737\n",
      "25th percentile:  0.0\n",
      "75th percentile:  0.0\n"
     ]
    }
   ],
   "source": [
    "import numpy as np\n",
    "\n",
    "# Create a list to store all entries\n",
    "all_entries = []\n",
    "\n",
    "# Loop over all entries in the 4D array\n",
    "for layer_1 in range(num_layers):\n",
    "    for head_1 in range(num_heads):\n",
    "        for layer_2 in range(num_layers):\n",
    "            for head_2 in range(num_heads):\n",
    "                # Add the entry to the list\n",
    "                all_entries.append(percentages[layer_1, head_1, layer_2, head_2])\n",
    "\n",
    "# Convert the list to a numpy array\n",
    "all_entries = np.array(all_entries)\n",
    "\n",
    "# Compute the statistics\n",
    "min_value = np.min(all_entries)\n",
    "max_value = np.max(all_entries)\n",
    "mean_value = np.mean(all_entries)\n",
    "median_value = np.median(all_entries)\n",
    "std_dev = np.std(all_entries)\n",
    "percentile_25 = np.percentile(all_entries, 25)\n",
    "percentile_75 = np.percentile(all_entries, 75)\n",
    "\n",
    "# Print the statistics\n",
    "print(\"Min: \", min_value)\n",
    "print(\"Max: \", max_value)\n",
    "print(\"Mean: \", mean_value)\n",
    "print(\"Median: \", median_value)\n",
    "print(\"Standard Deviation: \", std_dev)\n",
    "print(\"25th percentile: \", percentile_25)\n",
    "print(\"75th percentile: \", percentile_75)\n",
    "\n"
   ]
  },
  {
   "attachments": {},
   "cell_type": "markdown",
   "metadata": {},
   "source": [
    "From this we can tell that a large majority of the time the second model `dicta-il/alephbertgimmel-base` outperforms the first model `TurkuNLP/wikibert-base-he-cased` at preserving the persistent homology of the phrase \"לצפות בזרחת השמש\" in the various contexts given by each `text[i]`. "
   ]
  }
 ],
 "metadata": {
  "kernelspec": {
   "display_name": "env_1",
   "language": "python",
   "name": "python3"
  },
  "language_info": {
   "codemirror_mode": {
    "name": "ipython",
    "version": 3
   },
   "file_extension": ".py",
   "mimetype": "text/x-python",
   "name": "python",
   "nbconvert_exporter": "python",
   "pygments_lexer": "ipython3",
   "version": "3.11.3"
  },
  "orig_nbformat": 4
 },
 "nbformat": 4,
 "nbformat_minor": 2
}
