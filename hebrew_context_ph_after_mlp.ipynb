{
 "cells": [
  {
   "cell_type": "code",
   "execution_count": 1,
   "metadata": {},
   "outputs": [
    {
     "name": "stdout",
     "output_type": "stream",
     "text": [
      "Note: you may need to restart the kernel to use updated packages.\n"
     ]
    }
   ],
   "source": [
    "pip install transformers torch numpy gudhi -q"
   ]
  },
  {
   "cell_type": "code",
   "execution_count": 44,
   "metadata": {},
   "outputs": [
    {
     "name": "stderr",
     "output_type": "stream",
     "text": [
      "Some weights of the model checkpoint at onlplab/alephbert-base were not used when initializing BertModel: ['cls.predictions.decoder.weight', 'cls.predictions.bias', 'cls.predictions.transform.dense.weight', 'cls.predictions.decoder.bias', 'cls.predictions.transform.LayerNorm.bias', 'cls.predictions.transform.dense.bias', 'cls.predictions.transform.LayerNorm.weight']\n",
      "- This IS expected if you are initializing BertModel from the checkpoint of a model trained on another task or with another architecture (e.g. initializing a BertForSequenceClassification model from a BertForPreTraining model).\n",
      "- This IS NOT expected if you are initializing BertModel from the checkpoint of a model that you expect to be exactly identical (initializing a BertForSequenceClassification model from a BertForSequenceClassification model).\n",
      "Some weights of BertModel were not initialized from the model checkpoint at onlplab/alephbert-base and are newly initialized: ['bert.pooler.dense.weight', 'bert.pooler.dense.bias']\n",
      "You should probably TRAIN this model on a down-stream task to be able to use it for predictions and inference.\n"
     ]
    },
    {
     "name": "stdout",
     "output_type": "stream",
     "text": [
      "torch.Size([1, 55, 768])\n",
      "tensor([[[-0.1518, -0.0064,  0.0253,  ...,  0.0830, -0.0907,  0.0822],\n",
      "         [-0.3917, -0.0130, -0.1552,  ...,  0.5345,  0.0765,  0.4831],\n",
      "         [-1.5287, -0.0219, -0.9446,  ...,  0.3730, -0.3619,  0.0031],\n",
      "         ...,\n",
      "         [ 0.6531, -0.7591, -1.3876,  ..., -0.2195,  0.3479,  0.6151],\n",
      "         [ 0.8665,  0.3560, -2.6117,  ...,  0.3715,  0.5730, -0.0100],\n",
      "         [-0.0794,  0.0103,  0.1080,  ...,  0.0417, -0.0843,  0.0321]]],\n",
      "       grad_fn=<NativeLayerNormBackward0>)\n"
     ]
    }
   ],
   "source": [
    "from transformers import BertModel, BertTokenizer\n",
    "import torch\n",
    "\n",
    "tokenizer = BertTokenizer.from_pretrained('onlplab/alephbert-base')\n",
    "model = BertModel.from_pretrained('onlplab/alephbert-base')\n",
    "\n",
    "#text = \"בְּרֵאשִׁית הַשָּׁבוּעַ הַבָּא אֲנִי מְתַכְּנֵן לָלֶכֶת לְמַסְעֵדָה שֶׁבַּשּׁוּק הַמְּהוּדָּר. זוּ אַף פַּעַם לֹא הָיְתָה לִי הַזְּמַן לְהִתְרַשֵּׁם מֵאֹוכֵל הַמְּעוּלֶּה שֶׁלָּהֶם. אֲנִי אַף כֵּן אֹוהֵב לְהַסְתַּכֵּל בְּנִפְלָאוֹת הַטֶּבַע וּלְצַפּוֹת בְּזִרְחָת הַשֶּׁמֶשׁ. בְּמַחֲשֵׁבָה מְאוּחָרֶת, אֲנִי יָכוֹל לְהַזְמִין פִּצָּה וּלְהַסְתַּכֵּל בְּזִרְחָת הַשֶּׁמֶשׁ מִבַּלְקוֹן שֶׁלִּי.\"\n",
    "text = \"בראשית השבוע הבא אני מתכנן ללכת למסעדה שבשוק המהודר. זו אף פעם לא היתה לי הזמן להתרשם מאוכל המעולה שלהם. אני אף כן אוהב להסתכל בנפלאות הטבע ולצפות בזרחת השמש. במחשבה מאוחרת, אני יכול להזמין פיצה ולהסתכל בזרחת השמש מבלקון שלי.\"\n",
    "\n",
    "inputs = tokenizer(text, return_tensors=\"pt\")\n",
    "\n",
    "# Specify `output_hidden_states=True` when calling the model\n",
    "outputs = model(**inputs, output_hidden_states=True)\n",
    "\n",
    "# Now you can access the hidden states at a specific layer\n",
    "layer = 7\n",
    "hidden_states = outputs.hidden_states[layer]\n",
    "print(hidden_states.shape)\n",
    "print(hidden_states)"
   ]
  },
  {
   "cell_type": "code",
   "execution_count": 45,
   "metadata": {},
   "outputs": [
    {
     "name": "stderr",
     "output_type": "stream",
     "text": [
      "Some weights of the model checkpoint at onlplab/alephbert-base were not used when initializing BertModel: ['cls.predictions.decoder.weight', 'cls.predictions.bias', 'cls.predictions.transform.dense.weight', 'cls.predictions.decoder.bias', 'cls.predictions.transform.LayerNorm.bias', 'cls.predictions.transform.dense.bias', 'cls.predictions.transform.LayerNorm.weight']\n",
      "- This IS expected if you are initializing BertModel from the checkpoint of a model trained on another task or with another architecture (e.g. initializing a BertForSequenceClassification model from a BertForPreTraining model).\n",
      "- This IS NOT expected if you are initializing BertModel from the checkpoint of a model that you expect to be exactly identical (initializing a BertForSequenceClassification model from a BertForSequenceClassification model).\n",
      "Some weights of BertModel were not initialized from the model checkpoint at onlplab/alephbert-base and are newly initialized: ['bert.pooler.dense.weight', 'bert.pooler.dense.bias']\n",
      "You should probably TRAIN this model on a down-stream task to be able to use it for predictions and inference.\n"
     ]
    },
    {
     "data": {
      "image/png": "[encoded data removed]",
      "text/plain": [
       "<Figure size 640x480 with 1 Axes>"
      ]
     },
     "metadata": {},
     "output_type": "display_data"
    }
   ],
   "source": [
    "from transformers import BertModel, BertTokenizer\n",
    "import torch\n",
    "import matplotlib.pyplot as plt\n",
    "import numpy as np\n",
    "from scipy.spatial import distance_matrix\n",
    "import gudhi as gd\n",
    "\n",
    "# Define the function\n",
    "def compute_distances_and_plot_barcode(output):\n",
    "    # Detach the output tensor, squeeze, and convert to numpy array\n",
    "    output_np = output.squeeze().detach().numpy()\n",
    "\n",
    "    # Compute the pairwise Euclidean distance matrix\n",
    "    distances = distance_matrix(output_np, output_np)\n",
    "\n",
    "    # Compute the persistent homology of the distance matrix\n",
    "    rips_complex = gd.RipsComplex(distance_matrix=distances, max_edge_length=np.max(distances))\n",
    "    simplex_tree = rips_complex.create_simplex_tree(max_dimension=2)\n",
    "    persistent_homology = simplex_tree.persistence(min_persistence=0.001)\n",
    "    \n",
    "    # Plot the barcode diagram\n",
    "    gd.plot_persistence_barcode(persistence=persistent_homology)\n",
    "    plt.show()\n",
    "\n",
    "\n",
    "tokenizer = BertTokenizer.from_pretrained('onlplab/alephbert-base')\n",
    "model = BertModel.from_pretrained('onlplab/alephbert-base')\n",
    "\n",
    "#text = \"בְּרֵאשִׁית הַשָּׁבוּעַ הַבָּא אֲנִי מְתַכְּנֵן לָלֶכֶת לְמַסְעֵדָה שֶׁבַּשּׁוּק הַמְּהוּדָּר. זוּ אַף פַּעַם לֹא הָיְתָה לִי הַזְּמַן לְהִתְרַשֵּׁם מֵאֹוכֵל הַמְּעוּלֶּה שֶׁלָּהֶם. אֲנִי אַף כֵּן אֹוהֵב לְהַסְתַּכֵּל בְּנִפְלָאוֹת הַטֶּבַע וּלְצַפּוֹת בְּזִרְחָת הַשֶּׁמֶשׁ. בְּמַחֲשֵׁבָה מְאוּחָרֶת, אֲנִי יָכוֹל לְהַזְמִין פִּצָּה וּלְהַסְתַּכֵּל בְּזִרְחָת הַשֶּׁמֶשׁ מִבַּלְקוֹן שֶׁלִּי.\"\n",
    "text = \"בראשית השבוע הבא אני מתכנן ללכת למסעדה שבשוק המהודר. זו אף פעם לא היתה לי הזמן להתרשם מאוכל המעולה שלהם. אני אף כן אוהב להסתכל בנפלאות הטבע ולצפות בזרחת השמש. במחשבה מאוחרת, אני יכול להזמין פיצה ולהסתכל בזרחת השמש מבלקון שלי.\"\n",
    "\n",
    "inputs = tokenizer(text, return_tensors=\"pt\")\n",
    "\n",
    "# Obtain tokens\n",
    "tokens = tokenizer.convert_ids_to_tokens(inputs['input_ids'][0])\n",
    "\n",
    "outputs = model(**inputs, output_hidden_states=True)\n",
    "\n",
    "layer = 3\n",
    "hidden_states = outputs.hidden_states[layer]\n",
    "\n",
    "# Use the function with hidden states from the BERT model\n",
    "compute_distances_and_plot_barcode(hidden_states)\n"
   ]
  },
  {
   "cell_type": "code",
   "execution_count": 46,
   "metadata": {},
   "outputs": [
    {
     "name": "stdout",
     "output_type": "stream",
     "text": [
      "Cluster 0: [CLS], [SEP]\n",
      "Cluster 1: בראשית, השבוע\n",
      "Cluster 2: אני, ., לי, ., אני, ., ,, אני, .\n",
      "Cluster 3: מתכנן, אוהב\n",
      "Cluster 4: ללכת, למסעדה, להתרשם, מאוכל, להסתכל, ולצפות, להזמין, פיצה, ולהסת, ##כל\n",
      "Cluster 5: אף, אף\n",
      "Cluster 6: לא, היתה\n",
      "Cluster 7: שלהם, שלי\n",
      "Cluster 8: בנפ, בזר, בזר\n",
      "Cluster 9: הטבע, השמש, השמש\n",
      "Cluster 10: ##חת, ##חת\n"
     ]
    }
   ],
   "source": [
    "from scipy.spatial.distance import pdist, squareform\n",
    "from sklearn.cluster import DBSCAN\n",
    "from transformers import BertTokenizer\n",
    "from transformers import BertModel, BertTokenizerFast\n",
    "\n",
    "from scipy.spatial.distance import pdist, squareform\n",
    "from sklearn.cluster import DBSCAN\n",
    "\n",
    "def cluster_and_get_words(hidden_states, tokens, eps=31.0):\n",
    "    # Squeeze the hidden_states tensor to remove the batch size dimension\n",
    "    hidden_states = hidden_states.squeeze(0)\n",
    "\n",
    "    # Compute the pairwise distance matrix\n",
    "    distances = pdist(hidden_states.detach().numpy(), 'euclidean')\n",
    "    dist_matrix = squareform(distances)\n",
    "\n",
    "    # Run DBSCAN on the distance matrix\n",
    "    clustering = DBSCAN(eps=eps, min_samples=2, metric='precomputed').fit(dist_matrix)\n",
    "\n",
    "    # Get the words corresponding to each cluster\n",
    "    clusters = {}\n",
    "    for i, label in enumerate(clustering.labels_):\n",
    "        if label != -1:  # Ignore noise (-1 label)\n",
    "            if label not in clusters:\n",
    "                clusters[label] = []\n",
    "            clusters[label].append(tokens[i])\n",
    "\n",
    "    return clusters\n",
    "\n",
    "# Compute the clusters for each hidden_states vector\n",
    "clusters = cluster_and_get_words(hidden_states, tokens)\n",
    "for label, words in clusters.items():\n",
    "    print(f\"Cluster {label}: {', '.join(words)}\")\n",
    "\n"
   ]
  },
  {
   "attachments": {},
   "cell_type": "markdown",
   "metadata": {},
   "source": [
    "---\n",
    "\n",
    "## Individual Attention Heads"
   ]
  },
  {
   "cell_type": "code",
   "execution_count": 88,
   "metadata": {},
   "outputs": [],
   "source": [
    "#text = [\"בְּרֵאשִׁית הַשָּׁבוּעַ הַבָּא אֲנִי מְתַכְּנֵן לָלֶכֶת לְמַסְעֵדָה שֶׁבַּשּׁוּק הַמְּהוּדָּר. זוּ אַף פַּעַם לֹא הָיְתָה לִי הַזְּמַן לְהִתְרַשֵּׁם מֵאֹוכֵל הַמְּעוּלֶּה שֶׁלָּהֶם. אֲנִי אַף כֵּן אֹוהֵב לְהַסְתַּכֵּל בְּנִפְלָאוֹת הַטֶּבַע וּלְצַפּוֹת בְּזִרְחָת הַשֶּׁמֶשׁ. בְּמַחֲשֵׁבָה מְאוּחָרֶת, אֲנִי יָכוֹל לְהַזְמִין פִּצָּה וּלְהַסְתַּכֵּל בְּזִרְחָת הַשֶּׁמֶשׁ מִבַּלְקוֹן שֶׁלִּי\"]\n",
    "text = [\"בראשית השבוע הבא אני מתכנן ללכת למסעדה שבשוק המהודר. זו אף פעם לא היתה לי הזמן להתרשם מאוכל המעולה שלהם. אני אף כן אוהב להסתכל בנפלאות הטבע ולצפות בזרחת השמש. במחשבה מאוחרת, אני יכול להזמין פיצה ולהסתכל בזרחת השמש מבלקון שלי\"]"
   ]
  },
  {
   "cell_type": "code",
   "execution_count": 89,
   "metadata": {},
   "outputs": [],
   "source": [
    "import torch\n",
    "from transformers import BertTokenizer, BertModel\n",
    "from transformers import BertModel, BertTokenizerFast\n",
    "\n",
    "\n",
    "def compute_output(sentence, layer, head):\n",
    "    # Load pre-trained model\n",
    "    model = BertModel.from_pretrained('bert-base-multilingual-cased', output_attentions=True)\n",
    "    tokenizer = BertTokenizer.from_pretrained('bert-base-multilingual-cased')\n",
    "\n",
    "    # model = BertModel.from_pretrained('onlplab/alephbert-base', output_attentions=True)\n",
    "    # tokenizer = BertTokenizer.from_pretrained('onlplab/alephbert-base')\n",
    "\n",
    "    # Tokenize input and convert to tensor\n",
    "    inputs = tokenizer(sentence, return_tensors=\"pt\")\n",
    "\n",
    "    # Forward pass\n",
    "    # Specify `output_hidden_states=True` when calling the model\n",
    "    outputs = model(**inputs, output_hidden_states=True)\n",
    "\n",
    "    # Obtain the attention weights\n",
    "    attentions = outputs.attentions\n",
    "\n",
    "    # Obtain the attention weights for the specific layer and head\n",
    "    S = attentions[layer][0, head]\n",
    "\n",
    "    # Obtain the value vectors\n",
    "    model.eval()\n",
    "    with torch.no_grad():\n",
    "        hidden_states = outputs.hidden_states[layer]\n",
    "        all_W_v = model.encoder.layer[layer].attention.self.value.weight\n",
    "        num_heads = model.config.num_attention_heads\n",
    "        head_dim = model.config.hidden_size // num_heads\n",
    "        W_v_heads = all_W_v.view(num_heads, head_dim, model.config.hidden_size)\n",
    "        W_v = W_v_heads[head]\n",
    "        V = torch.matmul(hidden_states, W_v.t())\n",
    "\n",
    "    # Compute the output O\n",
    "    O = torch.matmul(S, V)\n",
    "\n",
    "    return O"
   ]
  },
  {
   "cell_type": "code",
   "execution_count": 90,
   "metadata": {},
   "outputs": [
    {
     "name": "stderr",
     "output_type": "stream",
     "text": [
      "Some weights of the model checkpoint at bert-base-multilingual-cased were not used when initializing BertModel: ['cls.predictions.transform.dense.weight', 'cls.predictions.bias', 'cls.seq_relationship.weight', 'cls.predictions.transform.LayerNorm.bias', 'cls.predictions.transform.dense.bias', 'cls.predictions.transform.LayerNorm.weight', 'cls.seq_relationship.bias']\n",
      "- This IS expected if you are initializing BertModel from the checkpoint of a model trained on another task or with another architecture (e.g. initializing a BertForSequenceClassification model from a BertForPreTraining model).\n",
      "- This IS NOT expected if you are initializing BertModel from the checkpoint of a model that you expect to be exactly identical (initializing a BertForSequenceClassification model from a BertForSequenceClassification model).\n"
     ]
    },
    {
     "name": "stdout",
     "output_type": "stream",
     "text": [
      "torch.Size([1, 93, 64])\n",
      "tensor([[[-9.9539e-03,  2.5529e-02,  1.9886e-01,  ..., -2.1616e-02,\n",
      "           3.7504e-01, -3.7590e-01],\n",
      "         [ 2.4918e-01,  5.2500e-02, -2.4477e-01,  ..., -1.3848e-01,\n",
      "          -5.9417e-02, -1.6409e-01],\n",
      "         [ 4.4128e-01,  2.0910e-01, -1.8328e-01,  ..., -1.9535e-02,\n",
      "           1.3512e-04, -2.6225e-01],\n",
      "         ...,\n",
      "         [ 1.6806e-02, -3.9879e-01,  6.6949e-02,  ...,  2.2690e-03,\n",
      "           1.7661e-01,  1.6385e-01],\n",
      "         [ 4.1811e-01, -4.9856e-01,  2.3517e-01,  ..., -8.7492e-01,\n",
      "           2.2135e-01,  2.1190e-01],\n",
      "         [ 4.0819e-02,  1.7157e-01,  2.8649e-01,  ...,  3.4277e-02,\n",
      "           4.6300e-01, -6.0914e-01]]], grad_fn=<CloneBackward0>)\n"
     ]
    }
   ],
   "source": [
    "# Set the layer and head to use for computation\n",
    "layer = 5\n",
    "head = 10\n",
    "\n",
    "# Compute the context vectors for each text in the corpus\n",
    "context = [compute_output(t, layer, head) for t in text]\n",
    "print(context[0].shape)\n",
    "print(context[0])"
   ]
  },
  {
   "cell_type": "code",
   "execution_count": 91,
   "metadata": {},
   "outputs": [],
   "source": [
    "import matplotlib.pyplot as plt\n",
    "import numpy as np\n",
    "from scipy.spatial import distance_matrix\n",
    "import gudhi as gd\n",
    "\n",
    "def compute_distances_and_plot_barcode(output):\n",
    "    # Detach the output tensor, squeeze, and convert to numpy array\n",
    "    output_np = output.squeeze().detach().numpy()\n",
    "\n",
    "    # Compute the pairwise Euclidean distance matrix\n",
    "    distances = distance_matrix(output_np, output_np)\n",
    "\n",
    "    # Compute the persistent homology of the distance matrix\n",
    "    rips_complex = gd.RipsComplex(distance_matrix=distances, max_edge_length=np.max(distances))\n",
    "    simplex_tree = rips_complex.create_simplex_tree(max_dimension=2)\n",
    "    persistent_homology = simplex_tree.persistence(min_persistence=0.001)\n",
    "    \n",
    "    # Plot the barcode diagram\n",
    "    gd.plot_persistence_barcode(persistence=persistent_homology)\n",
    "    plt.show()"
   ]
  },
  {
   "cell_type": "code",
   "execution_count": 92,
   "metadata": {},
   "outputs": [
    {
     "name": "stdout",
     "output_type": "stream",
     "text": [
      "Barcode for text 0:\n"
     ]
    },
    {
     "data": {
      "image/png": "[encoded data removed]",
      "text/plain": [
       "<Figure size 640x480 with 1 Axes>"
      ]
     },
     "metadata": {},
     "output_type": "display_data"
    }
   ],
   "source": [
    "# Compute the barcode diagrams for each context vector\n",
    "for i, output in enumerate(context):\n",
    "    print(f\"Barcode for text {i}:\")\n",
    "    compute_distances_and_plot_barcode(output)"
   ]
  },
  {
   "cell_type": "code",
   "execution_count": 93,
   "metadata": {},
   "outputs": [],
   "source": [
    "from scipy.spatial.distance import pdist, squareform\n",
    "from sklearn.cluster import DBSCAN\n",
    "from transformers import BertTokenizer\n",
    "from transformers import BertModel, BertTokenizerFast\n",
    "\n",
    "def cluster_and_get_words(context, sentence, eps=3.05):\n",
    "    # Load pre-trained model tokenizer\n",
    "    tokenizer = BertTokenizer.from_pretrained('bert-base-multilingual-cased')\n",
    "    # tokenizer = BertTokenizer.from_pretrained('onlplab/alephbert-base')\n",
    "\n",
    "    # Tokenize input and convert to tensor\n",
    "    inputs = tokenizer(sentence, return_tensors=\"pt\")\n",
    "    tokens = tokenizer.convert_ids_to_tokens(inputs['input_ids'][0])\n",
    "\n",
    "    # Squeeze the context tensor to remove the batch size dimension\n",
    "    context = context.squeeze(0)\n",
    "\n",
    "    # Compute the pairwise distance matrix\n",
    "    distances = pdist(context.detach().numpy(), 'euclidean')\n",
    "    dist_matrix = squareform(distances)\n",
    "\n",
    "    # Run DBSCAN on the distance matrix\n",
    "    clustering = DBSCAN(eps=eps, min_samples=2, metric='precomputed').fit(dist_matrix)\n",
    "\n",
    "    # Get the words corresponding to each cluster\n",
    "    clusters = {}\n",
    "    for i, label in enumerate(clustering.labels_):\n",
    "        if label != -1:  # Ignore noise (-1 label)\n",
    "            if label not in clusters:\n",
    "                clusters[label] = []\n",
    "            clusters[label].append(tokens[i])\n",
    "\n",
    "    return clusters"
   ]
  },
  {
   "cell_type": "code",
   "execution_count": 94,
   "metadata": {},
   "outputs": [
    {
     "name": "stdout",
     "output_type": "stream",
     "text": [
      "Clusters for text 0:\n",
      "Cluster 0: [CLS], בראשית, ##וע, ##כנן, ##לכת, שב, ., זו, ##יתה, לה, מ, שלהם, ., אני, ו, ., ב, [SEP]\n",
      "Cluster 1: ##שב, ##מה, ##מע\n",
      "Cluster 2: מת, אף, יכול\n",
      "Cluster 3: ל, לי, לה\n",
      "Cluster 4: ##מסע, ##שוק\n",
      "Cluster 5: פעם, כן\n",
      "Cluster 6: ##תר, ##סת\n",
      "Cluster 7: לה, ב, ב\n",
      "Cluster 8: ##כל, ##כל\n",
      "Cluster 9: ##נ, ##זר, ##מח, ##זר, ##בל\n",
      "Cluster 10: ##טבע, ##שמש, ##שמש\n",
      "Cluster 11: ##חת, ##חת\n",
      "Cluster 12: ה, ה\n",
      "Cluster 13: ##ז, ##סת\n"
     ]
    }
   ],
   "source": [
    "# Compute the clusters for each context vector\n",
    "clusters = []\n",
    "for i, output in enumerate(context):\n",
    "    print(f\"Clusters for text {i}:\")\n",
    "    clusters.append(cluster_and_get_words(output, text[i]))\n",
    "    for label, words in clusters[-1].items():\n",
    "        print(f\"Cluster {label}: {', '.join(words)}\")"
   ]
  },
  {
   "attachments": {},
   "cell_type": "markdown",
   "metadata": {},
   "source": [
    "Here is the paragraph for comparison:\n",
    "\n",
    "בראשית השבוע הבא אני מתכנן ללכת למסעדה שבשוק המהודר. זו אף פעם לא היתה לי הזמן להתרשם מאוכל המעולה שלהם. אני אף כן אוהב להסתכל בנפלאות הטבע ולצפות בזרחת השמש. במחשבה מאוחרת, אני יכול להזמין פיצה ולהסתכל בזרחת השמש מבלקון שלי\n",
    "\n",
    "Here are some of the collocations and multiword expressions in the Hebrew paragraph along with their English translations:\n",
    "\n",
    "1. בראשית השבוע - \"at the beginning of the week\" or \"early in the week\"\n",
    "2. השבוע הבא - \"next week\"\n",
    "3. מתכנן ללכת - \"planning to go\"\n",
    "4. למסעדה שבשוק - \"to a restaurant in the market\"\n",
    "5. אף פעם - \"never\" (literally, \"not once\")\n",
    "6. לא היתה לי הזמן - \"I never had the time\" (literally, \"there was never time for me\")\n",
    "7. להתרשם מאוכל - \"to be impressed by the food\"\n",
    "8. אוהב להסתכל - \"love to look/watch\"\n",
    "9. נפלאות הטבע - \"wonders of nature\"\n",
    "10. לצפות בזרחת השמש - \"to watch the sunrise\"\n",
    "11. במחשבה מאוחרת - \"on second thought\" (literally, \"in a later thought\")\n",
    "12. להזמין פיצה - \"to order pizza\"\n",
    "13. מבלקון שלי - \"from my balcony\"\n",
    "\n",
    "Each of these expressions is a set phrase or combination of words that often appear together and convey a meaning that is more than the sum of their parts.\n",
    "\n",
    "Tokens of the sub-collection: \"לצפות בזרחת השמש\" for the `bert-base-multilingual-cased` tokenizer are:\n",
    "['ל', '##צ', '##פות', 'ב', '##זר', '##חת', 'ה', '##שמש']\n",
    "\n",
    "Notice that some of these subwords and individual characters appear as tokens in multiple places in the tokenized version of the text:\n",
    "\n",
    "['בראשית', 'ה', '##שב', '##וע', 'הבא', 'אני', 'מת', '##כנן', 'ל', '##לכת', 'ל', '##מסע', '##דה', 'שב', '##שוק', 'ה', '##מה', '##וד', '##ר', '.', 'זו', 'אף', 'פעם', 'לא', 'ה', '##יתה', 'לי', 'הזמן', 'לה', '##תר', '##שם', 'מ', '##או', '##כל', 'ה', '##מע', '##ולה', 'שלהם', '.', 'אני', 'אף', 'כן', 'או', '##ה', '##ב', 'לה', '##סת', '##כל', 'ב', '##נ', '##פל', '##אות', 'ה', '##טבע', 'ו', '##ל', '##צ', '##פות', 'ב', '##זר', '##חת', 'ה', '##שמש', '.', 'ב', '##מח', '##שבה', 'מאוחר', '##ת', ',', 'אני', 'יכול', 'לה', '##ז', '##מין', 'פי', '##צה', 'ו', '##לה', '##סת', '##כל', 'ב', '##זר', '##חת', 'ה', '##שמש', 'מ', '##בל', '##קון', 'של', '##י']\n",
    "\n",
    "This makes comparing the persistent homology of a collocation or multiword expression in one context to another very difficult. If we use a different tokenizer such as `onlplab/alephbert-base` we instead get \n",
    "\n",
    "Tokens of the sub-collection: ['לצפות', 'בזר', '##חת', 'השמש']\n",
    "\n",
    "For the full text tokenization:\n",
    "\n",
    "['בראשית', 'השבוע', 'הבא', 'אני', 'מתכנן', 'ללכת', 'למסעדה', 'שבש', '##וק', 'המה', '##ודר', '.', 'זו', 'אף', 'פעם', 'לא', 'היתה', 'לי', 'הזמן', 'להתרשם', 'מאוכל', 'המעולה', 'שלהם', '.', 'אני', 'אף', 'כן', 'אוהב', 'להסתכל', 'בנפ', '##לאות', 'הטבע', 'ולצפות', 'בזר', '##חת', 'השמש', '.', 'במחשבה', 'מאוחרת', ',', 'אני', 'יכול', 'להזמין', 'פיצה', 'ולהסת', '##כל', 'בזר', '##חת', 'השמש', 'מבל', '##קון', 'שלי']\n",
    "\n",
    "This makes things a bit easier as the words do not get split into as many pieces. \n"
   ]
  },
  {
   "attachments": {},
   "cell_type": "markdown",
   "metadata": {},
   "source": [
    "The tokenization process in BERT models is a fundamental step in the pipeline for transforming raw text data into a format that can be processed by the model. The tokenizer is responsible for converting the input text into a sequence of numerical tokens that the model can understand. BERT uses a WordPiece tokenizer, which is a subword tokenizer that strikes a balance between the two extremes of character and word-level tokenization. \n",
    "\n",
    "WordPiece tokenization is a kind of subword tokenization method. It tokenizes a word into a sequence of subwords, where each subword is a \"piece\" of the original word. This approach allows the model to handle out-of-vocabulary words and reduce the size of the vocabulary, which can improve the efficiency and performance of the model.\n",
    "\n",
    "The process of WordPiece tokenization can be described as follows:\n",
    "\n",
    "1. **Vocabulary Building**: The WordPiece tokenizer starts by building a base vocabulary of individual characters present in the training corpus. This vocabulary is then incrementally expanded by choosing the most frequent or representative combinations of existing words or word pieces in the corpus. The frequency of a word piece is calculated by multiplying its frequency in the corpus by the number of characters it consists of. This encourages the selection of longer word pieces.\n",
    "\n",
    "    If $C$ is the set of all possible character sequences, and $f(w)$ is the frequency of a sequence $w$ in the training corpus, then the score of a sequence $w$ is given by $|w| \\cdot f(w)$. During the vocabulary building phase, the tokenizer iteratively chooses the sequence $w^*$ with the maximum score:\n",
    "\n",
    "    $$w^* = \\arg\\max_{w \\in C} \\left( |w| \\cdot f(w) \\right)$$\n",
    "\n",
    "    This sequence is then added to the vocabulary, and the process is repeated until the vocabulary reaches a predetermined size.\n",
    "\n",
    "2. **Tokenization**: Given an input sentence, the WordPiece tokenizer tokenizes it into a sequence of word pieces from the vocabulary. It starts by checking if the whole word is in the vocabulary. If it is, the word is preserved as is. If not, the tokenizer tries to break the word down into the largest possible subwords present in the vocabulary, starting from the beginning of the word. This process is repeated recursively on any remaining characters until the whole word is tokenized. \n",
    "\n",
    "    If $V$ is the vocabulary, and $w$ is a word to be tokenized, then the tokenization process can be formally described as follows:\n",
    "\n",
    "    $$\\text{tokenize}(w) = \n",
    "    \\begin{cases} \n",
    "      w & \\text{if } w \\in V \\\\\n",
    "      \\max_{i: w_{1:i} \\in V} \\left( w_{1:i} \\oplus \\text{tokenize}(w_{i+1:}) \\right) & \\text{otherwise}\n",
    "    \\end{cases}$$\n",
    "\n",
    "    where $w_{1:i}$ denotes the first $i$ characters of $w$, $\\oplus$ denotes concatenation of token sequences, and $\\max$ is taken with respect to the length of the first token in the sequence.\n",
    "\n",
    "Note that the BERT tokenizer also adds special tokens `[CLS]` and `[SEP]` at the beginning and end of the sentence, respectively. These tokens are used by BERT for classification tasks and to distinguish between different sentences.\n",
    "\n",
    "In this way, the WordPiece tokenizer allows BERT to handle a wide variety of words and languages, while maintaining a manageable vocabulary size and enabling the sharing of parameters between similar words."
   ]
  },
  {
   "cell_type": "code",
   "execution_count": 106,
   "metadata": {},
   "outputs": [
    {
     "name": "stdout",
     "output_type": "stream",
     "text": [
      "['בראשית', 'ה', '##שב', '##וע', 'הבא', 'אני', 'מת', '##כנן', 'ל', '##לכת', 'ל', '##מסע', '##דה', 'שב', '##שוק', 'ה', '##מה', '##וד', '##ר', '.', 'זו', 'אף', 'פעם', 'לא', 'ה', '##יתה', 'לי', 'הזמן', 'לה', '##תר', '##שם', 'מ', '##או', '##כל', 'ה', '##מע', '##ולה', 'שלהם', '.', 'אני', 'אף', 'כן', 'או', '##ה', '##ב', 'לה', '##סת', '##כל', 'ב', '##נ', '##פל', '##אות', 'ה', '##טבע', 'ו', '##ל', '##צ', '##פות', 'ב', '##זר', '##חת', 'ה', '##שמש', '.', 'ב', '##מח', '##שבה', 'מאוחר', '##ת', ',', 'אני', 'יכול', 'לה', '##ז', '##מין', 'פי', '##צה', 'ו', '##לה', '##סת', '##כל', 'ב', '##זר', '##חת', 'ה', '##שמש', 'מ', '##בל', '##קון', 'של', '##י']\n"
     ]
    }
   ],
   "source": [
    "from transformers import BertTokenizer\n",
    "\n",
    "# Load pre-trained model tokenizer\n",
    "model_name = 'bert-base-multilingual-cased'\n",
    "tokenizer = BertTokenizer.from_pretrained(model_name)\n",
    "\n",
    "text = [\"בראשית השבוע הבא אני מתכנן ללכת למסעדה שבשוק המהודר. זו אף פעם לא היתה לי הזמן להתרשם מאוכל המעולה שלהם. אני אף כן אוהב להסתכל בנפלאות הטבע ולצפות בזרחת השמש. במחשבה מאוחרת, אני יכול להזמין פיצה ולהסתכל בזרחת השמש מבלקון שלי\"]\n",
    "\n",
    "# Tokenize the sentence\n",
    "tokens = tokenizer.tokenize(text[0])\n",
    "\n",
    "print(tokens)\n"
   ]
  },
  {
   "cell_type": "code",
   "execution_count": 121,
   "metadata": {},
   "outputs": [
    {
     "name": "stdout",
     "output_type": "stream",
     "text": [
      "['בראשית', 'השבוע', 'הבא', 'אני', 'מתכנן', 'ללכת', 'למסעדה', 'שבש', '##וק', 'המה', '##ודר', '.', 'זו', 'אף', 'פעם', 'לא', 'היתה', 'לי', 'הזמן', 'להתרשם', 'מאוכל', 'המעולה', 'שלהם', '.', 'אני', 'אף', 'כן', 'אוהב', 'להסתכל', 'בנפ', '##לאות', 'הטבע', 'ולצפות', 'בזר', '##חת', 'השמש', '.', 'במחשבה', 'מאוחרת', ',', 'אני', 'יכול', 'להזמין', 'פיצה', 'ולהסת', '##כל', 'בזר', '##חת', 'השמש', 'מבל', '##קון', 'שלי']\n"
     ]
    }
   ],
   "source": [
    "from transformers import BertTokenizer\n",
    "\n",
    "# Load pre-trained model tokenizer\n",
    "model_name = 'onlplab/alephbert-base'\n",
    "tokenizer = BertTokenizer.from_pretrained(model_name)\n",
    "\n",
    "text = [\"בראשית השבוע הבא אני מתכנן ללכת למסעדה שבשוק המהודר. זו אף פעם לא היתה לי הזמן להתרשם מאוכל המעולה שלהם. אני אף כן אוהב להסתכל בנפלאות הטבע ולצפות בזרחת השמש. במחשבה מאוחרת, אני יכול להזמין פיצה ולהסתכל בזרחת השמש מבלקון שלי\"]\n",
    "\n",
    "# Tokenize the sentence\n",
    "tokens = tokenizer.tokenize(text[0])\n",
    "\n",
    "print(tokens)"
   ]
  },
  {
   "cell_type": "code",
   "execution_count": 120,
   "metadata": {},
   "outputs": [
    {
     "name": "stdout",
     "output_type": "stream",
     "text": [
      "Tokens of the sub-collection: ['לצפות', 'בזר', '##חת', 'השמש']\n",
      "Distance matrix: (6, 6)\n",
      "Distance matrix: [[0.         4.35641803 4.28366034 4.87074894 4.20249509 5.35844053]\n",
      " [4.35641803 0.         3.55068096 4.66841936 4.36021109 4.08999466]\n",
      " [4.28366034 3.55068096 0.         4.26624512 4.81289838 5.00046693]\n",
      " [4.87074894 4.66841936 4.26624512 0.         3.95819007 4.73680211]\n",
      " [4.20249509 4.36021109 4.81289838 3.95819007 0.         4.19407435]\n",
      " [5.35844053 4.08999466 5.00046693 4.73680211 4.19407435 0.        ]]\n"
     ]
    },
    {
     "data": {
      "image/png": "[encoded data removed]",
      "text/plain": [
       "<Figure size 640x480 with 1 Axes>"
      ]
     },
     "metadata": {},
     "output_type": "display_data"
    }
   ],
   "source": [
    "from scipy.spatial import distance_matrix\n",
    "import gudhi as gd\n",
    "import numpy as np\n",
    "import matplotlib.pyplot as plt\n",
    "from transformers import BertTokenizer\n",
    "\n",
    "def compute_phrase_distances_and_homology(context_vectors, sentence, phrase):\n",
    "    # Initialize the tokenizer\n",
    "    # tokenizer = BertTokenizer.from_pretrained('bert-base-multilingual-cased')\n",
    "    tokenizer = BertTokenizer.from_pretrained('onlplab/alephbert-base')\n",
    "\n",
    "    # Tokenize the sentence and the phrase\n",
    "    sentence_tokens = tokenizer.encode(sentence, add_special_tokens=False)\n",
    "    phrase_tokens = tokenizer.encode(phrase, add_special_tokens=False)\n",
    "\n",
    "    # Find the indices of the phrase tokens in the sentence\n",
    "    phrase_indices = [i for i, token in enumerate(sentence_tokens) if token in phrase_tokens]\n",
    "\n",
    "    # Extract the context vectors for the phrase\n",
    "    phrase_context_vectors = context_vectors[0, phrase_indices]\n",
    "\n",
    "    # Detach the tensor and convert to numpy array\n",
    "    phrase_context_vectors_np = phrase_context_vectors.detach().numpy()\n",
    "\n",
    "    # Print the tokens of the sub-collection and their context vectors\n",
    "    print(f'Tokens of the sub-collection: {tokenizer.convert_ids_to_tokens(phrase_tokens)}')\n",
    "    # print(f'Context vectors of the sub-collection: {phrase_context_vectors_np}')\n",
    "\n",
    "    # Compute the pairwise Euclidean distances among the phrase context vectors\n",
    "    distances = distance_matrix(phrase_context_vectors_np, phrase_context_vectors_np)\n",
    "\n",
    "    # Print the distance matrix\n",
    "    print(f'Distance matrix: {distances.shape}')\n",
    "    print(f'Distance matrix: {distances}')\n",
    "\n",
    "    # Compute the persistent homology of the distance matrix\n",
    "    rips_complex = gd.RipsComplex(distance_matrix=distances, max_edge_length=np.max(distances))\n",
    "    simplex_tree = rips_complex.create_simplex_tree(max_dimension=2)\n",
    "    persistent_homology = simplex_tree.persistence(min_persistence=0.001)\n",
    "\n",
    "    # Plot the barcode diagram\n",
    "    gd.plot_persistence_barcode(persistence=persistent_homology)\n",
    "    plt.show()\n",
    "\n",
    "# Assuming that 'context_vectors' is the tensor of context vectors for your sentence,\n",
    "# and 'sentence' is your original sentence, you can use the function like this:\n",
    "compute_phrase_distances_and_homology(context[0], text[0], \"לצפות בזרחת השמש\")"
   ]
  },
  {
   "attachments": {},
   "cell_type": "markdown",
   "metadata": {},
   "source": [
    "If we use two texts where the tokens for the multiword expression appear only once in each of the texts, this makes things a little easier. Let's do that for the for the following two texts, and then compare the barcode diagrams using the bottleneck and Wassersteing distances to see how similar the topologcial substructures associated to the multiword expression are.  "
   ]
  },
  {
   "cell_type": "code",
   "execution_count": 122,
   "metadata": {},
   "outputs": [],
   "source": [
    "text_2 = [\"בחופשה האחרונה שלנו, נסענו להכיר את היופיים של מדבר הנגב. בין אם מדובר בצוקים המרשימים, בחי הבר המיוחד, או בשקט המוחלט, יש משהו מאוד מיוחד במדבר. אחת החוויות המרגשות ביותר שלנו הייתה לצפות בזרחת השמש מעל המדבר. האור המתפשט מאחורי ההרים, השמים המשתנים מאוד מהיר מאופל לתכלת, והשלווה המוחלטת שאפשר רק במדבר, הכל הפך את החוויה לבלתי נשכחת\"]"
   ]
  },
  {
   "cell_type": "code",
   "execution_count": 123,
   "metadata": {},
   "outputs": [
    {
     "name": "stdout",
     "output_type": "stream",
     "text": [
      "Tokens of the sub-collection: ['לצפות', 'בזר', '##חת', 'השמש']\n",
      "Distance matrix: (4, 4)\n",
      "Distance matrix: [[0.         4.55260701 4.69202989 5.27904488]\n",
      " [4.55260701 0.         3.15951929 3.74406598]\n",
      " [4.69202989 3.15951929 0.         4.06625292]\n",
      " [5.27904488 3.74406598 4.06625292 0.        ]]\n"
     ]
    },
    {
     "data": {
      "image/png": "[encoded data removed]",
      "text/plain": [
       "<Figure size 640x480 with 1 Axes>"
      ]
     },
     "metadata": {},
     "output_type": "display_data"
    }
   ],
   "source": [
    "compute_phrase_distances_and_homology(context[0], text_2[0], \"לצפות בזרחת השמש\")"
   ]
  },
  {
   "cell_type": "code",
   "execution_count": 126,
   "metadata": {},
   "outputs": [],
   "source": [
    "text_3 = [\"במהלך שנת הלימודים הראשונה שלי באוניברסיטה, הצטרפתי לקבוצת טיול שהגיעה להר האייפל. למרות הקור החודר, הייתי מחויב לעלות לפסגה בכל בוקר, כדי לצפות בזרחת השמש מעל פריס\"]"
   ]
  },
  {
   "cell_type": "code",
   "execution_count": 127,
   "metadata": {},
   "outputs": [
    {
     "name": "stdout",
     "output_type": "stream",
     "text": [
      "Tokens of the sub-collection: ['לצפות', 'בזר', '##חת', 'השמש']\n",
      "Distance matrix: (4, 4)\n",
      "Distance matrix: [[0.         4.17645827 3.95791445 5.02237275]\n",
      " [4.17645827 0.         3.82641877 4.72715908]\n",
      " [3.95791445 3.82641877 0.         4.49109128]\n",
      " [5.02237275 4.72715908 4.49109128 0.        ]]\n"
     ]
    },
    {
     "data": {
      "image/png": "[encoded data removed]",
      "text/plain": [
       "<Figure size 640x480 with 1 Axes>"
      ]
     },
     "metadata": {},
     "output_type": "display_data"
    }
   ],
   "source": [
    "compute_phrase_distances_and_homology(context[0], text_3[0], \"לצפות בזרחת השמש\")"
   ]
  },
  {
   "cell_type": "code",
   "execution_count": 137,
   "metadata": {},
   "outputs": [
    {
     "data": {
      "image/png": "[encoded data removed]",
      "text/plain": [
       "<Figure size 640x480 with 1 Axes>"
      ]
     },
     "metadata": {},
     "output_type": "display_data"
    },
    {
     "data": {
      "image/png": "[encoded data removed]",
      "text/plain": [
       "<Figure size 640x480 with 1 Axes>"
      ]
     },
     "metadata": {},
     "output_type": "display_data"
    },
    {
     "name": "stdout",
     "output_type": "stream",
     "text": [
      "Bottleneck distance: 0.6668994780581823\n",
      "Wasserstein distance: = 0.94\n"
     ]
    }
   ],
   "source": [
    "# from gudhi.wasserstein import wasserstein_distance \n",
    "# Could also be: \n",
    "from gudhi.hera import wasserstein_distance\n",
    "import numpy as np\n",
    "\n",
    "def compute_phrase_distances_and_homology(context_vectors, sentence, phrase):\n",
    "    tokenizer = BertTokenizer.from_pretrained('onlplab/alephbert-base')\n",
    "\n",
    "    sentence_tokens = tokenizer.encode(sentence, add_special_tokens=False)\n",
    "    phrase_tokens = tokenizer.encode(phrase, add_special_tokens=False)\n",
    "\n",
    "    phrase_indices = [i for i, token in enumerate(sentence_tokens) if token in phrase_tokens]\n",
    "\n",
    "    phrase_context_vectors = context_vectors[0, phrase_indices]\n",
    "\n",
    "    phrase_context_vectors_np = phrase_context_vectors.detach().numpy()\n",
    "\n",
    "    distances = distance_matrix(phrase_context_vectors_np, phrase_context_vectors_np)\n",
    "\n",
    "    rips_complex = gd.RipsComplex(distance_matrix=distances, max_edge_length=np.max(distances))\n",
    "    simplex_tree = rips_complex.create_simplex_tree(max_dimension=2)\n",
    "    persistent_homology = simplex_tree.persistence(min_persistence=0.001)\n",
    "\n",
    "    gd.plot_persistence_barcode(persistence=persistent_homology)\n",
    "    plt.show()\n",
    "\n",
    "    # Convert the persistent homology data to a numpy array\n",
    "    persistent_homology_np = np.array([[pt[1][0], pt[1][1]] for pt in persistent_homology if pt[1][1] != float('inf')])\n",
    "\n",
    "    return persistent_homology_np\n",
    "\n",
    "\n",
    "def compute_homology_distances(context, text_1, text_2, phrase):\n",
    "    homology_1 = compute_phrase_distances_and_homology(context[0], text_1[0], phrase)\n",
    "    homology_2 = compute_phrase_distances_and_homology(context[0], text_2[0], phrase)\n",
    "\n",
    "    # Compute and print the bottleneck distance\n",
    "    bottleneck_dist = gd.bottleneck_distance(homology_1, homology_2)\n",
    "    print(f\"Bottleneck distance: {bottleneck_dist}\")\n",
    "\n",
    "    # Compute and print the Wasserstein distance\n",
    "    print(f\"Wasserstein distance: = {wasserstein_distance(homology_1, homology_2, order=1., internal_p=2.):.2f}\")\n",
    "    #wasserstein_dist = gd.wasserstein.wasserstein_distance(homology_1, homology_2, matching=False, order=1.0, internal_p=inf, enable_autodiff=False, keep_essential_parts=True)\n",
    "    #print(f\"Wasserstein distance: {wasserstein_dist}\")\n",
    "\n",
    "# Call the function\n",
    "compute_homology_distances(context, text_2, text_3, \"לצפות בזרחת השמש\")\n"
   ]
  },
  {
   "attachments": {},
   "cell_type": "markdown",
   "metadata": {},
   "source": [
    "It looks like the code is working as expected now, and it successfully calculated the Bottleneck and Wasserstein distances between the two persistent homology diagrams. \n",
    "\n",
    "To interpret these values:\n",
    "\n",
    "- The Bottleneck distance is a measure of the maximum difference between two persistence diagrams. It's essentially looking for the furthest point (representing a topological feature) that cannot be matched between the two diagrams. A smaller Bottleneck distance means the diagrams (and hence the topological features they represent) are more similar.\n",
    "\n",
    "- The Wasserstein distance, on the other hand, is a more nuanced measure that takes into account all of the points in the diagrams, not just the furthest one. It's a measure of the cost of transforming one diagram into the other, where the cost is quantified by the amount of \"movement\" of the points (topological features). Again, a smaller Wasserstein distance means the diagrams are more similar.\n",
    "\n",
    "In this case, the Bottleneck distance is 0.6669 and the Wasserstein distance is 0.94. These values are relative and depend on the specific data and context vectors you're working with, so it's hard to say definitively what these numbers mean without additional context. However, in general, smaller values would indicate that the phrase \"לצפות בזרחת השמש\" has similar topological features in the context of the two different sentences. Note that the interpretation of these distances in the context of NLP and BERT embeddings is a novel and complex topic, and the meanings and implications may be subject to ongoing research and discussion. With that said, one might speculate that collocations and multiword expressions should have a similar topological structure in different contexts, making the learning of their unique meaning when group together more represented by the geometry of the context vectors learned by the model. This could be used to improve the model's performance on representing the meaning of collocations and multiword expressions geometrically. If this hypothesis is true, including this in the training objective might significantly improve performance of language models on tasks like collocation and multiword extraction. This could obviously then be applied to things like document summarization, search, subject of content mathcing, and others. "
   ]
  },
  {
   "cell_type": "markdown",
   "metadata": {},
   "source": []
  }
 ],
 "metadata": {
  "kernelspec": {
   "display_name": "env_1",
   "language": "python",
   "name": "python3"
  },
  "language_info": {
   "codemirror_mode": {
    "name": "ipython",
    "version": 3
   },
   "file_extension": ".py",
   "mimetype": "text/x-python",
   "name": "python",
   "nbconvert_exporter": "python",
   "pygments_lexer": "ipython3",
   "version": "3.10.11"
  },
  "orig_nbformat": 4
 },
 "nbformat": 4,
 "nbformat_minor": 2
}
