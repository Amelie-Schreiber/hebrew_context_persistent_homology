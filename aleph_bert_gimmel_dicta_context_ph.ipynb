{
 "cells": [
  {
   "cell_type": "code",
   "execution_count": 38,
   "metadata": {},
   "outputs": [
    {
     "name": "stdout",
     "output_type": "stream",
     "text": [
      "huggingface/tokenizers: The current process just got forked, after parallelism has already been used. Disabling parallelism to avoid deadlocks...\n",
      "To disable this warning, you can either:\n",
      "\t- Avoid using `tokenizers` before the fork if possible\n",
      "\t- Explicitly set the environment variable TOKENIZERS_PARALLELISM=(true | false)\n",
      "Note: you may need to restart the kernel to use updated packages.\n"
     ]
    }
   ],
   "source": [
    "pip install transformers torch numpy gudhi -q"
   ]
  },
  {
   "cell_type": "code",
   "execution_count": 39,
   "metadata": {},
   "outputs": [],
   "source": [
    "text = [\"בחופשה האחרונה שלנו, נסענו להכיר את היופיים של מדבר הנגב. בין אם מדובר בצוקים המרשימים, בחי הבר המיוחד, או בשקט המוחלט, יש משהו מאוד מיוחד במדבר. אחת החוויות המרגשות ביותר שלנו הייתה לצפות בזרחת השמש מעל המדבר. האור המתפשט מאחורי ההרים, השמים המשתנים מאוד מהיר מאופל לתכלת, והשלווה המוחלטת שאפשר רק במדבר, הכל הפך את החוויה לבלתי נשכחת\"]"
   ]
  },
  {
   "cell_type": "code",
   "execution_count": 40,
   "metadata": {},
   "outputs": [
    {
     "name": "stdout",
     "output_type": "stream",
     "text": [
      "torch.Size([1, 76, 64])\n",
      "tensor([[[-0.0047, -0.0104,  0.0008,  ...,  0.0008,  0.0047, -0.0011],\n",
      "         [-0.0295, -0.0010, -0.0541,  ...,  0.0182,  0.0581,  0.0209],\n",
      "         [-0.0212, -0.0260, -0.1339,  ...,  0.0045,  0.1158,  0.0028],\n",
      "         ...,\n",
      "         [-0.0158,  0.0131, -0.0153,  ...,  0.0117, -0.0318, -0.0135],\n",
      "         [-0.0112, -0.0120, -0.0044,  ...,  0.0110,  0.0039,  0.0047],\n",
      "         [-0.0011, -0.0077,  0.0054,  ...,  0.0049, -0.0025, -0.0050]]],\n",
      "       grad_fn=<CloneBackward0>)\n"
     ]
    }
   ],
   "source": [
    "import torch\n",
    "from transformers import BertTokenizer, BertModel\n",
    "from transformers import BertModel, BertTokenizerFast\n",
    "from transformers import AutoTokenizer, AutoModel\n",
    "from transformers import AutoTokenizer, AutoModelForMaskedLM\n",
    "import torch\n",
    "from transformers import AutoModelForMaskedLM, AutoTokenizer\n",
    "\n",
    "\n",
    "def compute_output(sentence, layer, head):\n",
    "    # Load pre-trained model\n",
    "    \n",
    "    model = AutoModelForMaskedLM.from_pretrained(\"dicta-il/alephbertgimmel-base\")\n",
    "    tokenizer = AutoTokenizer.from_pretrained(\"dicta-il/alephbertgimmel-base\")\n",
    "\n",
    "\n",
    "    # Tokenize input and convert to tensor\n",
    "    inputs = tokenizer(sentence, return_tensors=\"pt\")\n",
    "\n",
    "    # Forward pass\n",
    "    # Specify `output_hidden_states=True` when calling the model\n",
    "    outputs = model(**inputs, output_attentions=True, output_hidden_states=True)\n",
    "\n",
    "    # Obtain the attention weights\n",
    "    attentions = outputs.attentions\n",
    "\n",
    "    # Obtain the attention weights for the specific layer and head\n",
    "    S = attentions[layer][0, head]\n",
    "\n",
    "    # Obtain the value vectors\n",
    "    model.eval()\n",
    "    with torch.no_grad():\n",
    "        hidden_states = outputs.hidden_states[layer]\n",
    "        all_W_v = model.bert.encoder.layer[layer].attention.self.value.weight\n",
    "        num_heads = model.config.num_attention_heads\n",
    "        head_dim = model.config.hidden_size // num_heads\n",
    "        W_v_heads = all_W_v.view(num_heads, head_dim, model.config.hidden_size)\n",
    "        W_v = W_v_heads[head]\n",
    "        V = torch.matmul(hidden_states, W_v.t())\n",
    "\n",
    "    # Compute the output O\n",
    "    O = torch.matmul(S, V)\n",
    "\n",
    "    return O\n",
    "\n",
    "# Set the layer and head to use for computation\n",
    "layer = 5\n",
    "head = 10\n",
    "\n",
    "# Compute the context vectors for each text in the corpus\n",
    "context = [compute_output(t, layer, head) for t in text]\n",
    "print(context[0].shape)\n",
    "print(context[0])"
   ]
  },
  {
   "cell_type": "code",
   "execution_count": 41,
   "metadata": {},
   "outputs": [
    {
     "name": "stdout",
     "output_type": "stream",
     "text": [
      "Barcode for text 0:\n"
     ]
    },
    {
     "data": {
      "image/png": "[encoded data removed]",
      "text/plain": [
       "<Figure size 640x480 with 1 Axes>"
      ]
     },
     "metadata": {},
     "output_type": "display_data"
    }
   ],
   "source": [
    "import matplotlib.pyplot as plt\n",
    "import numpy as np\n",
    "from scipy.spatial import distance_matrix\n",
    "import gudhi as gd\n",
    "\n",
    "def compute_distances_and_plot_barcode(output):\n",
    "    # Detach the output tensor, squeeze, and convert to numpy array\n",
    "    output_np = output.squeeze().detach().numpy()\n",
    "\n",
    "    # Compute the pairwise Euclidean distance matrix\n",
    "    distances = distance_matrix(output_np, output_np)\n",
    "\n",
    "    # Compute the persistent homology of the distance matrix\n",
    "    rips_complex = gd.RipsComplex(distance_matrix=distances, max_edge_length=np.max(distances))\n",
    "    simplex_tree = rips_complex.create_simplex_tree(max_dimension=2)\n",
    "    persistent_homology = simplex_tree.persistence(min_persistence=0.001)\n",
    "    \n",
    "    # Plot the barcode diagram\n",
    "    gd.plot_persistence_barcode(persistence=persistent_homology)\n",
    "    plt.show()\n",
    "\n",
    "# Compute the barcode diagrams for each context vector\n",
    "for i, output in enumerate(context):\n",
    "    print(f\"Barcode for text {i}:\")\n",
    "    compute_distances_and_plot_barcode(output)"
   ]
  },
  {
   "cell_type": "code",
   "execution_count": 42,
   "metadata": {},
   "outputs": [
    {
     "name": "stdout",
     "output_type": "stream",
     "text": [
      "Clusters for text 0:\n",
      "Cluster 0: [CLS], שלנו, נסענו, הנגב, המרשימים, המיוחד, המוחלט, במדבר, המרגשות, השמש, המדבר, ההרים, ##כלת, במדבר, החוויה, נשכחת, [SEP]\n",
      "Cluster 1: החוויות, ביותר\n"
     ]
    }
   ],
   "source": [
    "from scipy.spatial.distance import pdist, squareform\n",
    "from sklearn.cluster import DBSCAN\n",
    "from transformers import BertTokenizer\n",
    "from transformers import BertModel, BertTokenizerFast\n",
    "\n",
    "def cluster_and_get_words(context, sentence, eps=0.1):\n",
    "    # Load pre-trained model tokenizer\n",
    "    tokenizer = AutoTokenizer.from_pretrained(\"dicta-il/alephbertgimmel-base\")\n",
    "\n",
    "\n",
    "    # Tokenize input and convert to tensor\n",
    "    inputs = tokenizer(sentence, return_tensors=\"pt\")\n",
    "    tokens = tokenizer.convert_ids_to_tokens(inputs['input_ids'][0])\n",
    "\n",
    "    # Squeeze the context tensor to remove the batch size dimension\n",
    "    context = context.squeeze(0)\n",
    "\n",
    "    # Compute the pairwise distance matrix\n",
    "    distances = pdist(context.detach().numpy(), 'euclidean')\n",
    "    dist_matrix = squareform(distances)\n",
    "\n",
    "    # Run DBSCAN on the distance matrix\n",
    "    clustering = DBSCAN(eps=eps, min_samples=2, metric='precomputed').fit(dist_matrix)\n",
    "\n",
    "    # Get the words corresponding to each cluster\n",
    "    clusters = {}\n",
    "    for i, label in enumerate(clustering.labels_):\n",
    "        if label != -1:  # Ignore noise (-1 label)\n",
    "            if label not in clusters:\n",
    "                clusters[label] = []\n",
    "            clusters[label].append(tokens[i])\n",
    "\n",
    "    return clusters\n",
    "\n",
    "# Compute the clusters for each context vector\n",
    "clusters = []\n",
    "for i, output in enumerate(context):\n",
    "    print(f\"Clusters for text {i}:\")\n",
    "    clusters.append(cluster_and_get_words(output, text[i]))\n",
    "    for label, words in clusters[-1].items():\n",
    "        print(f\"Cluster {label}: {', '.join(words)}\")"
   ]
  },
  {
   "cell_type": "code",
   "execution_count": 43,
   "metadata": {},
   "outputs": [
    {
     "name": "stdout",
     "output_type": "stream",
     "text": [
      "Tokens of the sub-collection: ['לצפות', 'בזר', '##חת', 'השמש']\n",
      "Distance matrix: (4, 4)\n",
      "Distance matrix: [[0.         0.47132816 0.61854918 0.53367489]\n",
      " [0.47132816 0.         0.44857698 0.40303469]\n",
      " [0.61854918 0.44857698 0.         0.32272062]\n",
      " [0.53367489 0.40303469 0.32272062 0.        ]]\n"
     ]
    },
    {
     "data": {
      "image/png": "[encoded data removed]",
      "text/plain": [
       "<Figure size 640x480 with 1 Axes>"
      ]
     },
     "metadata": {},
     "output_type": "display_data"
    },
    {
     "data": {
      "text/plain": [
       "[(0, (0.0, inf)),\n",
       " (0, (0.0, 0.4713281576644978)),\n",
       " (0, (0.0, 0.4030346867899572)),\n",
       " (0, (0.0, 0.3227206223473815))]"
      ]
     },
     "execution_count": 43,
     "metadata": {},
     "output_type": "execute_result"
    }
   ],
   "source": [
    "from scipy.spatial import distance_matrix\n",
    "import gudhi as gd\n",
    "import numpy as np\n",
    "import matplotlib.pyplot as plt\n",
    "from transformers import BertTokenizer\n",
    "\n",
    "def compute_phrase_distances_and_homology(context_vectors, sentence, phrase):\n",
    "    # Initialize the tokenizer\n",
    "    tokenizer = AutoTokenizer.from_pretrained(\"dicta-il/alephbertgimmel-base\")\n",
    "\n",
    "    # Tokenize the sentence and the phrase\n",
    "    sentence_tokens = tokenizer.encode(sentence, add_special_tokens=False)\n",
    "    phrase_tokens = tokenizer.encode(phrase, add_special_tokens=False)\n",
    "\n",
    "    # Find the indices of the phrase tokens in the sentence\n",
    "    phrase_indices = []\n",
    "    phrase_length = len(phrase_tokens)\n",
    "    for i in range(len(sentence_tokens) - phrase_length + 1):\n",
    "        if sentence_tokens[i:i+phrase_length] == phrase_tokens:\n",
    "            phrase_indices.extend(range(i, i+phrase_length))\n",
    "            break\n",
    "\n",
    "    # Extract the context vectors for the phrase\n",
    "    phrase_context_vectors = context_vectors[0, phrase_indices]\n",
    "\n",
    "    # Detach the tensor and convert to numpy array\n",
    "    phrase_context_vectors_np = phrase_context_vectors.detach().numpy()\n",
    "\n",
    "    # Print the tokens of the sub-collection and their context vectors\n",
    "    print(f'Tokens of the sub-collection: {tokenizer.convert_ids_to_tokens(phrase_tokens)}')\n",
    "    # print(f'Context vectors of the sub-collection: {phrase_context_vectors_np}')\n",
    "\n",
    "    # Compute the pairwise Euclidean distances among the phrase context vectors\n",
    "    distances = distance_matrix(phrase_context_vectors_np, phrase_context_vectors_np)\n",
    "\n",
    "    # Print the distance matrix\n",
    "    print(f'Distance matrix: {distances.shape}')\n",
    "    print(f'Distance matrix: {distances}')\n",
    "\n",
    "    # Compute the persistent homology of the distance matrix\n",
    "    rips_complex = gd.RipsComplex(distance_matrix=distances, max_edge_length=np.max(distances))\n",
    "    simplex_tree = rips_complex.create_simplex_tree(max_dimension=2)\n",
    "    persistent_homology = simplex_tree.persistence(min_persistence=0.001)\n",
    "\n",
    "    # Plot the barcode diagram\n",
    "    gd.plot_persistence_barcode(persistence=persistent_homology)\n",
    "    plt.show()\n",
    "\n",
    "    return persistent_homology\n",
    "\n",
    "# Assuming that 'context_vectors' is the tensor of context vectors for your sentence,\n",
    "# and 'sentence' is your original sentence, you can use the function like this:\n",
    "compute_phrase_distances_and_homology(context[0], text[0], \"לצפות בזרחת השמש\")"
   ]
  },
  {
   "cell_type": "code",
   "execution_count": 44,
   "metadata": {},
   "outputs": [],
   "source": [
    "text_2 = [\"במהלך שנת הלימודים הראשונה שלי באוניברסיטה, הצטרפתי לקבוצת טיול שהגיעה להר האייפל. למרות הקור החודר, הייתי מחויב לעלות לפסגה בכל בוקר, כדי לצפות בזרחת השמש מעל פריס\"]"
   ]
  },
  {
   "cell_type": "code",
   "execution_count": 45,
   "metadata": {},
   "outputs": [
    {
     "name": "stdout",
     "output_type": "stream",
     "text": [
      "Tokens of the sub-collection: ['לצפות', 'בזר', '##חת', 'השמש']\n",
      "Distance matrix: (4, 4)\n",
      "Distance matrix: [[0.         0.45067816 0.67154607 0.74177441]\n",
      " [0.45067816 0.         0.37688415 0.45457449]\n",
      " [0.67154607 0.37688415 0.         0.20828307]\n",
      " [0.74177441 0.45457449 0.20828307 0.        ]]\n"
     ]
    },
    {
     "data": {
      "image/png": "[encoded data removed]",
      "text/plain": [
       "<Figure size 640x480 with 1 Axes>"
      ]
     },
     "metadata": {},
     "output_type": "display_data"
    },
    {
     "data": {
      "text/plain": [
       "[(0, (0.0, inf)),\n",
       " (0, (0.0, 0.450678164443104)),\n",
       " (0, (0.0, 0.3768841494096783)),\n",
       " (0, (0.0, 0.20828306772108313))]"
      ]
     },
     "execution_count": 45,
     "metadata": {},
     "output_type": "execute_result"
    }
   ],
   "source": [
    "context_2 = [compute_output(t, layer, head) for t in text_2]\n",
    "compute_phrase_distances_and_homology(context_2[0], text_2[0], \"לצפות בזרחת השמש\")"
   ]
  },
  {
   "cell_type": "code",
   "execution_count": 46,
   "metadata": {},
   "outputs": [
    {
     "name": "stdout",
     "output_type": "stream",
     "text": [
      "Tokens of the sub-collection: ['לצפות', 'בזר', '##חת', 'השמש']\n",
      "Distance matrix: (4, 4)\n",
      "Distance matrix: [[0.         0.47132816 0.61854918 0.53367489]\n",
      " [0.47132816 0.         0.44857698 0.40303469]\n",
      " [0.61854918 0.44857698 0.         0.32272062]\n",
      " [0.53367489 0.40303469 0.32272062 0.        ]]\n"
     ]
    },
    {
     "data": {
      "image/png": "[encoded data removed]",
      "text/plain": [
       "<Figure size 640x480 with 1 Axes>"
      ]
     },
     "metadata": {},
     "output_type": "display_data"
    },
    {
     "name": "stdout",
     "output_type": "stream",
     "text": [
      "Tokens of the sub-collection: ['לצפות', 'בזר', '##חת', 'השמש']\n",
      "Distance matrix: (4, 4)\n",
      "Distance matrix: [[0.         0.45067816 0.67154607 0.74177441]\n",
      " [0.45067816 0.         0.37688415 0.45457449]\n",
      " [0.67154607 0.37688415 0.         0.20828307]\n",
      " [0.74177441 0.45457449 0.20828307 0.        ]]\n"
     ]
    },
    {
     "data": {
      "image/png": "[encoded data removed]",
      "text/plain": [
       "<Figure size 640x480 with 1 Axes>"
      ]
     },
     "metadata": {},
     "output_type": "display_data"
    },
    {
     "name": "stdout",
     "output_type": "stream",
     "text": [
      "Bottleneck distance: 0.1144375546262984\n",
      "Wasserstein distance: = 0.16\n"
     ]
    }
   ],
   "source": [
    "# from gudhi.wasserstein import wasserstein_distance \n",
    "# Could also be: \n",
    "from gudhi.hera import wasserstein_distance\n",
    "import numpy as np\n",
    "\n",
    "# Compute the persistent homology\n",
    "persistent_homology_1 = compute_phrase_distances_and_homology(context[0], text[0], \"לצפות בזרחת השמש\")\n",
    "persistent_homology_2 = compute_phrase_distances_and_homology(context_2[0], text_2[0], \"לצפות בזרחת השמש\")\n",
    "\n",
    "# Convert the persistent homology data to a numpy array\n",
    "persistent_homology_np_1 = np.array([[pt[1][0], pt[1][1]] for pt in persistent_homology_1 if pt[1][1] != float('inf')])\n",
    "persistent_homology_np_2 = np.array([[pt[1][0], pt[1][1]] for pt in persistent_homology_2 if pt[1][1] != float('inf')])\n",
    "\n",
    "# Compute and print the bottleneck distance\n",
    "bottleneck_dist = gd.bottleneck_distance(persistent_homology_np_1, persistent_homology_np_2)\n",
    "print(f\"Bottleneck distance: {bottleneck_dist}\")\n",
    "\n",
    "# Compute and print the Wasserstein distance\n",
    "print(f\"Wasserstein distance: = {wasserstein_distance(persistent_homology_np_1, persistent_homology_np_2, order=1., internal_p=2.):.2f}\")"
   ]
  },
  {
   "cell_type": "code",
   "execution_count": 47,
   "metadata": {},
   "outputs": [],
   "source": [
    "text_3 = [\"הלמידה העמוקה היא תת תחום של הלמידה החישובית המשתמשת ברשתות נוירוניות מלאכותיות. בעזרת אלגוריתמים מורכבים, הלמידה העמוקה מאפשרת למחשבים ללמוד מתוך נתונים מרובים המתארים מציאות מסוימת. המטרה העיקרית של הלמידה העמוקה היא חקירת איך ניתן להגיע למסקנות מדויקות באמצעות הפעלת תהליכים חישוביים מרובים.\"]\n",
    "\n",
    "text_4 = [\"חישוב קוואנטי הוא תחום במדע המחשב המתמקד בפיתוח מחשבים המבוססים על מכניקת הקוונטים. בניגוד למחשבים קלאסיים, מחשב קוואנטי מסוגל לבצע חישובים מרובים בו זמנית, מה שמאפשר לו לפתור בעיות מורכבות בצורה מהירה יותר. בחישוב הקוואנטי, המטרה העיקרית היא להגיע למסקנות מדויקות באמצעות הפעלת תהליכים חישוביים מרובים.\"]"
   ]
  },
  {
   "cell_type": "code",
   "execution_count": 57,
   "metadata": {},
   "outputs": [],
   "source": [
    "context_3 = [compute_output(t, layer, head) for t in text_3]\n",
    "\n",
    "context_4 = [compute_output(t, layer, head) for t in text_4]"
   ]
  },
  {
   "cell_type": "code",
   "execution_count": 58,
   "metadata": {},
   "outputs": [
    {
     "name": "stdout",
     "output_type": "stream",
     "text": [
      "Tokens of the sub-collection: ['למסקנות', 'מדויקות']\n",
      "Distance matrix: (2, 2)\n",
      "Distance matrix: [[0.         1.21669723]\n",
      " [1.21669723 0.        ]]\n"
     ]
    },
    {
     "data": {
      "image/png": "[encoded data removed]",
      "text/plain": [
       "<Figure size 640x480 with 1 Axes>"
      ]
     },
     "metadata": {},
     "output_type": "display_data"
    },
    {
     "name": "stdout",
     "output_type": "stream",
     "text": [
      "Tokens of the sub-collection: ['למסקנות', 'מדויקות']\n",
      "Distance matrix: (2, 2)\n",
      "Distance matrix: [[0.         0.97133093]\n",
      " [0.97133093 0.        ]]\n"
     ]
    },
    {
     "data": {
      "image/png": "[encoded data removed]",
      "text/plain": [
       "<Figure size 640x480 with 1 Axes>"
      ]
     },
     "metadata": {},
     "output_type": "display_data"
    },
    {
     "name": "stdout",
     "output_type": "stream",
     "text": [
      "Bottleneck distance: 0.24536629920959996\n",
      "Wasserstein distance: = 0.25\n"
     ]
    }
   ],
   "source": [
    "# Compute the persistent homology\n",
    "persistent_homology_1 = compute_phrase_distances_and_homology(context_3[0], text_3[0], \"למסקנות מדויקות\")\n",
    "persistent_homology_2 = compute_phrase_distances_and_homology(context_4[0], text_4[0], \"למסקנות מדויקות\")\n",
    "\n",
    "# Convert the persistent homology data to a numpy array\n",
    "persistent_homology_np_1 = np.array([[pt[1][0], pt[1][1]] for pt in persistent_homology_1 if pt[1][1] != float('inf')])\n",
    "persistent_homology_np_2 = np.array([[pt[1][0], pt[1][1]] for pt in persistent_homology_2 if pt[1][1] != float('inf')])\n",
    "\n",
    "# Compute and print the bottleneck distance\n",
    "bottleneck_dist = gd.bottleneck_distance(persistent_homology_np_1, persistent_homology_np_2)\n",
    "print(f\"Bottleneck distance: {bottleneck_dist}\")\n",
    "\n",
    "# Compute and print the Wasserstein distance\n",
    "print(f\"Wasserstein distance: = {wasserstein_distance(persistent_homology_np_1, persistent_homology_np_2, order=1., internal_p=2.):.2f}\")"
   ]
  },
  {
   "cell_type": "code",
   "execution_count": 59,
   "metadata": {},
   "outputs": [
    {
     "name": "stdout",
     "output_type": "stream",
     "text": [
      "Tokens of the sub-collection: ['להגיע', 'למסקנות', 'מדויקות', 'באמצעות', 'הפעלת', 'תהליכים', 'חישובי', '##ים', 'מרובים']\n",
      "Distance matrix: (9, 9)\n",
      "Distance matrix: [[0.         0.96393314 0.54417737 0.5924095  0.59564276 0.72315494\n",
      "  0.86142939 0.60827759 0.61006116]\n",
      " [0.96393314 0.         1.21669723 1.28383866 1.24166379 1.17636075\n",
      "  1.42118607 1.30315888 1.30516944]\n",
      " [0.54417737 1.21669723 0.         0.13917338 0.57285955 0.61646897\n",
      "  0.66954204 0.14796129 0.14205675]\n",
      " [0.5924095  1.28383866 0.13917338 0.         0.58210368 0.6296389\n",
      "  0.69349904 0.10978423 0.07515129]\n",
      " [0.59564276 1.24166379 0.57285955 0.58210368 0.         0.50121413\n",
      "  0.7084856  0.59555776 0.58322655]\n",
      " [0.72315494 1.17636075 0.61646897 0.6296389  0.50121413 0.\n",
      "  0.71554561 0.62821824 0.6232138 ]\n",
      " [0.86142939 1.42118607 0.66954204 0.69349904 0.7084856  0.71554561\n",
      "  0.         0.65398562 0.65940386]\n",
      " [0.60827759 1.30315888 0.14796129 0.10978423 0.59555776 0.62821824\n",
      "  0.65398562 0.         0.0816829 ]\n",
      " [0.61006116 1.30516944 0.14205675 0.07515129 0.58322655 0.6232138\n",
      "  0.65940386 0.0816829  0.        ]]\n"
     ]
    },
    {
     "data": {
      "image/png": "[encoded data removed]",
      "text/plain": [
       "<Figure size 640x480 with 1 Axes>"
      ]
     },
     "metadata": {},
     "output_type": "display_data"
    },
    {
     "name": "stdout",
     "output_type": "stream",
     "text": [
      "Tokens of the sub-collection: ['להגיע', 'למסקנות', 'מדויקות', 'באמצעות', 'הפעלת', 'תהליכים', 'חישובי', '##ים', 'מרובים']\n",
      "Distance matrix: (9, 9)\n",
      "Distance matrix: [[0.         0.89066727 0.24773783 0.24858719 0.53041707 0.7042765\n",
      "  0.65901649 0.2981515  0.27815553]\n",
      " [0.89066727 0.         0.97133093 1.01946554 1.01315357 0.97681417\n",
      "  1.10566263 1.03629965 1.04016893]\n",
      " [0.24773783 0.97133093 0.         0.1350042  0.61602182 0.70031138\n",
      "  0.63701893 0.16394696 0.13548967]\n",
      " [0.24858719 1.01946554 0.1350042  0.         0.60477368 0.70497975\n",
      "  0.65860527 0.17021861 0.10067304]\n",
      " [0.53041707 1.01315357 0.61602182 0.60477368 0.         0.54341018\n",
      "  0.62975829 0.6371178  0.61413126]\n",
      " [0.7042765  0.97681417 0.70031138 0.70497975 0.54341018 0.\n",
      "  0.67808058 0.71312927 0.70020359]\n",
      " [0.65901649 1.10566263 0.63701893 0.65860527 0.62975829 0.67808058\n",
      "  0.         0.62347167 0.62672646]\n",
      " [0.2981515  1.03629965 0.16394696 0.17021861 0.6371178  0.71312927\n",
      "  0.62347167 0.         0.11919703]\n",
      " [0.27815553 1.04016893 0.13548967 0.10067304 0.61413126 0.70020359\n",
      "  0.62672646 0.11919703 0.        ]]\n"
     ]
    },
    {
     "data": {
      "image/png": "[encoded data removed]",
      "text/plain": [
       "<Figure size 640x480 with 1 Axes>"
      ]
     },
     "metadata": {},
     "output_type": "display_data"
    },
    {
     "name": "stdout",
     "output_type": "stream",
     "text": [
      "Bottleneck distance: 0.250607066597864\n",
      "Wasserstein distance: = 0.47\n"
     ]
    }
   ],
   "source": [
    "# Compute the persistent homology\n",
    "persistent_homology_1 = compute_phrase_distances_and_homology(context_3[0], text_3[0],  \"להגיע למסקנות מדויקות באמצעות הפעלת תהליכים חישוביים מרובים\")\n",
    "persistent_homology_2 = compute_phrase_distances_and_homology(context_4[0], text_4[0],  \"להגיע למסקנות מדויקות באמצעות הפעלת תהליכים חישוביים מרובים\")\n",
    "\n",
    "# Convert the persistent homology data to a numpy array\n",
    "persistent_homology_np_1 = np.array([[pt[1][0], pt[1][1]] for pt in persistent_homology_1 if pt[1][1] != float('inf')])\n",
    "persistent_homology_np_2 = np.array([[pt[1][0], pt[1][1]] for pt in persistent_homology_2 if pt[1][1] != float('inf')])\n",
    "\n",
    "# Compute and print the bottleneck distance\n",
    "bottleneck_dist = gd.bottleneck_distance(persistent_homology_np_1, persistent_homology_np_2)\n",
    "print(f\"Bottleneck distance: {bottleneck_dist}\")\n",
    "\n",
    "# Compute and print the Wasserstein distance\n",
    "print(f\"Wasserstein distance: = {wasserstein_distance(persistent_homology_np_1, persistent_homology_np_2, order=1., internal_p=2.):.2f}\")"
   ]
  },
  {
   "cell_type": "code",
   "execution_count": null,
   "metadata": {},
   "outputs": [],
   "source": []
  }
 ],
 "metadata": {
  "kernelspec": {
   "display_name": "env_1",
   "language": "python",
   "name": "python3"
  },
  "language_info": {
   "codemirror_mode": {
    "name": "ipython",
    "version": 3
   },
   "file_extension": ".py",
   "mimetype": "text/x-python",
   "name": "python",
   "nbconvert_exporter": "python",
   "pygments_lexer": "ipython3",
   "version": "3.10.11"
  },
  "orig_nbformat": 4
 },
 "nbformat": 4,
 "nbformat_minor": 2
}
