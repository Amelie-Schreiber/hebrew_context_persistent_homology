{
 "cells": [
  {
   "cell_type": "code",
   "execution_count": 19,
   "metadata": {},
   "outputs": [
    {
     "name": "stdout",
     "output_type": "stream",
     "text": [
      "huggingface/tokenizers: The current process just got forked, after parallelism has already been used. Disabling parallelism to avoid deadlocks...\n",
      "To disable this warning, you can either:\n",
      "\t- Avoid using `tokenizers` before the fork if possible\n",
      "\t- Explicitly set the environment variable TOKENIZERS_PARALLELISM=(true | false)\n",
      "Note: you may need to restart the kernel to use updated packages.\n"
     ]
    }
   ],
   "source": [
    "pip install transformers torch numpy gudhi -q"
   ]
  },
  {
   "cell_type": "code",
   "execution_count": 20,
   "metadata": {},
   "outputs": [],
   "source": [
    "text = [\"בחופשה האחרונה שלנו, נסענו להכיר את היופיים של מדבר הנגב. בין אם מדובר בצוקים המרשימים, בחי הבר המיוחד, או בשקט המוחלט, יש משהו מאוד מיוחד במדבר. אחת החוויות המרגשות ביותר שלנו הייתה לצפות בזרחת השמש מעל המדבר. האור המתפשט מאחורי ההרים, השמים המשתנים מאוד מהיר מאופל לתכלת, והשלווה המוחלטת שאפשר רק במדבר, הכל הפך את החוויה לבלתי נשכחת\"]"
   ]
  },
  {
   "cell_type": "code",
   "execution_count": 21,
   "metadata": {},
   "outputs": [
    {
     "name": "stderr",
     "output_type": "stream",
     "text": [
      "Some weights of the model checkpoint at xlm-roberta-large were not used when initializing XLMRobertaModel: ['lm_head.dense.bias', 'lm_head.layer_norm.weight', 'lm_head.dense.weight', 'lm_head.bias', 'lm_head.layer_norm.bias']\n",
      "- This IS expected if you are initializing XLMRobertaModel from the checkpoint of a model trained on another task or with another architecture (e.g. initializing a BertForSequenceClassification model from a BertForPreTraining model).\n",
      "- This IS NOT expected if you are initializing XLMRobertaModel from the checkpoint of a model that you expect to be exactly identical (initializing a BertForSequenceClassification model from a BertForSequenceClassification model).\n"
     ]
    },
    {
     "name": "stdout",
     "output_type": "stream",
     "text": [
      "torch.Size([1, 110, 64])\n",
      "tensor([[[-0.0185, -0.0265, -0.0381,  ...,  0.0056,  0.0150,  0.0116],\n",
      "         [-0.0102, -0.0620, -0.0494,  ...,  0.0099,  0.0456,  0.0298],\n",
      "         [-0.0189, -0.0575, -0.1296,  ...,  0.0237,  0.1101,  0.0262],\n",
      "         ...,\n",
      "         [-0.0428, -0.0235, -0.0365,  ...,  0.0341,  0.0233, -0.0071],\n",
      "         [-0.0368, -0.0413, -0.0330,  ...,  0.0377,  0.0951,  0.0245],\n",
      "         [-0.0465,  0.0160,  0.1298,  ..., -0.0017,  0.1086, -0.0345]]],\n",
      "       grad_fn=<CloneBackward0>)\n"
     ]
    }
   ],
   "source": [
    "import torch\n",
    "from transformers import BertTokenizer, BertModel\n",
    "from transformers import BertModel, BertTokenizerFast\n",
    "from transformers import AutoTokenizer, AutoModel  # Corrected import here\n",
    "\n",
    "def compute_output(sentence, layer, head):\n",
    "    # Load pre-trained model\n",
    "    tokenizer = AutoTokenizer.from_pretrained('xlm-roberta-large')\n",
    "    model = AutoModel.from_pretrained(\"xlm-roberta-large\") \n",
    "\n",
    "\n",
    "    # Tokenize input and convert to tensor\n",
    "    inputs = tokenizer(sentence, return_tensors=\"pt\")\n",
    "\n",
    "    # Forward pass\n",
    "    # Specify `output_hidden_states=True` when calling the model\n",
    "    outputs = model(**inputs, output_attentions=True, output_hidden_states=True)\n",
    "\n",
    "    # Obtain the attention weights\n",
    "    attentions = outputs.attentions\n",
    "\n",
    "    # Obtain the attention weights for the specific layer and head\n",
    "    S = attentions[layer][0, head]\n",
    "\n",
    "    # Obtain the value vectors\n",
    "    model.eval()\n",
    "    with torch.no_grad():\n",
    "        hidden_states = outputs.hidden_states[layer]\n",
    "        all_W_v = model.encoder.layer[layer].attention.self.value.weight\n",
    "        num_heads = model.config.num_attention_heads\n",
    "        head_dim = model.config.hidden_size // num_heads\n",
    "        W_v_heads = all_W_v.view(num_heads, head_dim, model.config.hidden_size)\n",
    "        W_v = W_v_heads[head]\n",
    "        V = torch.matmul(hidden_states, W_v.t())\n",
    "\n",
    "    # Compute the output O\n",
    "    O = torch.matmul(S, V)\n",
    "\n",
    "    return O\n",
    "\n",
    "# Set the layer and head to use for computation\n",
    "layer = 5\n",
    "head = 10\n",
    "\n",
    "# Compute the context vectors for each text in the corpus\n",
    "context = [compute_output(t, layer, head) for t in text]\n",
    "print(context[0].shape)\n",
    "print(context[0])"
   ]
  },
  {
   "cell_type": "code",
   "execution_count": 22,
   "metadata": {},
   "outputs": [
    {
     "name": "stdout",
     "output_type": "stream",
     "text": [
      "Barcode for text 0:\n"
     ]
    },
    {
     "data": {
      "image/png": "[encoded data removed]",
      "text/plain": [
       "<Figure size 640x480 with 1 Axes>"
      ]
     },
     "metadata": {},
     "output_type": "display_data"
    }
   ],
   "source": [
    "import matplotlib.pyplot as plt\n",
    "import numpy as np\n",
    "from scipy.spatial import distance_matrix\n",
    "import gudhi as gd\n",
    "\n",
    "def compute_distances_and_plot_barcode(output):\n",
    "    # Detach the output tensor, squeeze, and convert to numpy array\n",
    "    output_np = output.squeeze().detach().numpy()\n",
    "\n",
    "    # Compute the pairwise Euclidean distance matrix\n",
    "    distances = distance_matrix(output_np, output_np)\n",
    "\n",
    "    # Compute the persistent homology of the distance matrix\n",
    "    rips_complex = gd.RipsComplex(distance_matrix=distances, max_edge_length=np.max(distances))\n",
    "    simplex_tree = rips_complex.create_simplex_tree(max_dimension=2)\n",
    "    persistent_homology = simplex_tree.persistence(min_persistence=0.001)\n",
    "    \n",
    "    # Plot the barcode diagram\n",
    "    gd.plot_persistence_barcode(persistence=persistent_homology)\n",
    "    plt.show()\n",
    "\n",
    "# Compute the barcode diagrams for each context vector\n",
    "for i, output in enumerate(context):\n",
    "    print(f\"Barcode for text {i}:\")\n",
    "    compute_distances_and_plot_barcode(output)"
   ]
  },
  {
   "cell_type": "code",
   "execution_count": 23,
   "metadata": {},
   "outputs": [
    {
     "name": "stdout",
     "output_type": "stream",
     "text": [
      "Clusters for text 0:\n",
      "Cluster 0: <s>, ▁ב, חופש, ה, ▁האחרונה, ▁שלנו, ,, ▁נ, סע, נו, ▁להכיר, ▁את, ▁ה, יופי, ים, ▁של, ▁מדבר, ▁ה, נגב, ., ▁בין, ▁אם, ▁מדובר, ▁בצ, וקים, ▁המ, רש, ימים, ,, ▁ב, חי, ▁הבר, ▁המיוחד, ,, ▁או, ▁בש, קט, ▁המוח, לט, ,, ▁יש, ▁משהו, ▁מאוד, ▁מיוחד, ▁במ, דבר, ., ▁אחת, ▁הח, ווי, ות, ▁המ, רגש, ות, ▁ביותר, ▁שלנו, ▁הייתה, ▁לצפות, ▁ב, זר, חת, ▁הש, מש, ▁מעל, ▁המ, דבר, ., ▁האור, ▁המת, פשט, ▁מאחורי, ▁ההר, ים, ,, ▁ה, שמים, ▁המש, ת, נים, ▁מאוד, ▁מהיר, ▁מאו, פל, ▁לת, כל, ת, ,, ▁וה, של, ווה, ▁המוח, לט, ת, ▁שאפשר, ▁רק, ▁במ, דבר, ,, ▁הכל, ▁, הפך, ▁את, ▁ה, חוויה, ▁לב, לתי, ▁נ, שכח, ת, </s>\n"
     ]
    }
   ],
   "source": [
    "from scipy.spatial.distance import pdist, squareform\n",
    "from sklearn.cluster import DBSCAN\n",
    "from transformers import BertTokenizer\n",
    "from transformers import BertModel, BertTokenizerFast\n",
    "\n",
    "def cluster_and_get_words(context, sentence, eps=3.1):\n",
    "    # Load pre-trained model tokenizer\n",
    "    tokenizer = AutoTokenizer.from_pretrained('xlm-roberta-large')\n",
    "\n",
    "\n",
    "    # Tokenize input and convert to tensor\n",
    "    inputs = tokenizer(sentence, return_tensors=\"pt\")\n",
    "    tokens = tokenizer.convert_ids_to_tokens(inputs['input_ids'][0])\n",
    "\n",
    "    # Squeeze the context tensor to remove the batch size dimension\n",
    "    context = context.squeeze(0)\n",
    "\n",
    "    # Compute the pairwise distance matrix\n",
    "    distances = pdist(context.detach().numpy(), 'euclidean')\n",
    "    dist_matrix = squareform(distances)\n",
    "\n",
    "    # Run DBSCAN on the distance matrix\n",
    "    clustering = DBSCAN(eps=eps, min_samples=2, metric='precomputed').fit(dist_matrix)\n",
    "\n",
    "    # Get the words corresponding to each cluster\n",
    "    clusters = {}\n",
    "    for i, label in enumerate(clustering.labels_):\n",
    "        if label != -1:  # Ignore noise (-1 label)\n",
    "            if label not in clusters:\n",
    "                clusters[label] = []\n",
    "            clusters[label].append(tokens[i])\n",
    "\n",
    "    return clusters\n",
    "\n",
    "# Compute the clusters for each context vector\n",
    "clusters = []\n",
    "for i, output in enumerate(context):\n",
    "    print(f\"Clusters for text {i}:\")\n",
    "    clusters.append(cluster_and_get_words(output, text[i]))\n",
    "    for label, words in clusters[-1].items():\n",
    "        print(f\"Cluster {label}: {', '.join(words)}\")"
   ]
  },
  {
   "cell_type": "code",
   "execution_count": 24,
   "metadata": {},
   "outputs": [
    {
     "name": "stdout",
     "output_type": "stream",
     "text": [
      "Tokens of the sub-collection: ['▁לצפות', '▁ב', 'זר', 'חת', '▁הש', 'מש']\n",
      "Distance matrix: (6, 6)\n",
      "Distance matrix: [[0.         0.17312792 0.24782831 0.05163766 0.76418758 0.37853789]\n",
      " [0.17312792 0.         0.10603126 0.17887167 0.63746676 0.21867894]\n",
      " [0.24782831 0.10603126 0.         0.25768827 0.56187741 0.14312445]\n",
      " [0.05163766 0.17887167 0.25768827 0.         0.77824006 0.38338532]\n",
      " [0.76418758 0.63746676 0.56187741 0.77824006 0.         0.478106  ]\n",
      " [0.37853789 0.21867894 0.14312445 0.38338532 0.478106   0.        ]]\n"
     ]
    },
    {
     "data": {
      "image/png": "[encoded data removed]",
      "text/plain": [
       "<Figure size 640x480 with 1 Axes>"
      ]
     },
     "metadata": {},
     "output_type": "display_data"
    },
    {
     "data": {
      "text/plain": [
       "[(0, (0.0, inf)),\n",
       " (0, (0.0, 0.4781059959934639)),\n",
       " (0, (0.0, 0.17312792167621596)),\n",
       " (0, (0.0, 0.1431244458966517)),\n",
       " (0, (0.0, 0.10603126188519682)),\n",
       " (0, (0.0, 0.05163765639927397))]"
      ]
     },
     "execution_count": 24,
     "metadata": {},
     "output_type": "execute_result"
    }
   ],
   "source": [
    "from scipy.spatial import distance_matrix\n",
    "import gudhi as gd\n",
    "import numpy as np\n",
    "import matplotlib.pyplot as plt\n",
    "from transformers import BertTokenizer\n",
    "\n",
    "def compute_phrase_distances_and_homology(context_vectors, sentence, phrase):\n",
    "    # Initialize the tokenizer\n",
    "    tokenizer = AutoTokenizer.from_pretrained('xlm-roberta-large')\n",
    "\n",
    "    # Tokenize the sentence and the phrase\n",
    "    sentence_tokens = tokenizer.encode(sentence, add_special_tokens=False)\n",
    "    phrase_tokens = tokenizer.encode(phrase, add_special_tokens=False)\n",
    "\n",
    "    # Find the indices of the phrase tokens in the sentence\n",
    "    phrase_indices = []\n",
    "    phrase_length = len(phrase_tokens)\n",
    "    for i in range(len(sentence_tokens) - phrase_length + 1):\n",
    "        if sentence_tokens[i:i+phrase_length] == phrase_tokens:\n",
    "            phrase_indices.extend(range(i, i+phrase_length))\n",
    "            break\n",
    "\n",
    "    # Extract the context vectors for the phrase\n",
    "    phrase_context_vectors = context_vectors[0, phrase_indices]\n",
    "\n",
    "    # Detach the tensor and convert to numpy array\n",
    "    phrase_context_vectors_np = phrase_context_vectors.detach().numpy()\n",
    "\n",
    "    # Print the tokens of the sub-collection and their context vectors\n",
    "    print(f'Tokens of the sub-collection: {tokenizer.convert_ids_to_tokens(phrase_tokens)}')\n",
    "    # print(f'Context vectors of the sub-collection: {phrase_context_vectors_np}')\n",
    "\n",
    "    # Compute the pairwise Euclidean distances among the phrase context vectors\n",
    "    distances = distance_matrix(phrase_context_vectors_np, phrase_context_vectors_np)\n",
    "\n",
    "    # Print the distance matrix\n",
    "    print(f'Distance matrix: {distances.shape}')\n",
    "    print(f'Distance matrix: {distances}')\n",
    "\n",
    "    # Compute the persistent homology of the distance matrix\n",
    "    rips_complex = gd.RipsComplex(distance_matrix=distances, max_edge_length=np.max(distances))\n",
    "    simplex_tree = rips_complex.create_simplex_tree(max_dimension=2)\n",
    "    persistent_homology = simplex_tree.persistence(min_persistence=0.001)\n",
    "\n",
    "    # Plot the barcode diagram\n",
    "    gd.plot_persistence_barcode(persistence=persistent_homology)\n",
    "    plt.show()\n",
    "\n",
    "    return persistent_homology\n",
    "\n",
    "# Assuming that 'context_vectors' is the tensor of context vectors for your sentence,\n",
    "# and 'sentence' is your original sentence, you can use the function like this:\n",
    "compute_phrase_distances_and_homology(context[0], text[0], \"לצפות בזרחת השמש\")"
   ]
  },
  {
   "cell_type": "code",
   "execution_count": 25,
   "metadata": {},
   "outputs": [],
   "source": [
    "text_2 = [\"במהלך שנת הלימודים הראשונה שלי באוניברסיטה, הצטרפתי לקבוצת טיול שהגיעה להר האייפל. למרות הקור החודר, הייתי מחויב לעלות לפסגה בכל בוקר, כדי לצפות בזרחת השמש מעל פריס\"]"
   ]
  },
  {
   "cell_type": "code",
   "execution_count": 26,
   "metadata": {},
   "outputs": [
    {
     "name": "stderr",
     "output_type": "stream",
     "text": [
      "Some weights of the model checkpoint at xlm-roberta-large were not used when initializing XLMRobertaModel: ['lm_head.dense.bias', 'lm_head.layer_norm.weight', 'lm_head.dense.weight', 'lm_head.bias', 'lm_head.layer_norm.bias']\n",
      "- This IS expected if you are initializing XLMRobertaModel from the checkpoint of a model trained on another task or with another architecture (e.g. initializing a BertForSequenceClassification model from a BertForPreTraining model).\n",
      "- This IS NOT expected if you are initializing XLMRobertaModel from the checkpoint of a model that you expect to be exactly identical (initializing a BertForSequenceClassification model from a BertForSequenceClassification model).\n"
     ]
    },
    {
     "name": "stdout",
     "output_type": "stream",
     "text": [
      "Tokens of the sub-collection: ['▁לצפות', '▁ב', 'זר', 'חת', '▁הש', 'מש']\n",
      "Distance matrix: (6, 6)\n",
      "Distance matrix: [[0.         0.08741289 0.13499828 0.25053419 0.62947088 0.14677012]\n",
      " [0.08741289 0.         0.16925683 0.18831603 0.65440851 0.19550471]\n",
      " [0.13499828 0.16925683 0.         0.31027584 0.51250763 0.0938616 ]\n",
      " [0.25053419 0.18831603 0.31027584 0.         0.752718   0.36164773]\n",
      " [0.62947088 0.65440851 0.51250763 0.752718   0.         0.51254775]\n",
      " [0.14677012 0.19550471 0.0938616  0.36164773 0.51254775 0.        ]]\n"
     ]
    },
    {
     "data": {
      "image/png": "[encoded data removed]",
      "text/plain": [
       "<Figure size 640x480 with 1 Axes>"
      ]
     },
     "metadata": {},
     "output_type": "display_data"
    },
    {
     "data": {
      "text/plain": [
       "[(0, (0.0, inf)),\n",
       " (0, (0.0, 0.5125076314946518)),\n",
       " (0, (0.0, 0.18831603182804402)),\n",
       " (0, (0.0, 0.13499828180887516)),\n",
       " (0, (0.0, 0.09386159716229518)),\n",
       " (0, (0.0, 0.08741289294820576))]"
      ]
     },
     "execution_count": 26,
     "metadata": {},
     "output_type": "execute_result"
    }
   ],
   "source": [
    "context_2 = [compute_output(t, layer, head) for t in text_2]\n",
    "compute_phrase_distances_and_homology(context_2[0], text_2[0], \"לצפות בזרחת השמש\")"
   ]
  },
  {
   "cell_type": "code",
   "execution_count": 27,
   "metadata": {},
   "outputs": [
    {
     "name": "stdout",
     "output_type": "stream",
     "text": [
      "Tokens of the sub-collection: ['▁לצפות', '▁ב', 'זר', 'חת', '▁הש', 'מש']\n",
      "Distance matrix: (6, 6)\n",
      "Distance matrix: [[0.         0.17312792 0.24782831 0.05163766 0.76418758 0.37853789]\n",
      " [0.17312792 0.         0.10603126 0.17887167 0.63746676 0.21867894]\n",
      " [0.24782831 0.10603126 0.         0.25768827 0.56187741 0.14312445]\n",
      " [0.05163766 0.17887167 0.25768827 0.         0.77824006 0.38338532]\n",
      " [0.76418758 0.63746676 0.56187741 0.77824006 0.         0.478106  ]\n",
      " [0.37853789 0.21867894 0.14312445 0.38338532 0.478106   0.        ]]\n"
     ]
    },
    {
     "data": {
      "image/png": "[encoded data removed]",
      "text/plain": [
       "<Figure size 640x480 with 1 Axes>"
      ]
     },
     "metadata": {},
     "output_type": "display_data"
    },
    {
     "name": "stdout",
     "output_type": "stream",
     "text": [
      "Tokens of the sub-collection: ['▁לצפות', '▁ב', 'זר', 'חת', '▁הש', 'מש']\n",
      "Distance matrix: (6, 6)\n",
      "Distance matrix: [[0.         0.08741289 0.13499828 0.25053419 0.62947088 0.14677012]\n",
      " [0.08741289 0.         0.16925683 0.18831603 0.65440851 0.19550471]\n",
      " [0.13499828 0.16925683 0.         0.31027584 0.51250763 0.0938616 ]\n",
      " [0.25053419 0.18831603 0.31027584 0.         0.752718   0.36164773]\n",
      " [0.62947088 0.65440851 0.51250763 0.752718   0.         0.51254775]\n",
      " [0.14677012 0.19550471 0.0938616  0.36164773 0.51254775 0.        ]]\n"
     ]
    },
    {
     "data": {
      "image/png": "[encoded data removed]",
      "text/plain": [
       "<Figure size 640x480 with 1 Axes>"
      ]
     },
     "metadata": {},
     "output_type": "display_data"
    },
    {
     "name": "stdout",
     "output_type": "stream",
     "text": [
      "Bottleneck distance: 0.03577523654893178\n",
      "Wasserstein distance: = 0.11\n"
     ]
    }
   ],
   "source": [
    "# from gudhi.wasserstein import wasserstein_distance \n",
    "# Could also be: \n",
    "from gudhi.hera import wasserstein_distance\n",
    "import numpy as np\n",
    "\n",
    "# Compute the persistent homology\n",
    "persistent_homology_1 = compute_phrase_distances_and_homology(context[0], text[0], \"לצפות בזרחת השמש\")\n",
    "persistent_homology_2 = compute_phrase_distances_and_homology(context_2[0], text_2[0], \"לצפות בזרחת השמש\")\n",
    "\n",
    "# Convert the persistent homology data to a numpy array\n",
    "persistent_homology_np_1 = np.array([[pt[1][0], pt[1][1]] for pt in persistent_homology_1 if pt[1][1] != float('inf')])\n",
    "persistent_homology_np_2 = np.array([[pt[1][0], pt[1][1]] for pt in persistent_homology_2 if pt[1][1] != float('inf')])\n",
    "\n",
    "# Compute and print the bottleneck distance\n",
    "bottleneck_dist = gd.bottleneck_distance(persistent_homology_np_1, persistent_homology_np_2)\n",
    "print(f\"Bottleneck distance: {bottleneck_dist}\")\n",
    "\n",
    "# Compute and print the Wasserstein distance\n",
    "print(f\"Wasserstein distance: = {wasserstein_distance(persistent_homology_np_1, persistent_homology_np_2, order=1., internal_p=2.):.2f}\")"
   ]
  },
  {
   "cell_type": "code",
   "execution_count": 28,
   "metadata": {},
   "outputs": [],
   "source": [
    "text_3 = [\"הלמידה העמוקה היא תת תחום של הלמידה החישובית המשתמשת ברשתות נוירוניות מלאכותיות. בעזרת אלגוריתמים מורכבים, הלמידה העמוקה מאפשרת למחשבים ללמוד מתוך נתונים מרובים המתארים מציאות מסוימת. המטרה העיקרית של הלמידה העמוקה היא חקירת איך ניתן להגיע למסקנות מדויקות באמצעות הפעלת תהליכים חישוביים מרובים.\"]\n",
    "\n",
    "text_4 = [\"חישוב קוואנטי הוא תחום במדע המחשב המתמקד בפיתוח מחשבים המבוססים על מכניקת הקוונטים. בניגוד למחשבים קלאסיים, מחשב קוואנטי מסוגל לבצע חישובים מרובים בו זמנית, מה שמאפשר לו לפתור בעיות מורכבות בצורה מהירה יותר. בחישוב הקוואנטי, המטרה העיקרית היא להגיע למסקנות מדויקות באמצעות הפעלת תהליכים חישוביים מרובים.\"]"
   ]
  },
  {
   "cell_type": "code",
   "execution_count": 29,
   "metadata": {},
   "outputs": [
    {
     "name": "stderr",
     "output_type": "stream",
     "text": [
      "Some weights of the model checkpoint at xlm-roberta-large were not used when initializing XLMRobertaModel: ['lm_head.dense.bias', 'lm_head.layer_norm.weight', 'lm_head.dense.weight', 'lm_head.bias', 'lm_head.layer_norm.bias']\n",
      "- This IS expected if you are initializing XLMRobertaModel from the checkpoint of a model trained on another task or with another architecture (e.g. initializing a BertForSequenceClassification model from a BertForPreTraining model).\n",
      "- This IS NOT expected if you are initializing XLMRobertaModel from the checkpoint of a model that you expect to be exactly identical (initializing a BertForSequenceClassification model from a BertForSequenceClassification model).\n",
      "Some weights of the model checkpoint at xlm-roberta-large were not used when initializing XLMRobertaModel: ['lm_head.dense.bias', 'lm_head.layer_norm.weight', 'lm_head.dense.weight', 'lm_head.bias', 'lm_head.layer_norm.bias']\n",
      "- This IS expected if you are initializing XLMRobertaModel from the checkpoint of a model trained on another task or with another architecture (e.g. initializing a BertForSequenceClassification model from a BertForPreTraining model).\n",
      "- This IS NOT expected if you are initializing XLMRobertaModel from the checkpoint of a model that you expect to be exactly identical (initializing a BertForSequenceClassification model from a BertForSequenceClassification model).\n"
     ]
    }
   ],
   "source": [
    "context_3 = [compute_output(t, layer, head) for t in text_3]\n",
    "\n",
    "context_4 = [compute_output(t, layer, head) for t in text_4]"
   ]
  },
  {
   "cell_type": "code",
   "execution_count": 30,
   "metadata": {},
   "outputs": [
    {
     "name": "stdout",
     "output_type": "stream",
     "text": [
      "Tokens of the sub-collection: ['▁למ', 'סק', 'נות', '▁מדויק', 'ות']\n",
      "Distance matrix: (5, 5)\n",
      "Distance matrix: [[0.         0.39548147 0.19474139 0.35149377 0.12544935]\n",
      " [0.39548147 0.         0.42738301 0.17690899 0.30770608]\n",
      " [0.19474139 0.42738301 0.         0.38546201 0.22461485]\n",
      " [0.35149377 0.17690899 0.38546201 0.         0.27036018]\n",
      " [0.12544935 0.30770608 0.22461485 0.27036018 0.        ]]\n"
     ]
    },
    {
     "data": {
      "image/png": "[encoded data removed]",
      "text/plain": [
       "<Figure size 640x480 with 1 Axes>"
      ]
     },
     "metadata": {},
     "output_type": "display_data"
    },
    {
     "name": "stdout",
     "output_type": "stream",
     "text": [
      "Tokens of the sub-collection: ['▁למ', 'סק', 'נות', '▁מדויק', 'ות']\n",
      "Distance matrix: (5, 5)\n",
      "Distance matrix: [[0.         0.49220077 0.34576436 0.30418314 0.1139401 ]\n",
      " [0.49220077 0.         0.34425439 0.24845462 0.49341467]\n",
      " [0.34576436 0.34425439 0.         0.2091165  0.35707715]\n",
      " [0.30418314 0.24845462 0.2091165  0.         0.2992162 ]\n",
      " [0.1139401  0.49341467 0.35707715 0.2992162  0.        ]]\n"
     ]
    },
    {
     "data": {
      "image/png": "[encoded data removed]",
      "text/plain": [
       "<Figure size 640x480 with 1 Axes>"
      ]
     },
     "metadata": {},
     "output_type": "display_data"
    },
    {
     "name": "stdout",
     "output_type": "stream",
     "text": [
      "Bottleneck distance: 0.05371322328720546\n",
      "Wasserstein distance: = 0.13\n"
     ]
    }
   ],
   "source": [
    "# Compute the persistent homology\n",
    "persistent_homology_1 = compute_phrase_distances_and_homology(context_3[0], text_3[0], \"למסקנות מדויקות\")\n",
    "persistent_homology_2 = compute_phrase_distances_and_homology(context_4[0], text_4[0], \"למסקנות מדויקות\")\n",
    "\n",
    "# Convert the persistent homology data to a numpy array\n",
    "persistent_homology_np_1 = np.array([[pt[1][0], pt[1][1]] for pt in persistent_homology_1 if pt[1][1] != float('inf')])\n",
    "persistent_homology_np_2 = np.array([[pt[1][0], pt[1][1]] for pt in persistent_homology_2 if pt[1][1] != float('inf')])\n",
    "\n",
    "# Compute and print the bottleneck distance\n",
    "bottleneck_dist = gd.bottleneck_distance(persistent_homology_np_1, persistent_homology_np_2)\n",
    "print(f\"Bottleneck distance: {bottleneck_dist}\")\n",
    "\n",
    "# Compute and print the Wasserstein distance\n",
    "print(f\"Wasserstein distance: = {wasserstein_distance(persistent_homology_np_1, persistent_homology_np_2, order=1., internal_p=2.):.2f}\")"
   ]
  },
  {
   "cell_type": "code",
   "execution_count": 31,
   "metadata": {},
   "outputs": [
    {
     "name": "stdout",
     "output_type": "stream",
     "text": [
      "Tokens of the sub-collection: ['▁להגיע', '▁למ', 'סק', 'נות', '▁מדויק', 'ות', '▁באמצעות', '▁ה', 'פעל', 'ת', '▁', 'תהליכים', '▁חי', 'שוב', 'יים', '▁מר', 'ובים']\n",
      "Distance matrix: (17, 17)\n",
      "Distance matrix: [[0.         0.52087494 0.81155234 0.48059471 0.74588855 0.56350004\n",
      "  0.40888587 0.80345647 0.58174985 0.64924435 1.56717351 0.66777306\n",
      "  0.86288808 0.48968338 0.380688   1.73018006 0.26486756]\n",
      " [0.52087494 0.         0.39548147 0.19474139 0.35149377 0.12544935\n",
      "  0.21891883 0.34775216 0.15282459 0.20544787 1.24676644 0.238757\n",
      "  0.47108185 0.21670581 0.17010711 1.40045206 0.28975724]\n",
      " [0.81155234 0.39548147 0.         0.42738301 0.17690899 0.30770608\n",
      "  0.42163383 0.20654466 0.32567874 0.21364177 1.04797575 0.19724854\n",
      "  0.31662319 0.37123038 0.52349868 1.14342092 0.5668621 ]\n",
      " [0.48059471 0.19474139 0.42738301 0.         0.38546201 0.22461485\n",
      "  0.18751335 0.41877991 0.19341421 0.27960444 1.29252666 0.28618054\n",
      "  0.54054051 0.25492314 0.22897749 1.43683534 0.25184185]\n",
      " [0.74588855 0.35149377 0.17690899 0.38546201 0.         0.27036018\n",
      "  0.36044654 0.19130965 0.27270941 0.20731029 0.97592817 0.17924569\n",
      "  0.23336776 0.33478194 0.47740155 1.09268897 0.51031223]\n",
      " [0.56350004 0.12544935 0.30770608 0.22461485 0.27036018 0.\n",
      "  0.22296349 0.27643288 0.13621449 0.10755173 1.1913462  0.16203569\n",
      "  0.39169129 0.17626231 0.2447385  1.33314058 0.31750172]\n",
      " [0.40888587 0.21891883 0.42163383 0.18751335 0.36044654 0.22296349\n",
      "  0.         0.43538836 0.23558435 0.28106331 1.24465485 0.28823331\n",
      "  0.50440231 0.19549899 0.20608037 1.38846438 0.18628144]\n",
      " [0.80345647 0.34775216 0.20654466 0.41877991 0.19130965 0.27643288\n",
      "  0.43538836 0.         0.30916637 0.2099968  1.0256253  0.20865268\n",
      "  0.25420485 0.35828719 0.50308867 1.15172742 0.56825836]\n",
      " [0.58174985 0.15282459 0.32567874 0.19341421 0.27270941 0.13621449\n",
      "  0.23558435 0.30916637 0.         0.16765633 1.1824969  0.16142894\n",
      "  0.42911153 0.25928635 0.27335541 1.3262898  0.32873783]\n",
      " [0.64924435 0.20544787 0.21364177 0.27960444 0.20731029 0.10755173\n",
      "  0.28106331 0.2099968  0.16765633 0.         1.13363699 0.10322464\n",
      "  0.33802846 0.22647094 0.33520631 1.26761022 0.40175797]\n",
      " [1.56717351 1.24676644 1.04797575 1.29252666 0.97592817 1.1913462\n",
      "  1.24465485 1.0256253  1.1824969  1.13363699 0.         1.12186225\n",
      "  0.8466056  1.24164024 1.351415   0.36791763 1.38950416]\n",
      " [0.66777306 0.238757   0.19724854 0.28618054 0.17924569 0.16203569\n",
      "  0.28823331 0.20865268 0.16142894 0.10322464 1.12186225 0.\n",
      "  0.34973435 0.27001108 0.3725736  1.24556407 0.41813419]\n",
      " [0.86288808 0.47108185 0.31662319 0.54054051 0.23336776 0.39169129\n",
      "  0.50440231 0.25420485 0.42911153 0.33802846 0.8466056  0.34973435\n",
      "  0.         0.45863911 0.59351223 0.97708016 0.64477571]\n",
      " [0.48968338 0.21670581 0.37123038 0.25492314 0.33478194 0.17626231\n",
      "  0.19549899 0.35828719 0.25928635 0.22647094 1.24164024 0.27001108\n",
      "  0.45863911 0.         0.2557233  1.38006543 0.28294731]\n",
      " [0.380688   0.17010711 0.52349868 0.22897749 0.47740155 0.2447385\n",
      "  0.20608037 0.50308867 0.27335541 0.33520631 1.351415   0.3725736\n",
      "  0.59351223 0.2557233  0.         1.51259918 0.18350893]\n",
      " [1.73018006 1.40045206 1.14342092 1.43683534 1.09268897 1.33314058\n",
      "  1.38846438 1.15172742 1.3262898  1.26761022 0.36791763 1.24556407\n",
      "  0.97708016 1.38006543 1.51259918 0.         1.54000502]\n",
      " [0.26486756 0.28975724 0.5668621  0.25184185 0.51031223 0.31750172\n",
      "  0.18628144 0.56825836 0.32873783 0.40175797 1.38950416 0.41813419\n",
      "  0.64477571 0.28294731 0.18350893 1.54000502 0.        ]]\n"
     ]
    },
    {
     "data": {
      "image/png": "[encoded data removed]",
      "text/plain": [
       "<Figure size 640x480 with 1 Axes>"
      ]
     },
     "metadata": {},
     "output_type": "display_data"
    },
    {
     "name": "stdout",
     "output_type": "stream",
     "text": [
      "Tokens of the sub-collection: ['▁להגיע', '▁למ', 'סק', 'נות', '▁מדויק', 'ות', '▁באמצעות', '▁ה', 'פעל', 'ת', '▁', 'תהליכים', '▁חי', 'שוב', 'יים', '▁מר', 'ובים']\n",
      "Distance matrix: (17, 17)\n",
      "Distance matrix: [[0.         0.53079672 0.91179342 0.65917724 0.69853127 0.54150936\n",
      "  0.42404059 0.92997501 0.66303137 0.65694572 1.03587471 0.61279339\n",
      "  0.79168443 0.51891129 0.3941482  1.13036303 0.31406216]\n",
      " [0.53079672 0.         0.49220077 0.34576436 0.30418314 0.1139401\n",
      "  0.20031795 0.47751018 0.23913114 0.19596181 0.64671276 0.16568927\n",
      "  0.3730505  0.14352678 0.19118447 0.72770886 0.24374784]\n",
      " [0.91179342 0.49220077 0.         0.34425439 0.24845462 0.49341467\n",
      "  0.51192777 0.19935371 0.30723095 0.3484333  0.40768331 0.42466442\n",
      "  0.40405697 0.46647565 0.65195285 0.43814614 0.65621272]\n",
      " [0.65917724 0.34576436 0.34425439 0.         0.2091165  0.35707715\n",
      "  0.27859665 0.41350607 0.20347809 0.30423386 0.58746716 0.32738178\n",
      "  0.46622908 0.31951694 0.44523834 0.66579064 0.43346293]\n",
      " [0.69853127 0.30418314 0.24845462 0.2091165  0.         0.2992162\n",
      "  0.29835408 0.27134501 0.17817809 0.18769878 0.45927864 0.23629513\n",
      "  0.31864279 0.27236535 0.44953708 0.5175203  0.43798404]\n",
      " [0.54150936 0.1139401  0.49341467 0.35707715 0.2992162  0.\n",
      "  0.22160285 0.4755125  0.25336524 0.15954738 0.60179153 0.12649036\n",
      "  0.33010041 0.14419394 0.21585049 0.6944158  0.23559795]\n",
      " [0.42404059 0.20031795 0.51192777 0.27859665 0.29835408 0.22160285\n",
      "  0.         0.53661189 0.2681457  0.27621344 0.68717946 0.24386761\n",
      "  0.45940846 0.18884163 0.22655084 0.76909832 0.1867246 ]\n",
      " [0.92997501 0.47751018 0.19935371 0.41350607 0.27134501 0.4755125\n",
      "  0.53661189 0.         0.3551151  0.34010296 0.34932981 0.40799978\n",
      "  0.32930291 0.46898694 0.65018183 0.41552804 0.66241042]\n",
      " [0.66303137 0.23913114 0.30723095 0.20347809 0.17817809 0.25336524\n",
      "  0.2681457  0.3551151  0.         0.18634861 0.56984058 0.21535397\n",
      "  0.37767913 0.24489727 0.38629442 0.62330557 0.39318827]\n",
      " [0.65694572 0.19596181 0.3484333  0.30423386 0.18769878 0.15954738\n",
      "  0.27621344 0.34010296 0.18634861 0.         0.47849097 0.12191767\n",
      "  0.24543544 0.18567991 0.34658025 0.56518597 0.36107805]\n",
      " [1.03587471 0.64671276 0.40768331 0.58746716 0.45927864 0.60179153\n",
      "  0.68717946 0.34932981 0.56984058 0.47849097 0.         0.56390558\n",
      "  0.35899365 0.60016812 0.77475611 0.37618835 0.7782945 ]\n",
      " [0.61279339 0.16568927 0.42466442 0.32738178 0.23629513 0.12649036\n",
      "  0.24386761 0.40799978 0.21535397 0.12191767 0.56390558 0.\n",
      "  0.31957352 0.19527328 0.30800457 0.63059782 0.31573076]\n",
      " [0.79168443 0.3730505  0.40405697 0.46622908 0.31864279 0.33010041\n",
      "  0.45940846 0.32930291 0.37767913 0.24543544 0.35899365 0.31957352\n",
      "  0.         0.3688192  0.50725995 0.44226409 0.51047524]\n",
      " [0.51891129 0.14352678 0.46647565 0.31951694 0.27236535 0.14419394\n",
      "  0.18884163 0.46898694 0.24489727 0.18567991 0.60016812 0.19527328\n",
      "  0.3688192  0.         0.21288519 0.70863516 0.24514261]\n",
      " [0.3941482  0.19118447 0.65195285 0.44523834 0.44953708 0.21585049\n",
      "  0.22655084 0.65018183 0.38629442 0.34658025 0.77475611 0.30800457\n",
      "  0.50725995 0.21288519 0.         0.87670396 0.14946082]\n",
      " [1.13036303 0.72770886 0.43814614 0.66579064 0.5175203  0.6944158\n",
      "  0.76909832 0.41552804 0.62330557 0.56518597 0.37618835 0.63059782\n",
      "  0.44226409 0.70863516 0.87670396 0.         0.86425654]\n",
      " [0.31406216 0.24374784 0.65621272 0.43346293 0.43798404 0.23559795\n",
      "  0.1867246  0.66241042 0.39318827 0.36107805 0.7782945  0.31573076\n",
      "  0.51047524 0.24514261 0.14946082 0.86425654 0.        ]]\n"
     ]
    },
    {
     "data": {
      "image/png": "[encoded data removed]",
      "text/plain": [
       "<Figure size 640x480 with 1 Axes>"
      ]
     },
     "metadata": {},
     "output_type": "display_data"
    },
    {
     "name": "stdout",
     "output_type": "stream",
     "text": [
      "Bottleneck distance: 0.4233027999570731\n",
      "Wasserstein distance: = 0.74\n"
     ]
    }
   ],
   "source": [
    "# Compute the persistent homology\n",
    "persistent_homology_1 = compute_phrase_distances_and_homology(context_3[0], text_3[0],  \"להגיע למסקנות מדויקות באמצעות הפעלת תהליכים חישוביים מרובים\")\n",
    "persistent_homology_2 = compute_phrase_distances_and_homology(context_4[0], text_4[0],  \"להגיע למסקנות מדויקות באמצעות הפעלת תהליכים חישוביים מרובים\")\n",
    "\n",
    "# Convert the persistent homology data to a numpy array\n",
    "persistent_homology_np_1 = np.array([[pt[1][0], pt[1][1]] for pt in persistent_homology_1 if pt[1][1] != float('inf')])\n",
    "persistent_homology_np_2 = np.array([[pt[1][0], pt[1][1]] for pt in persistent_homology_2 if pt[1][1] != float('inf')])\n",
    "\n",
    "# Compute and print the bottleneck distance\n",
    "bottleneck_dist = gd.bottleneck_distance(persistent_homology_np_1, persistent_homology_np_2)\n",
    "print(f\"Bottleneck distance: {bottleneck_dist}\")\n",
    "\n",
    "# Compute and print the Wasserstein distance\n",
    "print(f\"Wasserstein distance: = {wasserstein_distance(persistent_homology_np_1, persistent_homology_np_2, order=1., internal_p=2.):.2f}\")"
   ]
  },
  {
   "cell_type": "code",
   "execution_count": null,
   "metadata": {},
   "outputs": [],
   "source": []
  }
 ],
 "metadata": {
  "kernelspec": {
   "display_name": "env_1",
   "language": "python",
   "name": "python3"
  },
  "language_info": {
   "codemirror_mode": {
    "name": "ipython",
    "version": 3
   },
   "file_extension": ".py",
   "mimetype": "text/x-python",
   "name": "python",
   "nbconvert_exporter": "python",
   "pygments_lexer": "ipython3",
   "version": "3.10.11"
  },
  "orig_nbformat": 4
 },
 "nbformat": 4,
 "nbformat_minor": 2
}
